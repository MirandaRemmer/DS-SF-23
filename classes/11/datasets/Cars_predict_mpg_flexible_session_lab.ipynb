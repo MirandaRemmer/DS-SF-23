{
 "cells": [
  {
   "cell_type": "code",
   "execution_count": 168,
   "metadata": {
    "collapsed": true
   },
   "outputs": [],
   "source": [
    "import os\n",
    "import numpy as np\n",
    "import pandas as pd\n",
    "import csv\n",
    "import matplotlib.pyplot as plt\n",
    "import seaborn as sns\n",
    "import statsmodels.api as sm\n",
    "import statsmodels.formula.api as smf\n",
    "from sklearn import linear_model, metrics, cross_validation\n",
    "\n",
    "pd.set_option('display.max_rows', 10)\n",
    "pd.set_option('display.notebook_repr_html', True)\n",
    "pd.set_option('display.max_columns', 10)\n",
    "\n",
    "%matplotlib inline\n",
    "plt.style.use('ggplot')\n",
    "\n",
    "pd.set_option('display.max_rows', 10)\n",
    "pd.set_option('display.notebook_repr_html', True)\n",
    "pd.set_option('display.max_columns', 10)"
   ]
  },
  {
   "cell_type": "code",
   "execution_count": 91,
   "metadata": {
    "collapsed": true
   },
   "outputs": [],
   "source": [
    "df = pd.read_csv(os.path.join('..', 'datasets', 'auto-mpg.csv'))"
   ]
  },
  {
   "cell_type": "code",
   "execution_count": 92,
   "metadata": {
    "collapsed": false
   },
   "outputs": [
    {
     "data": {
      "text/html": [
       "<div>\n",
       "<table border=\"1\" class=\"dataframe\">\n",
       "  <thead>\n",
       "    <tr style=\"text-align: right;\">\n",
       "      <th></th>\n",
       "      <th>mpg</th>\n",
       "      <th>cylinders</th>\n",
       "      <th>displacement</th>\n",
       "      <th>horsepower</th>\n",
       "      <th>weight</th>\n",
       "      <th>acceleration</th>\n",
       "      <th>model_year</th>\n",
       "      <th>origin</th>\n",
       "      <th>car_name</th>\n",
       "    </tr>\n",
       "  </thead>\n",
       "  <tbody>\n",
       "    <tr>\n",
       "      <th>0</th>\n",
       "      <td>18.0</td>\n",
       "      <td>8</td>\n",
       "      <td>307.0</td>\n",
       "      <td>130.0</td>\n",
       "      <td>3504.0</td>\n",
       "      <td>12.0</td>\n",
       "      <td>70</td>\n",
       "      <td>1</td>\n",
       "      <td>chevrolet chevelle malibu</td>\n",
       "    </tr>\n",
       "    <tr>\n",
       "      <th>1</th>\n",
       "      <td>15.0</td>\n",
       "      <td>8</td>\n",
       "      <td>350.0</td>\n",
       "      <td>165.0</td>\n",
       "      <td>3693.0</td>\n",
       "      <td>11.5</td>\n",
       "      <td>70</td>\n",
       "      <td>1</td>\n",
       "      <td>buick skylark 320</td>\n",
       "    </tr>\n",
       "    <tr>\n",
       "      <th>2</th>\n",
       "      <td>18.0</td>\n",
       "      <td>8</td>\n",
       "      <td>318.0</td>\n",
       "      <td>150.0</td>\n",
       "      <td>3436.0</td>\n",
       "      <td>11.0</td>\n",
       "      <td>70</td>\n",
       "      <td>1</td>\n",
       "      <td>plymouth satellite</td>\n",
       "    </tr>\n",
       "    <tr>\n",
       "      <th>3</th>\n",
       "      <td>16.0</td>\n",
       "      <td>8</td>\n",
       "      <td>304.0</td>\n",
       "      <td>150.0</td>\n",
       "      <td>3433.0</td>\n",
       "      <td>12.0</td>\n",
       "      <td>70</td>\n",
       "      <td>1</td>\n",
       "      <td>amc rebel sst</td>\n",
       "    </tr>\n",
       "    <tr>\n",
       "      <th>4</th>\n",
       "      <td>17.0</td>\n",
       "      <td>8</td>\n",
       "      <td>302.0</td>\n",
       "      <td>140.0</td>\n",
       "      <td>3449.0</td>\n",
       "      <td>10.5</td>\n",
       "      <td>70</td>\n",
       "      <td>1</td>\n",
       "      <td>ford torino</td>\n",
       "    </tr>\n",
       "    <tr>\n",
       "      <th>...</th>\n",
       "      <td>...</td>\n",
       "      <td>...</td>\n",
       "      <td>...</td>\n",
       "      <td>...</td>\n",
       "      <td>...</td>\n",
       "      <td>...</td>\n",
       "      <td>...</td>\n",
       "      <td>...</td>\n",
       "      <td>...</td>\n",
       "    </tr>\n",
       "    <tr>\n",
       "      <th>393</th>\n",
       "      <td>27.0</td>\n",
       "      <td>4</td>\n",
       "      <td>140.0</td>\n",
       "      <td>86.0</td>\n",
       "      <td>2790.0</td>\n",
       "      <td>15.6</td>\n",
       "      <td>82</td>\n",
       "      <td>1</td>\n",
       "      <td>ford mustang gl</td>\n",
       "    </tr>\n",
       "    <tr>\n",
       "      <th>394</th>\n",
       "      <td>44.0</td>\n",
       "      <td>4</td>\n",
       "      <td>97.0</td>\n",
       "      <td>52.0</td>\n",
       "      <td>2130.0</td>\n",
       "      <td>24.6</td>\n",
       "      <td>82</td>\n",
       "      <td>2</td>\n",
       "      <td>vw pickup</td>\n",
       "    </tr>\n",
       "    <tr>\n",
       "      <th>395</th>\n",
       "      <td>32.0</td>\n",
       "      <td>4</td>\n",
       "      <td>135.0</td>\n",
       "      <td>84.0</td>\n",
       "      <td>2295.0</td>\n",
       "      <td>11.6</td>\n",
       "      <td>82</td>\n",
       "      <td>1</td>\n",
       "      <td>dodge rampage</td>\n",
       "    </tr>\n",
       "    <tr>\n",
       "      <th>396</th>\n",
       "      <td>28.0</td>\n",
       "      <td>4</td>\n",
       "      <td>120.0</td>\n",
       "      <td>79.0</td>\n",
       "      <td>2625.0</td>\n",
       "      <td>18.6</td>\n",
       "      <td>82</td>\n",
       "      <td>1</td>\n",
       "      <td>ford ranger</td>\n",
       "    </tr>\n",
       "    <tr>\n",
       "      <th>397</th>\n",
       "      <td>31.0</td>\n",
       "      <td>4</td>\n",
       "      <td>119.0</td>\n",
       "      <td>82.0</td>\n",
       "      <td>2720.0</td>\n",
       "      <td>19.4</td>\n",
       "      <td>82</td>\n",
       "      <td>1</td>\n",
       "      <td>chevy s-10</td>\n",
       "    </tr>\n",
       "  </tbody>\n",
       "</table>\n",
       "<p>398 rows × 9 columns</p>\n",
       "</div>"
      ],
      "text/plain": [
       "      mpg  cylinders  displacement  horsepower  weight  acceleration  \\\n",
       "0    18.0          8         307.0       130.0  3504.0          12.0   \n",
       "1    15.0          8         350.0       165.0  3693.0          11.5   \n",
       "2    18.0          8         318.0       150.0  3436.0          11.0   \n",
       "3    16.0          8         304.0       150.0  3433.0          12.0   \n",
       "4    17.0          8         302.0       140.0  3449.0          10.5   \n",
       "..    ...        ...           ...         ...     ...           ...   \n",
       "393  27.0          4         140.0        86.0  2790.0          15.6   \n",
       "394  44.0          4          97.0        52.0  2130.0          24.6   \n",
       "395  32.0          4         135.0        84.0  2295.0          11.6   \n",
       "396  28.0          4         120.0        79.0  2625.0          18.6   \n",
       "397  31.0          4         119.0        82.0  2720.0          19.4   \n",
       "\n",
       "     model_year  origin                   car_name  \n",
       "0            70       1  chevrolet chevelle malibu  \n",
       "1            70       1          buick skylark 320  \n",
       "2            70       1         plymouth satellite  \n",
       "3            70       1              amc rebel sst  \n",
       "4            70       1                ford torino  \n",
       "..          ...     ...                        ...  \n",
       "393          82       1            ford mustang gl  \n",
       "394          82       2                  vw pickup  \n",
       "395          82       1              dodge rampage  \n",
       "396          82       1                ford ranger  \n",
       "397          82       1                 chevy s-10  \n",
       "\n",
       "[398 rows x 9 columns]"
      ]
     },
     "execution_count": 92,
     "metadata": {},
     "output_type": "execute_result"
    }
   ],
   "source": [
    "df"
   ]
  },
  {
   "cell_type": "markdown",
   "metadata": {},
   "source": [
    "### CLEAN UP DATA SET"
   ]
  },
  {
   "cell_type": "code",
   "execution_count": 93,
   "metadata": {
    "collapsed": false
   },
   "outputs": [
    {
     "data": {
      "text/plain": [
       "Index([u'mpg', u'cylinders', u'displacement', u'horsepower', u'weight',\n",
       "       u'acceleration', u'model_year', u'car_name'],\n",
       "      dtype='object')"
      ]
     },
     "execution_count": 93,
     "metadata": {},
     "output_type": "execute_result"
    }
   ],
   "source": [
    "df.drop('origin', axis = 1, inplace = True)\n",
    "df.columns"
   ]
  },
  {
   "cell_type": "code",
   "execution_count": 94,
   "metadata": {
    "collapsed": false
   },
   "outputs": [
    {
     "data": {
      "text/plain": [
       "array([8, 4, 6, 3, 5])"
      ]
     },
     "execution_count": 94,
     "metadata": {},
     "output_type": "execute_result"
    }
   ],
   "source": [
    "df.cylinders.unique()"
   ]
  },
  {
   "cell_type": "code",
   "execution_count": 95,
   "metadata": {
    "collapsed": false
   },
   "outputs": [
    {
     "data": {
      "text/plain": [
       "array([ 307. ,  350. ,  318. ,  304. ,  302. ,  429. ,  454. ,  440. ,\n",
       "        455. ,  390. ,  383. ,  340. ,  400. ,  113. ,  198. ,  199. ,\n",
       "        200. ,   97. ,  110. ,  107. ,  104. ,  121. ,  360. ,  140. ,\n",
       "         98. ,  232. ,  225. ,  250. ,  351. ,  258. ,  122. ,  116. ,\n",
       "         79. ,   88. ,   71. ,   72. ,   91. ,   97.5,   70. ,  120. ,\n",
       "         96. ,  108. ,  155. ,   68. ,  114. ,  156. ,   76. ,   83. ,\n",
       "         90. ,  231. ,  262. ,  134. ,  119. ,  171. ,  115. ,  101. ,\n",
       "        305. ,   85. ,  130. ,  168. ,  111. ,  260. ,  151. ,  146. ,\n",
       "         80. ,   78. ,  105. ,  131. ,  163. ,   89. ,  267. ,   86. ,\n",
       "        183. ,  141. ,  173. ,  135. ,   81. ,  100. ,  145. ,  112. ,\n",
       "        181. ,  144. ])"
      ]
     },
     "execution_count": 95,
     "metadata": {},
     "output_type": "execute_result"
    }
   ],
   "source": [
    "df.displacement.unique()"
   ]
  },
  {
   "cell_type": "code",
   "execution_count": 96,
   "metadata": {
    "collapsed": false
   },
   "outputs": [
    {
     "data": {
      "text/plain": [
       "array([70, 71, 72, 73, 74, 75, 76, 77, 78, 79, 80, 81, 82])"
      ]
     },
     "execution_count": 96,
     "metadata": {},
     "output_type": "execute_result"
    }
   ],
   "source": [
    "df.model_year.unique()"
   ]
  },
  {
   "cell_type": "markdown",
   "metadata": {},
   "source": [
    "## Correlation"
   ]
  },
  {
   "cell_type": "code",
   "execution_count": 97,
   "metadata": {
    "collapsed": false
   },
   "outputs": [
    {
     "data": {
      "text/html": [
       "<div>\n",
       "<table border=\"1\" class=\"dataframe\">\n",
       "  <thead>\n",
       "    <tr style=\"text-align: right;\">\n",
       "      <th></th>\n",
       "      <th>mpg</th>\n",
       "      <th>cylinders</th>\n",
       "      <th>displacement</th>\n",
       "      <th>horsepower</th>\n",
       "      <th>weight</th>\n",
       "      <th>acceleration</th>\n",
       "      <th>model_year</th>\n",
       "    </tr>\n",
       "  </thead>\n",
       "  <tbody>\n",
       "    <tr>\n",
       "      <th>mpg</th>\n",
       "      <td>1.000000</td>\n",
       "      <td>-0.775396</td>\n",
       "      <td>-0.804203</td>\n",
       "      <td>-0.778427</td>\n",
       "      <td>-0.831741</td>\n",
       "      <td>0.420289</td>\n",
       "      <td>0.579267</td>\n",
       "    </tr>\n",
       "    <tr>\n",
       "      <th>cylinders</th>\n",
       "      <td>-0.775396</td>\n",
       "      <td>1.000000</td>\n",
       "      <td>0.950721</td>\n",
       "      <td>0.842983</td>\n",
       "      <td>0.896017</td>\n",
       "      <td>-0.505419</td>\n",
       "      <td>-0.348746</td>\n",
       "    </tr>\n",
       "    <tr>\n",
       "      <th>displacement</th>\n",
       "      <td>-0.804203</td>\n",
       "      <td>0.950721</td>\n",
       "      <td>1.000000</td>\n",
       "      <td>0.897257</td>\n",
       "      <td>0.932824</td>\n",
       "      <td>-0.543684</td>\n",
       "      <td>-0.370164</td>\n",
       "    </tr>\n",
       "    <tr>\n",
       "      <th>horsepower</th>\n",
       "      <td>-0.778427</td>\n",
       "      <td>0.842983</td>\n",
       "      <td>0.897257</td>\n",
       "      <td>1.000000</td>\n",
       "      <td>0.864538</td>\n",
       "      <td>-0.689196</td>\n",
       "      <td>-0.416361</td>\n",
       "    </tr>\n",
       "    <tr>\n",
       "      <th>weight</th>\n",
       "      <td>-0.831741</td>\n",
       "      <td>0.896017</td>\n",
       "      <td>0.932824</td>\n",
       "      <td>0.864538</td>\n",
       "      <td>1.000000</td>\n",
       "      <td>-0.417457</td>\n",
       "      <td>-0.306564</td>\n",
       "    </tr>\n",
       "    <tr>\n",
       "      <th>acceleration</th>\n",
       "      <td>0.420289</td>\n",
       "      <td>-0.505419</td>\n",
       "      <td>-0.543684</td>\n",
       "      <td>-0.689196</td>\n",
       "      <td>-0.417457</td>\n",
       "      <td>1.000000</td>\n",
       "      <td>0.288137</td>\n",
       "    </tr>\n",
       "    <tr>\n",
       "      <th>model_year</th>\n",
       "      <td>0.579267</td>\n",
       "      <td>-0.348746</td>\n",
       "      <td>-0.370164</td>\n",
       "      <td>-0.416361</td>\n",
       "      <td>-0.306564</td>\n",
       "      <td>0.288137</td>\n",
       "      <td>1.000000</td>\n",
       "    </tr>\n",
       "  </tbody>\n",
       "</table>\n",
       "</div>"
      ],
      "text/plain": [
       "                   mpg  cylinders  displacement  horsepower    weight  \\\n",
       "mpg           1.000000  -0.775396     -0.804203   -0.778427 -0.831741   \n",
       "cylinders    -0.775396   1.000000      0.950721    0.842983  0.896017   \n",
       "displacement -0.804203   0.950721      1.000000    0.897257  0.932824   \n",
       "horsepower   -0.778427   0.842983      0.897257    1.000000  0.864538   \n",
       "weight       -0.831741   0.896017      0.932824    0.864538  1.000000   \n",
       "acceleration  0.420289  -0.505419     -0.543684   -0.689196 -0.417457   \n",
       "model_year    0.579267  -0.348746     -0.370164   -0.416361 -0.306564   \n",
       "\n",
       "              acceleration  model_year  \n",
       "mpg               0.420289    0.579267  \n",
       "cylinders        -0.505419   -0.348746  \n",
       "displacement     -0.543684   -0.370164  \n",
       "horsepower       -0.689196   -0.416361  \n",
       "weight           -0.417457   -0.306564  \n",
       "acceleration      1.000000    0.288137  \n",
       "model_year        0.288137    1.000000  "
      ]
     },
     "execution_count": 97,
     "metadata": {},
     "output_type": "execute_result"
    }
   ],
   "source": [
    "df.corr()"
   ]
  },
  {
   "cell_type": "code",
   "execution_count": 98,
   "metadata": {
    "collapsed": false
   },
   "outputs": [],
   "source": [
    "y = df.mpg\n",
    "x = df[ ['cylinders','displacement', 'horsepower', 'weight', 'acceleration', 'model_year']]"
   ]
  },
  {
   "cell_type": "code",
   "execution_count": 99,
   "metadata": {
    "collapsed": false
   },
   "outputs": [
    {
     "data": {
      "text/html": [
       "<table class=\"simpletable\">\n",
       "<caption>OLS Regression Results</caption>\n",
       "<tr>\n",
       "  <th>Dep. Variable:</th>            <td>y</td>        <th>  R-squared:         </th> <td>   0.809</td> \n",
       "</tr>\n",
       "<tr>\n",
       "  <th>Model:</th>                   <td>OLS</td>       <th>  Adj. R-squared:    </th> <td>   0.806</td> \n",
       "</tr>\n",
       "<tr>\n",
       "  <th>Method:</th>             <td>Least Squares</td>  <th>  F-statistic:       </th> <td>   272.2</td> \n",
       "</tr>\n",
       "<tr>\n",
       "  <th>Date:</th>             <td>Thu, 09 Jun 2016</td> <th>  Prob (F-statistic):</th> <td>3.79e-135</td>\n",
       "</tr>\n",
       "<tr>\n",
       "  <th>Time:</th>                 <td>19:29:46</td>     <th>  Log-Likelihood:    </th> <td> -1036.5</td> \n",
       "</tr>\n",
       "<tr>\n",
       "  <th>No. Observations:</th>      <td>   392</td>      <th>  AIC:               </th> <td>   2087.</td> \n",
       "</tr>\n",
       "<tr>\n",
       "  <th>Df Residuals:</th>          <td>   385</td>      <th>  BIC:               </th> <td>   2115.</td> \n",
       "</tr>\n",
       "<tr>\n",
       "  <th>Df Model:</th>              <td>     6</td>      <th>                     </th>     <td> </td>    \n",
       "</tr>\n",
       "<tr>\n",
       "  <th>Covariance Type:</th>      <td>nonrobust</td>    <th>                     </th>     <td> </td>    \n",
       "</tr>\n",
       "</table>\n",
       "<table class=\"simpletable\">\n",
       "<tr>\n",
       "      <td></td>         <th>coef</th>     <th>std err</th>      <th>t</th>      <th>P>|t|</th> <th>[95.0% Conf. Int.]</th> \n",
       "</tr>\n",
       "<tr>\n",
       "  <th>Intercept</th> <td>  -14.5353</td> <td>    4.764</td> <td>   -3.051</td> <td> 0.002</td> <td>  -23.902    -5.169</td>\n",
       "</tr>\n",
       "<tr>\n",
       "  <th>x[0]</th>      <td>   -0.3299</td> <td>    0.332</td> <td>   -0.993</td> <td> 0.321</td> <td>   -0.983     0.323</td>\n",
       "</tr>\n",
       "<tr>\n",
       "  <th>x[1]</th>      <td>    0.0077</td> <td>    0.007</td> <td>    1.044</td> <td> 0.297</td> <td>   -0.007     0.022</td>\n",
       "</tr>\n",
       "<tr>\n",
       "  <th>x[2]</th>      <td>   -0.0004</td> <td>    0.014</td> <td>   -0.028</td> <td> 0.977</td> <td>   -0.028     0.027</td>\n",
       "</tr>\n",
       "<tr>\n",
       "  <th>x[3]</th>      <td>   -0.0068</td> <td>    0.001</td> <td>  -10.141</td> <td> 0.000</td> <td>   -0.008    -0.005</td>\n",
       "</tr>\n",
       "<tr>\n",
       "  <th>x[4]</th>      <td>    0.0853</td> <td>    0.102</td> <td>    0.836</td> <td> 0.404</td> <td>   -0.115     0.286</td>\n",
       "</tr>\n",
       "<tr>\n",
       "  <th>x[5]</th>      <td>    0.7534</td> <td>    0.053</td> <td>   14.318</td> <td> 0.000</td> <td>    0.650     0.857</td>\n",
       "</tr>\n",
       "</table>\n",
       "<table class=\"simpletable\">\n",
       "<tr>\n",
       "  <th>Omnibus:</th>       <td>37.865</td> <th>  Durbin-Watson:     </th> <td>   1.232</td>\n",
       "</tr>\n",
       "<tr>\n",
       "  <th>Prob(Omnibus):</th> <td> 0.000</td> <th>  Jarque-Bera (JB):  </th> <td>  60.248</td>\n",
       "</tr>\n",
       "<tr>\n",
       "  <th>Skew:</th>          <td> 0.630</td> <th>  Prob(JB):          </th> <td>8.26e-14</td>\n",
       "</tr>\n",
       "<tr>\n",
       "  <th>Kurtosis:</th>      <td> 4.449</td> <th>  Cond. No.          </th> <td>8.53e+04</td>\n",
       "</tr>\n",
       "</table>"
      ],
      "text/plain": [
       "<class 'statsmodels.iolib.summary.Summary'>\n",
       "\"\"\"\n",
       "                            OLS Regression Results                            \n",
       "==============================================================================\n",
       "Dep. Variable:                      y   R-squared:                       0.809\n",
       "Model:                            OLS   Adj. R-squared:                  0.806\n",
       "Method:                 Least Squares   F-statistic:                     272.2\n",
       "Date:                Thu, 09 Jun 2016   Prob (F-statistic):          3.79e-135\n",
       "Time:                        19:29:46   Log-Likelihood:                -1036.5\n",
       "No. Observations:                 392   AIC:                             2087.\n",
       "Df Residuals:                     385   BIC:                             2115.\n",
       "Df Model:                           6                                         \n",
       "Covariance Type:            nonrobust                                         \n",
       "==============================================================================\n",
       "                 coef    std err          t      P>|t|      [95.0% Conf. Int.]\n",
       "------------------------------------------------------------------------------\n",
       "Intercept    -14.5353      4.764     -3.051      0.002       -23.902    -5.169\n",
       "x[0]          -0.3299      0.332     -0.993      0.321        -0.983     0.323\n",
       "x[1]           0.0077      0.007      1.044      0.297        -0.007     0.022\n",
       "x[2]          -0.0004      0.014     -0.028      0.977        -0.028     0.027\n",
       "x[3]          -0.0068      0.001    -10.141      0.000        -0.008    -0.005\n",
       "x[4]           0.0853      0.102      0.836      0.404        -0.115     0.286\n",
       "x[5]           0.7534      0.053     14.318      0.000         0.650     0.857\n",
       "==============================================================================\n",
       "Omnibus:                       37.865   Durbin-Watson:                   1.232\n",
       "Prob(Omnibus):                  0.000   Jarque-Bera (JB):               60.248\n",
       "Skew:                           0.630   Prob(JB):                     8.26e-14\n",
       "Kurtosis:                       4.449   Cond. No.                     8.53e+04\n",
       "==============================================================================\n",
       "\n",
       "Warnings:\n",
       "[1] Standard Errors assume that the covariance matrix of the errors is correctly specified.\n",
       "[2] The condition number is large, 8.53e+04. This might indicate that there are\n",
       "strong multicollinearity or other numerical problems.\n",
       "\"\"\""
      ]
     },
     "execution_count": 99,
     "metadata": {},
     "output_type": "execute_result"
    }
   ],
   "source": [
    "model = smf.ols(formula = 'y ~ x ', data = df).fit()\n",
    "model.summary()"
   ]
  },
  {
   "cell_type": "code",
   "execution_count": 100,
   "metadata": {
    "collapsed": false
   },
   "outputs": [
    {
     "data": {
      "text/html": [
       "<table class=\"simpletable\">\n",
       "<caption>OLS Regression Results</caption>\n",
       "<tr>\n",
       "  <th>Dep. Variable:</th>           <td>mpg</td>       <th>  R-squared:         </th> <td>   0.336</td>\n",
       "</tr>\n",
       "<tr>\n",
       "  <th>Model:</th>                   <td>OLS</td>       <th>  Adj. R-squared:    </th> <td>   0.334</td>\n",
       "</tr>\n",
       "<tr>\n",
       "  <th>Method:</th>             <td>Least Squares</td>  <th>  F-statistic:       </th> <td>   200.0</td>\n",
       "</tr>\n",
       "<tr>\n",
       "  <th>Date:</th>             <td>Thu, 09 Jun 2016</td> <th>  Prob (F-statistic):</th> <td>4.84e-37</td>\n",
       "</tr>\n",
       "<tr>\n",
       "  <th>Time:</th>                 <td>19:29:46</td>     <th>  Log-Likelihood:    </th> <td> -1301.2</td>\n",
       "</tr>\n",
       "<tr>\n",
       "  <th>No. Observations:</th>      <td>   398</td>      <th>  AIC:               </th> <td>   2606.</td>\n",
       "</tr>\n",
       "<tr>\n",
       "  <th>Df Residuals:</th>          <td>   396</td>      <th>  BIC:               </th> <td>   2614.</td>\n",
       "</tr>\n",
       "<tr>\n",
       "  <th>Df Model:</th>              <td>     1</td>      <th>                     </th>     <td> </td>   \n",
       "</tr>\n",
       "<tr>\n",
       "  <th>Covariance Type:</th>      <td>nonrobust</td>    <th>                     </th>     <td> </td>   \n",
       "</tr>\n",
       "</table>\n",
       "<table class=\"simpletable\">\n",
       "<tr>\n",
       "       <td></td>         <th>coef</th>     <th>std err</th>      <th>t</th>      <th>P>|t|</th> <th>[95.0% Conf. Int.]</th> \n",
       "</tr>\n",
       "<tr>\n",
       "  <th>Intercept</th>  <td>  -69.5556</td> <td>    6.589</td> <td>  -10.556</td> <td> 0.000</td> <td>  -82.510   -56.602</td>\n",
       "</tr>\n",
       "<tr>\n",
       "  <th>model_year</th> <td>    1.2244</td> <td>    0.087</td> <td>   14.141</td> <td> 0.000</td> <td>    1.054     1.395</td>\n",
       "</tr>\n",
       "</table>\n",
       "<table class=\"simpletable\">\n",
       "<tr>\n",
       "  <th>Omnibus:</th>       <td>22.686</td> <th>  Durbin-Watson:     </th> <td>   0.770</td>\n",
       "</tr>\n",
       "<tr>\n",
       "  <th>Prob(Omnibus):</th> <td> 0.000</td> <th>  Jarque-Bera (JB):  </th> <td>  16.247</td>\n",
       "</tr>\n",
       "<tr>\n",
       "  <th>Skew:</th>          <td> 0.383</td> <th>  Prob(JB):          </th> <td>0.000297</td>\n",
       "</tr>\n",
       "<tr>\n",
       "  <th>Kurtosis:</th>      <td> 2.373</td> <th>  Cond. No.          </th> <td>1.57e+03</td>\n",
       "</tr>\n",
       "</table>"
      ],
      "text/plain": [
       "<class 'statsmodels.iolib.summary.Summary'>\n",
       "\"\"\"\n",
       "                            OLS Regression Results                            \n",
       "==============================================================================\n",
       "Dep. Variable:                    mpg   R-squared:                       0.336\n",
       "Model:                            OLS   Adj. R-squared:                  0.334\n",
       "Method:                 Least Squares   F-statistic:                     200.0\n",
       "Date:                Thu, 09 Jun 2016   Prob (F-statistic):           4.84e-37\n",
       "Time:                        19:29:46   Log-Likelihood:                -1301.2\n",
       "No. Observations:                 398   AIC:                             2606.\n",
       "Df Residuals:                     396   BIC:                             2614.\n",
       "Df Model:                           1                                         \n",
       "Covariance Type:            nonrobust                                         \n",
       "==============================================================================\n",
       "                 coef    std err          t      P>|t|      [95.0% Conf. Int.]\n",
       "------------------------------------------------------------------------------\n",
       "Intercept    -69.5556      6.589    -10.556      0.000       -82.510   -56.602\n",
       "model_year     1.2244      0.087     14.141      0.000         1.054     1.395\n",
       "==============================================================================\n",
       "Omnibus:                       22.686   Durbin-Watson:                   0.770\n",
       "Prob(Omnibus):                  0.000   Jarque-Bera (JB):               16.247\n",
       "Skew:                           0.383   Prob(JB):                     0.000297\n",
       "Kurtosis:                       2.373   Cond. No.                     1.57e+03\n",
       "==============================================================================\n",
       "\n",
       "Warnings:\n",
       "[1] Standard Errors assume that the covariance matrix of the errors is correctly specified.\n",
       "[2] The condition number is large, 1.57e+03. This might indicate that there are\n",
       "strong multicollinearity or other numerical problems.\n",
       "\"\"\""
      ]
     },
     "execution_count": 100,
     "metadata": {},
     "output_type": "execute_result"
    }
   ],
   "source": [
    "model = smf.ols(formula = 'mpg ~ model_year', data = df).fit()\n",
    "model.summary()"
   ]
  },
  {
   "cell_type": "code",
   "execution_count": 101,
   "metadata": {
    "collapsed": false
   },
   "outputs": [
    {
     "data": {
      "text/plain": [
       "<seaborn.axisgrid.FacetGrid at 0x11da3e310>"
      ]
     },
     "execution_count": 101,
     "metadata": {},
     "output_type": "execute_result"
    },
    {
     "data": {
      "image/png": "[encoded data removed]",
      "text/plain": [
       "<matplotlib.figure.Figure at 0x11e171c90>"
      ]
     },
     "metadata": {},
     "output_type": "display_data"
    }
   ],
   "source": [
    "sns.lmplot('mpg', 'model_year', df)"
   ]
  },
  {
   "cell_type": "code",
   "execution_count": 102,
   "metadata": {
    "collapsed": true
   },
   "outputs": [],
   "source": [
    "model = smf.ols(formula = 'mpg ~ acceleration + model_year + acceleration * model_year', data = df).fit()"
   ]
  },
  {
   "cell_type": "code",
   "execution_count": 103,
   "metadata": {
    "collapsed": false
   },
   "outputs": [
    {
     "data": {
      "text/html": [
       "<table class=\"simpletable\">\n",
       "<caption>OLS Regression Results</caption>\n",
       "<tr>\n",
       "  <th>Dep. Variable:</th>           <td>mpg</td>       <th>  R-squared:         </th> <td>   0.407</td>\n",
       "</tr>\n",
       "<tr>\n",
       "  <th>Model:</th>                   <td>OLS</td>       <th>  Adj. R-squared:    </th> <td>   0.402</td>\n",
       "</tr>\n",
       "<tr>\n",
       "  <th>Method:</th>             <td>Least Squares</td>  <th>  F-statistic:       </th> <td>   89.99</td>\n",
       "</tr>\n",
       "<tr>\n",
       "  <th>Date:</th>             <td>Thu, 09 Jun 2016</td> <th>  Prob (F-statistic):</th> <td>2.27e-44</td>\n",
       "</tr>\n",
       "<tr>\n",
       "  <th>Time:</th>                 <td>19:29:47</td>     <th>  Log-Likelihood:    </th> <td> -1278.7</td>\n",
       "</tr>\n",
       "<tr>\n",
       "  <th>No. Observations:</th>      <td>   398</td>      <th>  AIC:               </th> <td>   2565.</td>\n",
       "</tr>\n",
       "<tr>\n",
       "  <th>Df Residuals:</th>          <td>   394</td>      <th>  BIC:               </th> <td>   2581.</td>\n",
       "</tr>\n",
       "<tr>\n",
       "  <th>Df Model:</th>              <td>     3</td>      <th>                     </th>     <td> </td>   \n",
       "</tr>\n",
       "<tr>\n",
       "  <th>Covariance Type:</th>      <td>nonrobust</td>    <th>                     </th>     <td> </td>   \n",
       "</tr>\n",
       "</table>\n",
       "<table class=\"simpletable\">\n",
       "<tr>\n",
       "             <td></td>                <th>coef</th>     <th>std err</th>      <th>t</th>      <th>P>|t|</th> <th>[95.0% Conf. Int.]</th> \n",
       "</tr>\n",
       "<tr>\n",
       "  <th>Intercept</th>               <td>  -96.5450</td> <td>   33.754</td> <td>   -2.860</td> <td> 0.004</td> <td> -162.905   -30.185</td>\n",
       "</tr>\n",
       "<tr>\n",
       "  <th>acceleration</th>            <td>    2.5688</td> <td>    2.150</td> <td>    1.195</td> <td> 0.233</td> <td>   -1.658     6.795</td>\n",
       "</tr>\n",
       "<tr>\n",
       "  <th>model_year</th>              <td>    1.4231</td> <td>    0.449</td> <td>    3.166</td> <td> 0.002</td> <td>    0.539     2.307</td>\n",
       "</tr>\n",
       "<tr>\n",
       "  <th>acceleration:model_year</th> <td>   -0.0237</td> <td>    0.028</td> <td>   -0.832</td> <td> 0.406</td> <td>   -0.080     0.032</td>\n",
       "</tr>\n",
       "</table>\n",
       "<table class=\"simpletable\">\n",
       "<tr>\n",
       "  <th>Omnibus:</th>       <td>24.654</td> <th>  Durbin-Watson:     </th> <td>   0.828</td>\n",
       "</tr>\n",
       "<tr>\n",
       "  <th>Prob(Omnibus):</th> <td> 0.000</td> <th>  Jarque-Bera (JB):  </th> <td>  12.808</td>\n",
       "</tr>\n",
       "<tr>\n",
       "  <th>Skew:</th>          <td> 0.256</td> <th>  Prob(JB):          </th> <td> 0.00165</td>\n",
       "</tr>\n",
       "<tr>\n",
       "  <th>Kurtosis:</th>      <td> 2.285</td> <th>  Cond. No.          </th> <td>1.35e+05</td>\n",
       "</tr>\n",
       "</table>"
      ],
      "text/plain": [
       "<class 'statsmodels.iolib.summary.Summary'>\n",
       "\"\"\"\n",
       "                            OLS Regression Results                            \n",
       "==============================================================================\n",
       "Dep. Variable:                    mpg   R-squared:                       0.407\n",
       "Model:                            OLS   Adj. R-squared:                  0.402\n",
       "Method:                 Least Squares   F-statistic:                     89.99\n",
       "Date:                Thu, 09 Jun 2016   Prob (F-statistic):           2.27e-44\n",
       "Time:                        19:29:47   Log-Likelihood:                -1278.7\n",
       "No. Observations:                 398   AIC:                             2565.\n",
       "Df Residuals:                     394   BIC:                             2581.\n",
       "Df Model:                           3                                         \n",
       "Covariance Type:            nonrobust                                         \n",
       "===========================================================================================\n",
       "                              coef    std err          t      P>|t|      [95.0% Conf. Int.]\n",
       "-------------------------------------------------------------------------------------------\n",
       "Intercept                 -96.5450     33.754     -2.860      0.004      -162.905   -30.185\n",
       "acceleration                2.5688      2.150      1.195      0.233        -1.658     6.795\n",
       "model_year                  1.4231      0.449      3.166      0.002         0.539     2.307\n",
       "acceleration:model_year    -0.0237      0.028     -0.832      0.406        -0.080     0.032\n",
       "==============================================================================\n",
       "Omnibus:                       24.654   Durbin-Watson:                   0.828\n",
       "Prob(Omnibus):                  0.000   Jarque-Bera (JB):               12.808\n",
       "Skew:                           0.256   Prob(JB):                      0.00165\n",
       "Kurtosis:                       2.285   Cond. No.                     1.35e+05\n",
       "==============================================================================\n",
       "\n",
       "Warnings:\n",
       "[1] Standard Errors assume that the covariance matrix of the errors is correctly specified.\n",
       "[2] The condition number is large, 1.35e+05. This might indicate that there are\n",
       "strong multicollinearity or other numerical problems.\n",
       "\"\"\""
      ]
     },
     "execution_count": 103,
     "metadata": {},
     "output_type": "execute_result"
    }
   ],
   "source": [
    "model.summary()"
   ]
  },
  {
   "cell_type": "code",
   "execution_count": 104,
   "metadata": {
    "collapsed": false
   },
   "outputs": [
    {
     "data": {
      "image/png": "[encoded data removed]",
      "text/plain": [
       "<matplotlib.figure.Figure at 0x11daa53d0>"
      ]
     },
     "metadata": {},
     "output_type": "display_data"
    }
   ],
   "source": [
    "figure = sm.qqplot(model.resid, line = 's')"
   ]
  },
  {
   "cell_type": "code",
   "execution_count": 105,
   "metadata": {
    "collapsed": true
   },
   "outputs": [],
   "source": [
    "model = smf.ols(formula = 'mpg ~ horsepower + model_year + horsepower * model_year', data = df).fit()"
   ]
  },
  {
   "cell_type": "code",
   "execution_count": 106,
   "metadata": {
    "collapsed": false
   },
   "outputs": [
    {
     "data": {
      "text/html": [
       "<table class=\"simpletable\">\n",
       "<caption>OLS Regression Results</caption>\n",
       "<tr>\n",
       "  <th>Dep. Variable:</th>           <td>mpg</td>       <th>  R-squared:         </th> <td>   0.752</td> \n",
       "</tr>\n",
       "<tr>\n",
       "  <th>Model:</th>                   <td>OLS</td>       <th>  Adj. R-squared:    </th> <td>   0.750</td> \n",
       "</tr>\n",
       "<tr>\n",
       "  <th>Method:</th>             <td>Least Squares</td>  <th>  F-statistic:       </th> <td>   392.5</td> \n",
       "</tr>\n",
       "<tr>\n",
       "  <th>Date:</th>             <td>Thu, 09 Jun 2016</td> <th>  Prob (F-statistic):</th> <td>4.00e-117</td>\n",
       "</tr>\n",
       "<tr>\n",
       "  <th>Time:</th>                 <td>19:29:47</td>     <th>  Log-Likelihood:    </th> <td> -1087.8</td> \n",
       "</tr>\n",
       "<tr>\n",
       "  <th>No. Observations:</th>      <td>   392</td>      <th>  AIC:               </th> <td>   2184.</td> \n",
       "</tr>\n",
       "<tr>\n",
       "  <th>Df Residuals:</th>          <td>   388</td>      <th>  BIC:               </th> <td>   2199.</td> \n",
       "</tr>\n",
       "<tr>\n",
       "  <th>Df Model:</th>              <td>     3</td>      <th>                     </th>     <td> </td>    \n",
       "</tr>\n",
       "<tr>\n",
       "  <th>Covariance Type:</th>      <td>nonrobust</td>    <th>                     </th>     <td> </td>    \n",
       "</tr>\n",
       "</table>\n",
       "<table class=\"simpletable\">\n",
       "<tr>\n",
       "            <td></td>               <th>coef</th>     <th>std err</th>      <th>t</th>      <th>P>|t|</th> <th>[95.0% Conf. Int.]</th> \n",
       "</tr>\n",
       "<tr>\n",
       "  <th>Intercept</th>             <td> -126.6089</td> <td>   12.117</td> <td>  -10.449</td> <td> 0.000</td> <td> -150.433  -102.785</td>\n",
       "</tr>\n",
       "<tr>\n",
       "  <th>horsepower</th>            <td>    1.0457</td> <td>    0.115</td> <td>    9.063</td> <td> 0.000</td> <td>    0.819     1.273</td>\n",
       "</tr>\n",
       "<tr>\n",
       "  <th>model_year</th>            <td>    2.1920</td> <td>    0.161</td> <td>   13.585</td> <td> 0.000</td> <td>    1.875     2.509</td>\n",
       "</tr>\n",
       "<tr>\n",
       "  <th>horsepower:model_year</th> <td>   -0.0160</td> <td>    0.002</td> <td>  -10.217</td> <td> 0.000</td> <td>   -0.019    -0.013</td>\n",
       "</tr>\n",
       "</table>\n",
       "<table class=\"simpletable\">\n",
       "<tr>\n",
       "  <th>Omnibus:</th>       <td>15.364</td> <th>  Durbin-Watson:     </th> <td>   1.305</td>\n",
       "</tr>\n",
       "<tr>\n",
       "  <th>Prob(Omnibus):</th> <td> 0.000</td> <th>  Jarque-Bera (JB):  </th> <td>  20.956</td>\n",
       "</tr>\n",
       "<tr>\n",
       "  <th>Skew:</th>          <td> 0.332</td> <th>  Prob(JB):          </th> <td>2.81e-05</td>\n",
       "</tr>\n",
       "<tr>\n",
       "  <th>Kurtosis:</th>      <td> 3.918</td> <th>  Cond. No.          </th> <td>5.13e+05</td>\n",
       "</tr>\n",
       "</table>"
      ],
      "text/plain": [
       "<class 'statsmodels.iolib.summary.Summary'>\n",
       "\"\"\"\n",
       "                            OLS Regression Results                            \n",
       "==============================================================================\n",
       "Dep. Variable:                    mpg   R-squared:                       0.752\n",
       "Model:                            OLS   Adj. R-squared:                  0.750\n",
       "Method:                 Least Squares   F-statistic:                     392.5\n",
       "Date:                Thu, 09 Jun 2016   Prob (F-statistic):          4.00e-117\n",
       "Time:                        19:29:47   Log-Likelihood:                -1087.8\n",
       "No. Observations:                 392   AIC:                             2184.\n",
       "Df Residuals:                     388   BIC:                             2199.\n",
       "Df Model:                           3                                         \n",
       "Covariance Type:            nonrobust                                         \n",
       "=========================================================================================\n",
       "                            coef    std err          t      P>|t|      [95.0% Conf. Int.]\n",
       "-----------------------------------------------------------------------------------------\n",
       "Intercept              -126.6089     12.117    -10.449      0.000      -150.433  -102.785\n",
       "horsepower                1.0457      0.115      9.063      0.000         0.819     1.273\n",
       "model_year                2.1920      0.161     13.585      0.000         1.875     2.509\n",
       "horsepower:model_year    -0.0160      0.002    -10.217      0.000        -0.019    -0.013\n",
       "==============================================================================\n",
       "Omnibus:                       15.364   Durbin-Watson:                   1.305\n",
       "Prob(Omnibus):                  0.000   Jarque-Bera (JB):               20.956\n",
       "Skew:                           0.332   Prob(JB):                     2.81e-05\n",
       "Kurtosis:                       3.918   Cond. No.                     5.13e+05\n",
       "==============================================================================\n",
       "\n",
       "Warnings:\n",
       "[1] Standard Errors assume that the covariance matrix of the errors is correctly specified.\n",
       "[2] The condition number is large, 5.13e+05. This might indicate that there are\n",
       "strong multicollinearity or other numerical problems.\n",
       "\"\"\""
      ]
     },
     "execution_count": 106,
     "metadata": {},
     "output_type": "execute_result"
    }
   ],
   "source": [
    "model.summary()"
   ]
  },
  {
   "cell_type": "code",
   "execution_count": 107,
   "metadata": {
    "collapsed": false
   },
   "outputs": [
    {
     "data": {
      "image/png": "[encoded data removed]",
      "text/plain": [
       "<matplotlib.figure.Figure at 0x11e687d50>"
      ]
     },
     "metadata": {},
     "output_type": "display_data"
    }
   ],
   "source": [
    "figure = sm.graphics.plot_regress_exog(model, 'horsepower')"
   ]
  },
  {
   "cell_type": "code",
   "execution_count": 108,
   "metadata": {
    "collapsed": false
   },
   "outputs": [
    {
     "data": {
      "text/plain": [
       "<matplotlib.axes._subplots.AxesSubplot at 0x11eb67190>"
      ]
     },
     "execution_count": 108,
     "metadata": {},
     "output_type": "execute_result"
    },
    {
     "data": {
      "image/png": "[encoded data removed]",
      "text/plain": [
       "<matplotlib.figure.Figure at 0x11e6cabd0>"
      ]
     },
     "metadata": {},
     "output_type": "display_data"
    }
   ],
   "source": [
    "df[['horsepower', 'mpg']].plot(x='horsepower', y= 'mpg', kind = 'scatter', label = 'HP&MPG')"
   ]
  },
  {
   "cell_type": "markdown",
   "metadata": {},
   "source": [
    "need to linerize data (e.g. log, square, inverse)"
   ]
  },
  {
   "cell_type": "code",
   "execution_count": 110,
   "metadata": {
    "collapsed": false
   },
   "outputs": [],
   "source": [
    "df[ ['displacement_sqrt', 'horsepower_sqrt'] ] = df[ ['displacement', 'horsepower'] ].apply(np.sqrt)"
   ]
  },
  {
   "cell_type": "code",
   "execution_count": 111,
   "metadata": {
    "collapsed": false
   },
   "outputs": [],
   "source": [
    "df[ ['displacement_log', 'horsepower_log'] ] = df[ ['displacement', 'horsepower'] ].apply(np.log10)\n",
    "df[ ['displacement_sqrt', 'horsepower_sqrt'] ] = df[ ['displacement', 'horsepower'] ].apply(np.sqrt)\n",
    "df[ ['displacement_square', 'horsepower_sqare'] ] = df[ ['displacement', 'horsepower'] ].apply(np.square)"
   ]
  },
  {
   "cell_type": "code",
   "execution_count": 113,
   "metadata": {
    "collapsed": false
   },
   "outputs": [
    {
     "data": {
      "text/html": [
       "<div>\n",
       "<table border=\"1\" class=\"dataframe\">\n",
       "  <thead>\n",
       "    <tr style=\"text-align: right;\">\n",
       "      <th></th>\n",
       "      <th>mpg</th>\n",
       "      <th>cylinders</th>\n",
       "      <th>displacement</th>\n",
       "      <th>horsepower</th>\n",
       "      <th>weight</th>\n",
       "      <th>...</th>\n",
       "      <th>horsepower_sqrt</th>\n",
       "      <th>displacement_log</th>\n",
       "      <th>horsepower_log</th>\n",
       "      <th>displacement_square</th>\n",
       "      <th>horsepower_sqare</th>\n",
       "    </tr>\n",
       "  </thead>\n",
       "  <tbody>\n",
       "    <tr>\n",
       "      <th>mpg</th>\n",
       "      <td>1.000000</td>\n",
       "      <td>-0.775396</td>\n",
       "      <td>-0.804203</td>\n",
       "      <td>-0.778427</td>\n",
       "      <td>-0.831741</td>\n",
       "      <td>...</td>\n",
       "      <td>-0.802311</td>\n",
       "      <td>-0.828392</td>\n",
       "      <td>-0.817517</td>\n",
       "      <td>-0.750854</td>\n",
       "      <td>-0.712297</td>\n",
       "    </tr>\n",
       "    <tr>\n",
       "      <th>cylinders</th>\n",
       "      <td>-0.775396</td>\n",
       "      <td>1.000000</td>\n",
       "      <td>0.950721</td>\n",
       "      <td>0.842983</td>\n",
       "      <td>0.896017</td>\n",
       "      <td>...</td>\n",
       "      <td>0.849266</td>\n",
       "      <td>0.942217</td>\n",
       "      <td>0.843204</td>\n",
       "      <td>0.912560</td>\n",
       "      <td>0.799052</td>\n",
       "    </tr>\n",
       "    <tr>\n",
       "      <th>displacement</th>\n",
       "      <td>-0.804203</td>\n",
       "      <td>0.950721</td>\n",
       "      <td>1.000000</td>\n",
       "      <td>0.897257</td>\n",
       "      <td>0.932824</td>\n",
       "      <td>...</td>\n",
       "      <td>0.897344</td>\n",
       "      <td>0.979369</td>\n",
       "      <td>0.886477</td>\n",
       "      <td>0.981828</td>\n",
       "      <td>0.868595</td>\n",
       "    </tr>\n",
       "    <tr>\n",
       "      <th>horsepower</th>\n",
       "      <td>-0.778427</td>\n",
       "      <td>0.842983</td>\n",
       "      <td>0.897257</td>\n",
       "      <td>1.000000</td>\n",
       "      <td>0.864538</td>\n",
       "      <td>...</td>\n",
       "      <td>0.995152</td>\n",
       "      <td>0.854590</td>\n",
       "      <td>0.980201</td>\n",
       "      <td>0.910831</td>\n",
       "      <td>0.982807</td>\n",
       "    </tr>\n",
       "    <tr>\n",
       "      <th>weight</th>\n",
       "      <td>-0.831741</td>\n",
       "      <td>0.896017</td>\n",
       "      <td>0.932824</td>\n",
       "      <td>0.864538</td>\n",
       "      <td>1.000000</td>\n",
       "      <td>...</td>\n",
       "      <td>0.875859</td>\n",
       "      <td>0.936372</td>\n",
       "      <td>0.876483</td>\n",
       "      <td>0.895213</td>\n",
       "      <td>0.815723</td>\n",
       "    </tr>\n",
       "    <tr>\n",
       "      <th>...</th>\n",
       "      <td>...</td>\n",
       "      <td>...</td>\n",
       "      <td>...</td>\n",
       "      <td>...</td>\n",
       "      <td>...</td>\n",
       "      <td>...</td>\n",
       "      <td>...</td>\n",
       "      <td>...</td>\n",
       "      <td>...</td>\n",
       "      <td>...</td>\n",
       "      <td>...</td>\n",
       "    </tr>\n",
       "    <tr>\n",
       "      <th>horsepower_sqrt</th>\n",
       "      <td>-0.802311</td>\n",
       "      <td>0.849266</td>\n",
       "      <td>0.897344</td>\n",
       "      <td>0.995152</td>\n",
       "      <td>0.875859</td>\n",
       "      <td>...</td>\n",
       "      <td>1.000000</td>\n",
       "      <td>0.868500</td>\n",
       "      <td>0.994867</td>\n",
       "      <td>0.897610</td>\n",
       "      <td>0.960308</td>\n",
       "    </tr>\n",
       "    <tr>\n",
       "      <th>displacement_log</th>\n",
       "      <td>-0.828392</td>\n",
       "      <td>0.942217</td>\n",
       "      <td>0.979369</td>\n",
       "      <td>0.854590</td>\n",
       "      <td>0.936372</td>\n",
       "      <td>...</td>\n",
       "      <td>0.868500</td>\n",
       "      <td>1.000000</td>\n",
       "      <td>0.872149</td>\n",
       "      <td>0.925185</td>\n",
       "      <td>0.802495</td>\n",
       "    </tr>\n",
       "    <tr>\n",
       "      <th>horsepower_log</th>\n",
       "      <td>-0.817517</td>\n",
       "      <td>0.843204</td>\n",
       "      <td>0.886477</td>\n",
       "      <td>0.980201</td>\n",
       "      <td>0.876483</td>\n",
       "      <td>...</td>\n",
       "      <td>0.994867</td>\n",
       "      <td>0.872149</td>\n",
       "      <td>1.000000</td>\n",
       "      <td>0.873585</td>\n",
       "      <td>0.928337</td>\n",
       "    </tr>\n",
       "    <tr>\n",
       "      <th>displacement_square</th>\n",
       "      <td>-0.750854</td>\n",
       "      <td>0.912560</td>\n",
       "      <td>0.981828</td>\n",
       "      <td>0.910831</td>\n",
       "      <td>0.895213</td>\n",
       "      <td>...</td>\n",
       "      <td>0.897610</td>\n",
       "      <td>0.925185</td>\n",
       "      <td>0.873585</td>\n",
       "      <td>1.000000</td>\n",
       "      <td>0.906971</td>\n",
       "    </tr>\n",
       "    <tr>\n",
       "      <th>horsepower_sqare</th>\n",
       "      <td>-0.712297</td>\n",
       "      <td>0.799052</td>\n",
       "      <td>0.868595</td>\n",
       "      <td>0.982807</td>\n",
       "      <td>0.815723</td>\n",
       "      <td>...</td>\n",
       "      <td>0.960308</td>\n",
       "      <td>0.802495</td>\n",
       "      <td>0.928337</td>\n",
       "      <td>0.906971</td>\n",
       "      <td>1.000000</td>\n",
       "    </tr>\n",
       "  </tbody>\n",
       "</table>\n",
       "<p>13 rows × 13 columns</p>\n",
       "</div>"
      ],
      "text/plain": [
       "                          mpg  cylinders  displacement  horsepower    weight  \\\n",
       "mpg                  1.000000  -0.775396     -0.804203   -0.778427 -0.831741   \n",
       "cylinders           -0.775396   1.000000      0.950721    0.842983  0.896017   \n",
       "displacement        -0.804203   0.950721      1.000000    0.897257  0.932824   \n",
       "horsepower          -0.778427   0.842983      0.897257    1.000000  0.864538   \n",
       "weight              -0.831741   0.896017      0.932824    0.864538  1.000000   \n",
       "...                       ...        ...           ...         ...       ...   \n",
       "horsepower_sqrt     -0.802311   0.849266      0.897344    0.995152  0.875859   \n",
       "displacement_log    -0.828392   0.942217      0.979369    0.854590  0.936372   \n",
       "horsepower_log      -0.817517   0.843204      0.886477    0.980201  0.876483   \n",
       "displacement_square -0.750854   0.912560      0.981828    0.910831  0.895213   \n",
       "horsepower_sqare    -0.712297   0.799052      0.868595    0.982807  0.815723   \n",
       "\n",
       "                           ...         horsepower_sqrt  displacement_log  \\\n",
       "mpg                        ...               -0.802311         -0.828392   \n",
       "cylinders                  ...                0.849266          0.942217   \n",
       "displacement               ...                0.897344          0.979369   \n",
       "horsepower                 ...                0.995152          0.854590   \n",
       "weight                     ...                0.875859          0.936372   \n",
       "...                        ...                     ...               ...   \n",
       "horsepower_sqrt            ...                1.000000          0.868500   \n",
       "displacement_log           ...                0.868500          1.000000   \n",
       "horsepower_log             ...                0.994867          0.872149   \n",
       "displacement_square        ...                0.897610          0.925185   \n",
       "horsepower_sqare           ...                0.960308          0.802495   \n",
       "\n",
       "                     horsepower_log  displacement_square  horsepower_sqare  \n",
       "mpg                       -0.817517            -0.750854         -0.712297  \n",
       "cylinders                  0.843204             0.912560          0.799052  \n",
       "displacement               0.886477             0.981828          0.868595  \n",
       "horsepower                 0.980201             0.910831          0.982807  \n",
       "weight                     0.876483             0.895213          0.815723  \n",
       "...                             ...                  ...               ...  \n",
       "horsepower_sqrt            0.994867             0.897610          0.960308  \n",
       "displacement_log           0.872149             0.925185          0.802495  \n",
       "horsepower_log             1.000000             0.873585          0.928337  \n",
       "displacement_square        0.873585             1.000000          0.906971  \n",
       "horsepower_sqare           0.928337             0.906971          1.000000  \n",
       "\n",
       "[13 rows x 13 columns]"
      ]
     },
     "execution_count": 113,
     "metadata": {},
     "output_type": "execute_result"
    }
   ],
   "source": [
    "df.corr()"
   ]
  },
  {
   "cell_type": "code",
   "execution_count": 116,
   "metadata": {
    "collapsed": false
   },
   "outputs": [
    {
     "data": {
      "text/plain": [
       "<matplotlib.axes._subplots.AxesSubplot at 0x11e125050>"
      ]
     },
     "execution_count": 116,
     "metadata": {},
     "output_type": "execute_result"
    },
    {
     "data": {
      "image/png": "[encoded data removed]",
      "text/plain": [
       "<matplotlib.figure.Figure at 0x11e6b7310>"
      ]
     },
     "metadata": {},
     "output_type": "display_data"
    }
   ],
   "source": [
    "df[['displacement_log', 'horsepower_log']].plot(x='displacement_log', y= 'horsepower_log', kind = 'scatter', label = 'HP&DISPLACEMENT_LOG')"
   ]
  },
  {
   "cell_type": "code",
   "execution_count": 117,
   "metadata": {
    "collapsed": true
   },
   "outputs": [],
   "source": [
    "#inverse function \n",
    "df['horsepower_inv'] = 1/df.horsepower"
   ]
  },
  {
   "cell_type": "code",
   "execution_count": 120,
   "metadata": {
    "collapsed": false
   },
   "outputs": [
    {
     "data": {
      "text/plain": [
       "<matplotlib.axes._subplots.AxesSubplot at 0x11dd06ad0>"
      ]
     },
     "execution_count": 120,
     "metadata": {},
     "output_type": "execute_result"
    },
    {
     "data": {
      "image/png": "[encoded data removed]",
      "text/plain": [
       "<matplotlib.figure.Figure at 0x11dc648d0>"
      ]
     },
     "metadata": {},
     "output_type": "display_data"
    }
   ],
   "source": [
    "df[['mpg', 'horsepower_inv']].plot(x='horsepower_inv', y= 'mpg', kind = 'scatter', label = 'inverseHP&mpg')"
   ]
  },
  {
   "cell_type": "markdown",
   "metadata": {},
   "source": [
    "## should do GPM (gallon per miles) instead of MPG "
   ]
  },
  {
   "cell_type": "code",
   "execution_count": 141,
   "metadata": {
    "collapsed": true
   },
   "outputs": [],
   "source": [
    "#define the variable \n",
    "##ADD GPM TO DATA FRAME##\n",
    "\n",
    "#http://www.popularmechanics.com/cars/a12367/4324986/\n",
    "\n",
    "df['gpm'] = 1. / df.mpg"
   ]
  },
  {
   "cell_type": "code",
   "execution_count": 142,
   "metadata": {
    "collapsed": false,
    "scrolled": true
   },
   "outputs": [
    {
     "data": {
      "text/plain": [
       "[3, 4, 5, 6, 8]"
      ]
     },
     "execution_count": 142,
     "metadata": {},
     "output_type": "execute_result"
    }
   ],
   "source": [
    "sorted(df.cylinders.unique())"
   ]
  },
  {
   "cell_type": "code",
   "execution_count": 143,
   "metadata": {
    "collapsed": false
   },
   "outputs": [
    {
     "data": {
      "text/plain": [
       "4    204\n",
       "8    103\n",
       "6     84\n",
       "3      4\n",
       "5      3\n",
       "Name: cylinders, dtype: int64"
      ]
     },
     "execution_count": 143,
     "metadata": {},
     "output_type": "execute_result"
    }
   ],
   "source": [
    "df.cylinders.value_counts()"
   ]
  },
  {
   "cell_type": "code",
   "execution_count": 144,
   "metadata": {
    "collapsed": false
   },
   "outputs": [
    {
     "data": {
      "text/plain": [
       "<matplotlib.axes._subplots.AxesSubplot at 0x120111a10>"
      ]
     },
     "execution_count": 144,
     "metadata": {},
     "output_type": "execute_result"
    },
    {
     "data": {
      "image/png": "[encoded data removed]",
      "text/plain": [
       "<matplotlib.figure.Figure at 0x120125fd0>"
      ]
     },
     "metadata": {},
     "output_type": "display_data"
    }
   ],
   "source": [
    "df.boxplot('mpg', by = 'cylinders')"
   ]
  },
  {
   "cell_type": "code",
   "execution_count": 145,
   "metadata": {
    "collapsed": false
   },
   "outputs": [
    {
     "data": {
      "text/plain": [
       "mpg                   -0.775396\n",
       "cylinders              1.000000\n",
       "displacement           0.950721\n",
       "horsepower             0.842983\n",
       "weight                 0.896017\n",
       "                         ...   \n",
       "horsepower_log         0.843204\n",
       "displacement_square    0.912560\n",
       "horsepower_sqare       0.799052\n",
       "horsepower_inv        -0.793819\n",
       "gpm                    0.839278\n",
       "Name: cylinders, dtype: float64"
      ]
     },
     "execution_count": 145,
     "metadata": {},
     "output_type": "execute_result"
    }
   ],
   "source": [
    "df.corr().cylinders"
   ]
  },
  {
   "cell_type": "markdown",
   "metadata": {},
   "source": [
    "    NOTES: see that cylinders have a high correlation with displacement_square & gpm"
   ]
  },
  {
   "cell_type": "code",
   "execution_count": 146,
   "metadata": {
    "collapsed": false
   },
   "outputs": [
    {
     "data": {
      "text/plain": [
       "<matplotlib.axes._subplots.AxesSubplot at 0x120487bd0>"
      ]
     },
     "execution_count": 146,
     "metadata": {},
     "output_type": "execute_result"
    },
    {
     "data": {
      "image/png": "[encoded data removed]",
      "text/plain": [
       "<matplotlib.figure.Figure at 0x1202b30d0>"
      ]
     },
     "metadata": {},
     "output_type": "display_data"
    }
   ],
   "source": [
    "df.boxplot('gpm', by = 'cylinders')"
   ]
  },
  {
   "cell_type": "code",
   "execution_count": 149,
   "metadata": {
    "collapsed": true
   },
   "outputs": [],
   "source": [
    "#weight, horsepower, displacement, acceleration \n",
    "\n",
    "##REMOVE CYLINDERS"
   ]
  },
  {
   "cell_type": "markdown",
   "metadata": {},
   "source": [
    "### Displacement_SQRT & GPM"
   ]
  },
  {
   "cell_type": "code",
   "execution_count": 148,
   "metadata": {
    "collapsed": false
   },
   "outputs": [
    {
     "data": {
      "text/plain": [
       "<matplotlib.axes._subplots.AxesSubplot at 0x1207dff50>"
      ]
     },
     "execution_count": 148,
     "metadata": {},
     "output_type": "execute_result"
    },
    {
     "data": {
      "image/png": "[encoded data removed]",
      "text/plain": [
       "<matplotlib.figure.Figure at 0x1203bb750>"
      ]
     },
     "metadata": {},
     "output_type": "display_data"
    }
   ],
   "source": [
    "df.plot('displacement_sqrt', 'gpm', kind = 'scatter')"
   ]
  },
  {
   "cell_type": "markdown",
   "metadata": {},
   "source": [
    "# NOTE: TRY EVERY COMBO "
   ]
  },
  {
   "cell_type": "markdown",
   "metadata": {},
   "source": [
    "### gpm, cylinders, displacement_sqrt, horsepoer_sqrt, weight"
   ]
  },
  {
   "cell_type": "code",
   "execution_count": 150,
   "metadata": {
    "collapsed": false
   },
   "outputs": [
    {
     "data": {
      "text/html": [
       "<div>\n",
       "<table border=\"1\" class=\"dataframe\">\n",
       "  <thead>\n",
       "    <tr style=\"text-align: right;\">\n",
       "      <th></th>\n",
       "      <th>gpm</th>\n",
       "      <th>cylinders</th>\n",
       "      <th>displacement_sqrt</th>\n",
       "      <th>horsepower_sqrt</th>\n",
       "      <th>weight</th>\n",
       "    </tr>\n",
       "  </thead>\n",
       "  <tbody>\n",
       "    <tr>\n",
       "      <th>gpm</th>\n",
       "      <td>1.000000</td>\n",
       "      <td>0.839278</td>\n",
       "      <td>0.866133</td>\n",
       "      <td>0.859499</td>\n",
       "      <td>0.885219</td>\n",
       "    </tr>\n",
       "    <tr>\n",
       "      <th>cylinders</th>\n",
       "      <td>0.839278</td>\n",
       "      <td>1.000000</td>\n",
       "      <td>0.952891</td>\n",
       "      <td>0.849266</td>\n",
       "      <td>0.896017</td>\n",
       "    </tr>\n",
       "    <tr>\n",
       "      <th>displacement_sqrt</th>\n",
       "      <td>0.866133</td>\n",
       "      <td>0.952891</td>\n",
       "      <td>1.000000</td>\n",
       "      <td>0.886470</td>\n",
       "      <td>0.939395</td>\n",
       "    </tr>\n",
       "    <tr>\n",
       "      <th>horsepower_sqrt</th>\n",
       "      <td>0.859499</td>\n",
       "      <td>0.849266</td>\n",
       "      <td>0.886470</td>\n",
       "      <td>1.000000</td>\n",
       "      <td>0.875859</td>\n",
       "    </tr>\n",
       "    <tr>\n",
       "      <th>weight</th>\n",
       "      <td>0.885219</td>\n",
       "      <td>0.896017</td>\n",
       "      <td>0.939395</td>\n",
       "      <td>0.875859</td>\n",
       "      <td>1.000000</td>\n",
       "    </tr>\n",
       "  </tbody>\n",
       "</table>\n",
       "</div>"
      ],
      "text/plain": [
       "                        gpm  cylinders  displacement_sqrt  horsepower_sqrt  \\\n",
       "gpm                1.000000   0.839278           0.866133         0.859499   \n",
       "cylinders          0.839278   1.000000           0.952891         0.849266   \n",
       "displacement_sqrt  0.866133   0.952891           1.000000         0.886470   \n",
       "horsepower_sqrt    0.859499   0.849266           0.886470         1.000000   \n",
       "weight             0.885219   0.896017           0.939395         0.875859   \n",
       "\n",
       "                     weight  \n",
       "gpm                0.885219  \n",
       "cylinders          0.896017  \n",
       "displacement_sqrt  0.939395  \n",
       "horsepower_sqrt    0.875859  \n",
       "weight             1.000000  "
      ]
     },
     "execution_count": 150,
     "metadata": {},
     "output_type": "execute_result"
    }
   ],
   "source": [
    "df[['gpm', 'cylinders', 'displacement_sqrt', 'horsepower_sqrt', 'weight']].corr()"
   ]
  },
  {
   "cell_type": "code",
   "execution_count": 151,
   "metadata": {
    "collapsed": true
   },
   "outputs": [],
   "source": [
    "##remove cylinders from above data (a few steps ago)\n",
    "\n",
    "df.drop('cylinders', axis = 1, inplace = True)"
   ]
  },
  {
   "cell_type": "code",
   "execution_count": 153,
   "metadata": {
    "collapsed": false
   },
   "outputs": [
    {
     "data": {
      "text/plain": [
       "Index([u'mpg', u'displacement', u'horsepower', u'weight', u'acceleration',\n",
       "       u'model_year', u'car_name', u'displacement_sqrt', u'horsepower_sqrt',\n",
       "       u'displacement_log', u'horsepower_log', u'displacement_square',\n",
       "       u'horsepower_sqare', u'horsepower_inv', u'gpm'],\n",
       "      dtype='object')"
      ]
     },
     "execution_count": 153,
     "metadata": {},
     "output_type": "execute_result"
    }
   ],
   "source": [
    "df.columns"
   ]
  },
  {
   "cell_type": "code",
   "execution_count": 176,
   "metadata": {
    "collapsed": false
   },
   "outputs": [
    {
     "data": {
      "text/html": [
       "<div>\n",
       "<table border=\"1\" class=\"dataframe\">\n",
       "  <thead>\n",
       "    <tr style=\"text-align: right;\">\n",
       "      <th></th>\n",
       "      <th>mpg</th>\n",
       "      <th>displacement</th>\n",
       "      <th>horsepower</th>\n",
       "      <th>weight</th>\n",
       "      <th>acceleration</th>\n",
       "      <th>...</th>\n",
       "      <th>horsepower_log</th>\n",
       "      <th>displacement_square</th>\n",
       "      <th>horsepower_sqare</th>\n",
       "      <th>horsepower_inv</th>\n",
       "      <th>gpm</th>\n",
       "    </tr>\n",
       "  </thead>\n",
       "  <tbody>\n",
       "    <tr>\n",
       "      <th>mpg</th>\n",
       "      <td>1.000000</td>\n",
       "      <td>-0.804203</td>\n",
       "      <td>-0.778427</td>\n",
       "      <td>-0.831741</td>\n",
       "      <td>0.420289</td>\n",
       "      <td>...</td>\n",
       "      <td>-0.817517</td>\n",
       "      <td>-0.750854</td>\n",
       "      <td>-0.712297</td>\n",
       "      <td>0.816767</td>\n",
       "      <td>-0.935364</td>\n",
       "    </tr>\n",
       "    <tr>\n",
       "      <th>displacement</th>\n",
       "      <td>-0.804203</td>\n",
       "      <td>1.000000</td>\n",
       "      <td>0.897257</td>\n",
       "      <td>0.932824</td>\n",
       "      <td>-0.543684</td>\n",
       "      <td>...</td>\n",
       "      <td>0.886477</td>\n",
       "      <td>0.981828</td>\n",
       "      <td>0.868595</td>\n",
       "      <td>-0.831923</td>\n",
       "      <td>0.866631</td>\n",
       "    </tr>\n",
       "    <tr>\n",
       "      <th>horsepower</th>\n",
       "      <td>-0.778427</td>\n",
       "      <td>0.897257</td>\n",
       "      <td>1.000000</td>\n",
       "      <td>0.864538</td>\n",
       "      <td>-0.689196</td>\n",
       "      <td>...</td>\n",
       "      <td>0.980201</td>\n",
       "      <td>0.910831</td>\n",
       "      <td>0.982807</td>\n",
       "      <td>-0.920325</td>\n",
       "      <td>0.854809</td>\n",
       "    </tr>\n",
       "    <tr>\n",
       "      <th>weight</th>\n",
       "      <td>-0.831741</td>\n",
       "      <td>0.932824</td>\n",
       "      <td>0.864538</td>\n",
       "      <td>1.000000</td>\n",
       "      <td>-0.417457</td>\n",
       "      <td>...</td>\n",
       "      <td>0.876483</td>\n",
       "      <td>0.895213</td>\n",
       "      <td>0.815723</td>\n",
       "      <td>-0.843741</td>\n",
       "      <td>0.885219</td>\n",
       "    </tr>\n",
       "    <tr>\n",
       "      <th>acceleration</th>\n",
       "      <td>0.420289</td>\n",
       "      <td>-0.543684</td>\n",
       "      <td>-0.689196</td>\n",
       "      <td>-0.417457</td>\n",
       "      <td>1.000000</td>\n",
       "      <td>...</td>\n",
       "      <td>-0.698328</td>\n",
       "      <td>-0.575005</td>\n",
       "      <td>-0.659113</td>\n",
       "      <td>0.683397</td>\n",
       "      <td>-0.455750</td>\n",
       "    </tr>\n",
       "    <tr>\n",
       "      <th>...</th>\n",
       "      <td>...</td>\n",
       "      <td>...</td>\n",
       "      <td>...</td>\n",
       "      <td>...</td>\n",
       "      <td>...</td>\n",
       "      <td>...</td>\n",
       "      <td>...</td>\n",
       "      <td>...</td>\n",
       "      <td>...</td>\n",
       "      <td>...</td>\n",
       "      <td>...</td>\n",
       "    </tr>\n",
       "    <tr>\n",
       "      <th>horsepower_log</th>\n",
       "      <td>-0.817517</td>\n",
       "      <td>0.886477</td>\n",
       "      <td>0.980201</td>\n",
       "      <td>0.876483</td>\n",
       "      <td>-0.698328</td>\n",
       "      <td>...</td>\n",
       "      <td>1.000000</td>\n",
       "      <td>0.873585</td>\n",
       "      <td>0.928337</td>\n",
       "      <td>-0.978658</td>\n",
       "      <td>0.853836</td>\n",
       "    </tr>\n",
       "    <tr>\n",
       "      <th>displacement_square</th>\n",
       "      <td>-0.750854</td>\n",
       "      <td>0.981828</td>\n",
       "      <td>0.910831</td>\n",
       "      <td>0.895213</td>\n",
       "      <td>-0.575005</td>\n",
       "      <td>...</td>\n",
       "      <td>0.873585</td>\n",
       "      <td>1.000000</td>\n",
       "      <td>0.906971</td>\n",
       "      <td>-0.795652</td>\n",
       "      <td>0.840601</td>\n",
       "    </tr>\n",
       "    <tr>\n",
       "      <th>horsepower_sqare</th>\n",
       "      <td>-0.712297</td>\n",
       "      <td>0.868595</td>\n",
       "      <td>0.982807</td>\n",
       "      <td>0.815723</td>\n",
       "      <td>-0.659113</td>\n",
       "      <td>...</td>\n",
       "      <td>0.928337</td>\n",
       "      <td>0.906971</td>\n",
       "      <td>1.000000</td>\n",
       "      <td>-0.839141</td>\n",
       "      <td>0.819141</td>\n",
       "    </tr>\n",
       "    <tr>\n",
       "      <th>horsepower_inv</th>\n",
       "      <td>0.816767</td>\n",
       "      <td>-0.831923</td>\n",
       "      <td>-0.920325</td>\n",
       "      <td>-0.843741</td>\n",
       "      <td>0.683397</td>\n",
       "      <td>...</td>\n",
       "      <td>-0.978658</td>\n",
       "      <td>-0.795652</td>\n",
       "      <td>-0.839141</td>\n",
       "      <td>1.000000</td>\n",
       "      <td>-0.810579</td>\n",
       "    </tr>\n",
       "    <tr>\n",
       "      <th>gpm</th>\n",
       "      <td>-0.935364</td>\n",
       "      <td>0.866631</td>\n",
       "      <td>0.854809</td>\n",
       "      <td>0.885219</td>\n",
       "      <td>-0.455750</td>\n",
       "      <td>...</td>\n",
       "      <td>0.853836</td>\n",
       "      <td>0.840601</td>\n",
       "      <td>0.819141</td>\n",
       "      <td>-0.810579</td>\n",
       "      <td>1.000000</td>\n",
       "    </tr>\n",
       "  </tbody>\n",
       "</table>\n",
       "<p>14 rows × 14 columns</p>\n",
       "</div>"
      ],
      "text/plain": [
       "                          mpg  displacement  horsepower    weight  \\\n",
       "mpg                  1.000000     -0.804203   -0.778427 -0.831741   \n",
       "displacement        -0.804203      1.000000    0.897257  0.932824   \n",
       "horsepower          -0.778427      0.897257    1.000000  0.864538   \n",
       "weight              -0.831741      0.932824    0.864538  1.000000   \n",
       "acceleration         0.420289     -0.543684   -0.689196 -0.417457   \n",
       "...                       ...           ...         ...       ...   \n",
       "horsepower_log      -0.817517      0.886477    0.980201  0.876483   \n",
       "displacement_square -0.750854      0.981828    0.910831  0.895213   \n",
       "horsepower_sqare    -0.712297      0.868595    0.982807  0.815723   \n",
       "horsepower_inv       0.816767     -0.831923   -0.920325 -0.843741   \n",
       "gpm                 -0.935364      0.866631    0.854809  0.885219   \n",
       "\n",
       "                     acceleration    ...     horsepower_log  \\\n",
       "mpg                      0.420289    ...          -0.817517   \n",
       "displacement            -0.543684    ...           0.886477   \n",
       "horsepower              -0.689196    ...           0.980201   \n",
       "weight                  -0.417457    ...           0.876483   \n",
       "acceleration             1.000000    ...          -0.698328   \n",
       "...                           ...    ...                ...   \n",
       "horsepower_log          -0.698328    ...           1.000000   \n",
       "displacement_square     -0.575005    ...           0.873585   \n",
       "horsepower_sqare        -0.659113    ...           0.928337   \n",
       "horsepower_inv           0.683397    ...          -0.978658   \n",
       "gpm                     -0.455750    ...           0.853836   \n",
       "\n",
       "                     displacement_square  horsepower_sqare  horsepower_inv  \\\n",
       "mpg                            -0.750854         -0.712297        0.816767   \n",
       "displacement                    0.981828          0.868595       -0.831923   \n",
       "horsepower                      0.910831          0.982807       -0.920325   \n",
       "weight                          0.895213          0.815723       -0.843741   \n",
       "acceleration                   -0.575005         -0.659113        0.683397   \n",
       "...                                  ...               ...             ...   \n",
       "horsepower_log                  0.873585          0.928337       -0.978658   \n",
       "displacement_square             1.000000          0.906971       -0.795652   \n",
       "horsepower_sqare                0.906971          1.000000       -0.839141   \n",
       "horsepower_inv                 -0.795652         -0.839141        1.000000   \n",
       "gpm                             0.840601          0.819141       -0.810579   \n",
       "\n",
       "                          gpm  \n",
       "mpg                 -0.935364  \n",
       "displacement         0.866631  \n",
       "horsepower           0.854809  \n",
       "weight               0.885219  \n",
       "acceleration        -0.455750  \n",
       "...                       ...  \n",
       "horsepower_log       0.853836  \n",
       "displacement_square  0.840601  \n",
       "horsepower_sqare     0.819141  \n",
       "horsepower_inv      -0.810579  \n",
       "gpm                  1.000000  \n",
       "\n",
       "[14 rows x 14 columns]"
      ]
     },
     "execution_count": 176,
     "metadata": {},
     "output_type": "execute_result"
    }
   ],
   "source": [
    "df.corr()"
   ]
  },
  {
   "cell_type": "code",
   "execution_count": 175,
   "metadata": {
    "collapsed": false,
    "scrolled": true
   },
   "outputs": [
    {
     "data": {
      "text/html": [
       "<table class=\"simpletable\">\n",
       "<caption>OLS Regression Results</caption>\n",
       "<tr>\n",
       "  <th>Dep. Variable:</th>           <td>gpm</td>       <th>  R-squared:         </th> <td>   0.793</td> \n",
       "</tr>\n",
       "<tr>\n",
       "  <th>Model:</th>                   <td>OLS</td>       <th>  Adj. R-squared:    </th> <td>   0.791</td> \n",
       "</tr>\n",
       "<tr>\n",
       "  <th>Method:</th>             <td>Least Squares</td>  <th>  F-statistic:       </th> <td>   494.5</td> \n",
       "</tr>\n",
       "<tr>\n",
       "  <th>Date:</th>             <td>Thu, 09 Jun 2016</td> <th>  Prob (F-statistic):</th> <td>3.73e-132</td>\n",
       "</tr>\n",
       "<tr>\n",
       "  <th>Time:</th>                 <td>20:51:08</td>     <th>  Log-Likelihood:    </th> <td>  1358.3</td> \n",
       "</tr>\n",
       "<tr>\n",
       "  <th>No. Observations:</th>      <td>   392</td>      <th>  AIC:               </th> <td>  -2709.</td> \n",
       "</tr>\n",
       "<tr>\n",
       "  <th>Df Residuals:</th>          <td>   388</td>      <th>  BIC:               </th> <td>  -2693.</td> \n",
       "</tr>\n",
       "<tr>\n",
       "  <th>Df Model:</th>              <td>     3</td>      <th>                     </th>     <td> </td>    \n",
       "</tr>\n",
       "<tr>\n",
       "  <th>Covariance Type:</th>      <td>nonrobust</td>    <th>                     </th>     <td> </td>    \n",
       "</tr>\n",
       "</table>\n",
       "<table class=\"simpletable\">\n",
       "<tr>\n",
       "                <td></td>                  <th>coef</th>     <th>std err</th>      <th>t</th>      <th>P>|t|</th> <th>[95.0% Conf. Int.]</th> \n",
       "</tr>\n",
       "<tr>\n",
       "  <th>Intercept</th>                    <td>   -0.0160</td> <td>    0.005</td> <td>   -3.229</td> <td> 0.001</td> <td>   -0.026    -0.006</td>\n",
       "</tr>\n",
       "<tr>\n",
       "  <th>displacement_sqrt</th>            <td>    0.0031</td> <td>    0.000</td> <td>    8.903</td> <td> 0.000</td> <td>    0.002     0.004</td>\n",
       "</tr>\n",
       "<tr>\n",
       "  <th>horsepower</th>                   <td>    0.0004</td> <td> 6.06e-05</td> <td>    5.801</td> <td> 0.000</td> <td>    0.000     0.000</td>\n",
       "</tr>\n",
       "<tr>\n",
       "  <th>displacement_sqrt:horsepower</th> <td>-9.639e-06</td> <td> 3.17e-06</td> <td>   -3.038</td> <td> 0.003</td> <td>-1.59e-05  -3.4e-06</td>\n",
       "</tr>\n",
       "</table>\n",
       "<table class=\"simpletable\">\n",
       "<tr>\n",
       "  <th>Omnibus:</th>       <td>28.410</td> <th>  Durbin-Watson:     </th> <td>   1.079</td>\n",
       "</tr>\n",
       "<tr>\n",
       "  <th>Prob(Omnibus):</th> <td> 0.000</td> <th>  Jarque-Bera (JB):  </th> <td>  66.498</td>\n",
       "</tr>\n",
       "<tr>\n",
       "  <th>Skew:</th>          <td> 0.356</td> <th>  Prob(JB):          </th> <td>3.63e-15</td>\n",
       "</tr>\n",
       "<tr>\n",
       "  <th>Kurtosis:</th>      <td> 4.888</td> <th>  Cond. No.          </th> <td>2.36e+04</td>\n",
       "</tr>\n",
       "</table>"
      ],
      "text/plain": [
       "<class 'statsmodels.iolib.summary.Summary'>\n",
       "\"\"\"\n",
       "                            OLS Regression Results                            \n",
       "==============================================================================\n",
       "Dep. Variable:                    gpm   R-squared:                       0.793\n",
       "Model:                            OLS   Adj. R-squared:                  0.791\n",
       "Method:                 Least Squares   F-statistic:                     494.5\n",
       "Date:                Thu, 09 Jun 2016   Prob (F-statistic):          3.73e-132\n",
       "Time:                        20:51:08   Log-Likelihood:                 1358.3\n",
       "No. Observations:                 392   AIC:                            -2709.\n",
       "Df Residuals:                     388   BIC:                            -2693.\n",
       "Df Model:                           3                                         \n",
       "Covariance Type:            nonrobust                                         \n",
       "================================================================================================\n",
       "                                   coef    std err          t      P>|t|      [95.0% Conf. Int.]\n",
       "------------------------------------------------------------------------------------------------\n",
       "Intercept                       -0.0160      0.005     -3.229      0.001        -0.026    -0.006\n",
       "displacement_sqrt                0.0031      0.000      8.903      0.000         0.002     0.004\n",
       "horsepower                       0.0004   6.06e-05      5.801      0.000         0.000     0.000\n",
       "displacement_sqrt:horsepower -9.639e-06   3.17e-06     -3.038      0.003     -1.59e-05  -3.4e-06\n",
       "==============================================================================\n",
       "Omnibus:                       28.410   Durbin-Watson:                   1.079\n",
       "Prob(Omnibus):                  0.000   Jarque-Bera (JB):               66.498\n",
       "Skew:                           0.356   Prob(JB):                     3.63e-15\n",
       "Kurtosis:                       4.888   Cond. No.                     2.36e+04\n",
       "==============================================================================\n",
       "\n",
       "Warnings:\n",
       "[1] Standard Errors assume that the covariance matrix of the errors is correctly specified.\n",
       "[2] The condition number is large, 2.36e+04. This might indicate that there are\n",
       "strong multicollinearity or other numerical problems.\n",
       "\"\"\""
      ]
     },
     "execution_count": 175,
     "metadata": {},
     "output_type": "execute_result"
    }
   ],
   "source": [
    "model = smf.ols(formula = 'gpm ~ displacement_sqrt + horsepower + displacement_sqrt * horsepower', data = df).fit()\n",
    "model.summary()\n",
    "\n",
    "#F should be more than 4 (?)"
   ]
  },
  {
   "cell_type": "code",
   "execution_count": 181,
   "metadata": {
    "collapsed": false
   },
   "outputs": [],
   "source": [
    "df['age'] = 2016 - df.model_year"
   ]
  },
  {
   "cell_type": "code",
   "execution_count": 183,
   "metadata": {
    "collapsed": false
   },
   "outputs": [
    {
     "data": {
      "text/plain": [
       "Index([u'mpg', u'displacement', u'horsepower', u'weight', u'acceleration',\n",
       "       u'model_year', u'car_name', u'displacement_sqrt', u'horsepower_sqrt',\n",
       "       u'displacement_log', u'horsepower_log', u'displacement_square',\n",
       "       u'horsepower_sqare', u'horsepower_inv', u'gpm', u'age'],\n",
       "      dtype='object')"
      ]
     },
     "execution_count": 183,
     "metadata": {},
     "output_type": "execute_result"
    }
   ],
   "source": [
    "df.columns"
   ]
  },
  {
   "cell_type": "code",
   "execution_count": 184,
   "metadata": {
    "collapsed": false
   },
   "outputs": [
    {
     "data": {
      "text/html": [
       "<div>\n",
       "<table border=\"1\" class=\"dataframe\">\n",
       "  <thead>\n",
       "    <tr style=\"text-align: right;\">\n",
       "      <th></th>\n",
       "      <th>mpg</th>\n",
       "      <th>displacement</th>\n",
       "      <th>horsepower</th>\n",
       "      <th>weight</th>\n",
       "      <th>acceleration</th>\n",
       "      <th>...</th>\n",
       "      <th>displacement_square</th>\n",
       "      <th>horsepower_sqare</th>\n",
       "      <th>horsepower_inv</th>\n",
       "      <th>gpm</th>\n",
       "      <th>age</th>\n",
       "    </tr>\n",
       "  </thead>\n",
       "  <tbody>\n",
       "    <tr>\n",
       "      <th>0</th>\n",
       "      <td>18.0</td>\n",
       "      <td>307.0</td>\n",
       "      <td>130.0</td>\n",
       "      <td>3504.0</td>\n",
       "      <td>12.0</td>\n",
       "      <td>...</td>\n",
       "      <td>94249.0</td>\n",
       "      <td>16900.0</td>\n",
       "      <td>0.007692</td>\n",
       "      <td>0.055556</td>\n",
       "      <td>1946</td>\n",
       "    </tr>\n",
       "    <tr>\n",
       "      <th>1</th>\n",
       "      <td>15.0</td>\n",
       "      <td>350.0</td>\n",
       "      <td>165.0</td>\n",
       "      <td>3693.0</td>\n",
       "      <td>11.5</td>\n",
       "      <td>...</td>\n",
       "      <td>122500.0</td>\n",
       "      <td>27225.0</td>\n",
       "      <td>0.006061</td>\n",
       "      <td>0.066667</td>\n",
       "      <td>1946</td>\n",
       "    </tr>\n",
       "    <tr>\n",
       "      <th>2</th>\n",
       "      <td>18.0</td>\n",
       "      <td>318.0</td>\n",
       "      <td>150.0</td>\n",
       "      <td>3436.0</td>\n",
       "      <td>11.0</td>\n",
       "      <td>...</td>\n",
       "      <td>101124.0</td>\n",
       "      <td>22500.0</td>\n",
       "      <td>0.006667</td>\n",
       "      <td>0.055556</td>\n",
       "      <td>1946</td>\n",
       "    </tr>\n",
       "    <tr>\n",
       "      <th>3</th>\n",
       "      <td>16.0</td>\n",
       "      <td>304.0</td>\n",
       "      <td>150.0</td>\n",
       "      <td>3433.0</td>\n",
       "      <td>12.0</td>\n",
       "      <td>...</td>\n",
       "      <td>92416.0</td>\n",
       "      <td>22500.0</td>\n",
       "      <td>0.006667</td>\n",
       "      <td>0.062500</td>\n",
       "      <td>1946</td>\n",
       "    </tr>\n",
       "    <tr>\n",
       "      <th>4</th>\n",
       "      <td>17.0</td>\n",
       "      <td>302.0</td>\n",
       "      <td>140.0</td>\n",
       "      <td>3449.0</td>\n",
       "      <td>10.5</td>\n",
       "      <td>...</td>\n",
       "      <td>91204.0</td>\n",
       "      <td>19600.0</td>\n",
       "      <td>0.007143</td>\n",
       "      <td>0.058824</td>\n",
       "      <td>1946</td>\n",
       "    </tr>\n",
       "  </tbody>\n",
       "</table>\n",
       "<p>5 rows × 16 columns</p>\n",
       "</div>"
      ],
      "text/plain": [
       "    mpg  displacement  horsepower  weight  acceleration  ...   \\\n",
       "0  18.0         307.0       130.0  3504.0          12.0  ...    \n",
       "1  15.0         350.0       165.0  3693.0          11.5  ...    \n",
       "2  18.0         318.0       150.0  3436.0          11.0  ...    \n",
       "3  16.0         304.0       150.0  3433.0          12.0  ...    \n",
       "4  17.0         302.0       140.0  3449.0          10.5  ...    \n",
       "\n",
       "   displacement_square horsepower_sqare  horsepower_inv       gpm   age  \n",
       "0              94249.0          16900.0        0.007692  0.055556  1946  \n",
       "1             122500.0          27225.0        0.006061  0.066667  1946  \n",
       "2             101124.0          22500.0        0.006667  0.055556  1946  \n",
       "3              92416.0          22500.0        0.006667  0.062500  1946  \n",
       "4              91204.0          19600.0        0.007143  0.058824  1946  \n",
       "\n",
       "[5 rows x 16 columns]"
      ]
     },
     "execution_count": 184,
     "metadata": {},
     "output_type": "execute_result"
    }
   ],
   "source": [
    "df.head()"
   ]
  },
  {
   "cell_type": "code",
   "execution_count": 190,
   "metadata": {
    "collapsed": false
   },
   "outputs": [
    {
     "data": {
      "text/html": [
       "<table class=\"simpletable\">\n",
       "<caption>OLS Regression Results</caption>\n",
       "<tr>\n",
       "  <th>Dep. Variable:</th>           <td>gpm</td>       <th>  R-squared:         </th> <td>   0.881</td> \n",
       "</tr>\n",
       "<tr>\n",
       "  <th>Model:</th>                   <td>OLS</td>       <th>  Adj. R-squared:    </th> <td>   0.880</td> \n",
       "</tr>\n",
       "<tr>\n",
       "  <th>Method:</th>             <td>Least Squares</td>  <th>  F-statistic:       </th> <td>   718.8</td> \n",
       "</tr>\n",
       "<tr>\n",
       "  <th>Date:</th>             <td>Thu, 09 Jun 2016</td> <th>  Prob (F-statistic):</th> <td>1.23e-177</td>\n",
       "</tr>\n",
       "<tr>\n",
       "  <th>Time:</th>                 <td>20:58:29</td>     <th>  Log-Likelihood:    </th> <td>  1467.7</td> \n",
       "</tr>\n",
       "<tr>\n",
       "  <th>No. Observations:</th>      <td>   392</td>      <th>  AIC:               </th> <td>  -2925.</td> \n",
       "</tr>\n",
       "<tr>\n",
       "  <th>Df Residuals:</th>          <td>   387</td>      <th>  BIC:               </th> <td>  -2906.</td> \n",
       "</tr>\n",
       "<tr>\n",
       "  <th>Df Model:</th>              <td>     4</td>      <th>                     </th>     <td> </td>    \n",
       "</tr>\n",
       "<tr>\n",
       "  <th>Covariance Type:</th>      <td>nonrobust</td>    <th>                     </th>     <td> </td>    \n",
       "</tr>\n",
       "</table>\n",
       "<table class=\"simpletable\">\n",
       "<tr>\n",
       "           <td></td>              <th>coef</th>     <th>std err</th>      <th>t</th>      <th>P>|t|</th> <th>[95.0% Conf. Int.]</th> \n",
       "</tr>\n",
       "<tr>\n",
       "  <th>Intercept</th>           <td>   -1.2314</td> <td>    0.930</td> <td>   -1.325</td> <td> 0.186</td> <td>   -3.059     0.596</td>\n",
       "</tr>\n",
       "<tr>\n",
       "  <th>weight</th>              <td> 1.242e-05</td> <td>  7.2e-07</td> <td>   17.255</td> <td> 0.000</td> <td>  1.1e-05  1.38e-05</td>\n",
       "</tr>\n",
       "<tr>\n",
       "  <th>age</th>                 <td>    0.0006</td> <td>    0.000</td> <td>    1.319</td> <td> 0.188</td> <td>   -0.000     0.002</td>\n",
       "</tr>\n",
       "<tr>\n",
       "  <th>horsepower_sqrt</th>     <td>   -0.1295</td> <td>    0.094</td> <td>   -1.376</td> <td> 0.170</td> <td>   -0.315     0.056</td>\n",
       "</tr>\n",
       "<tr>\n",
       "  <th>age:horsepower_sqrt</th> <td> 6.758e-05</td> <td> 4.84e-05</td> <td>    1.395</td> <td> 0.164</td> <td>-2.77e-05     0.000</td>\n",
       "</tr>\n",
       "</table>\n",
       "<table class=\"simpletable\">\n",
       "<tr>\n",
       "  <th>Omnibus:</th>       <td>63.497</td> <th>  Durbin-Watson:     </th> <td>   1.435</td>\n",
       "</tr>\n",
       "<tr>\n",
       "  <th>Prob(Omnibus):</th> <td> 0.000</td> <th>  Jarque-Bera (JB):  </th> <td> 157.979</td>\n",
       "</tr>\n",
       "<tr>\n",
       "  <th>Skew:</th>          <td> 0.799</td> <th>  Prob(JB):          </th> <td>4.96e-35</td>\n",
       "</tr>\n",
       "<tr>\n",
       "  <th>Kurtosis:</th>      <td> 5.668</td> <th>  Cond. No.          </th> <td>6.47e+07</td>\n",
       "</tr>\n",
       "</table>"
      ],
      "text/plain": [
       "<class 'statsmodels.iolib.summary.Summary'>\n",
       "\"\"\"\n",
       "                            OLS Regression Results                            \n",
       "==============================================================================\n",
       "Dep. Variable:                    gpm   R-squared:                       0.881\n",
       "Model:                            OLS   Adj. R-squared:                  0.880\n",
       "Method:                 Least Squares   F-statistic:                     718.8\n",
       "Date:                Thu, 09 Jun 2016   Prob (F-statistic):          1.23e-177\n",
       "Time:                        20:58:29   Log-Likelihood:                 1467.7\n",
       "No. Observations:                 392   AIC:                            -2925.\n",
       "Df Residuals:                     387   BIC:                            -2906.\n",
       "Df Model:                           4                                         \n",
       "Covariance Type:            nonrobust                                         \n",
       "=======================================================================================\n",
       "                          coef    std err          t      P>|t|      [95.0% Conf. Int.]\n",
       "---------------------------------------------------------------------------------------\n",
       "Intercept              -1.2314      0.930     -1.325      0.186        -3.059     0.596\n",
       "weight               1.242e-05    7.2e-07     17.255      0.000       1.1e-05  1.38e-05\n",
       "age                     0.0006      0.000      1.319      0.188        -0.000     0.002\n",
       "horsepower_sqrt        -0.1295      0.094     -1.376      0.170        -0.315     0.056\n",
       "age:horsepower_sqrt  6.758e-05   4.84e-05      1.395      0.164     -2.77e-05     0.000\n",
       "==============================================================================\n",
       "Omnibus:                       63.497   Durbin-Watson:                   1.435\n",
       "Prob(Omnibus):                  0.000   Jarque-Bera (JB):              157.979\n",
       "Skew:                           0.799   Prob(JB):                     4.96e-35\n",
       "Kurtosis:                       5.668   Cond. No.                     6.47e+07\n",
       "==============================================================================\n",
       "\n",
       "Warnings:\n",
       "[1] Standard Errors assume that the covariance matrix of the errors is correctly specified.\n",
       "[2] The condition number is large, 6.47e+07. This might indicate that there are\n",
       "strong multicollinearity or other numerical problems.\n",
       "\"\"\""
      ]
     },
     "execution_count": 190,
     "metadata": {},
     "output_type": "execute_result"
    }
   ],
   "source": [
    "model = smf.ols(formula = 'gpm ~ weight + age + horsepower_sqrt + age * horsepower_sqrt', data = df).fit()\n",
    "model.summary()\n",
    "\n",
    "#model-year = age of car"
   ]
  },
  {
   "cell_type": "markdown",
   "metadata": {},
   "source": [
    "    NOTES: r2 = 0.880 (high)"
   ]
  },
  {
   "cell_type": "code",
   "execution_count": 189,
   "metadata": {
    "collapsed": false,
    "scrolled": true
   },
   "outputs": [
    {
     "data": {
      "text/html": [
       "<table class=\"simpletable\">\n",
       "<caption>OLS Regression Results</caption>\n",
       "<tr>\n",
       "  <th>Dep. Variable:</th>           <td>gpm</td>       <th>  R-squared:         </th> <td>   0.980</td>\n",
       "</tr>\n",
       "<tr>\n",
       "  <th>Model:</th>                   <td>OLS</td>       <th>  Adj. R-squared:    </th> <td>   0.980</td>\n",
       "</tr>\n",
       "<tr>\n",
       "  <th>Method:</th>             <td>Least Squares</td>  <th>  F-statistic:       </th> <td>   6382.</td>\n",
       "</tr>\n",
       "<tr>\n",
       "  <th>Date:</th>             <td>Thu, 09 Jun 2016</td> <th>  Prob (F-statistic):</th>  <td>  0.00</td> \n",
       "</tr>\n",
       "<tr>\n",
       "  <th>Time:</th>                 <td>20:58:12</td>     <th>  Log-Likelihood:    </th> <td>  1380.8</td>\n",
       "</tr>\n",
       "<tr>\n",
       "  <th>No. Observations:</th>      <td>   392</td>      <th>  AIC:               </th> <td>  -2756.</td>\n",
       "</tr>\n",
       "<tr>\n",
       "  <th>Df Residuals:</th>          <td>   389</td>      <th>  BIC:               </th> <td>  -2744.</td>\n",
       "</tr>\n",
       "<tr>\n",
       "  <th>Df Model:</th>              <td>     3</td>      <th>                     </th>     <td> </td>   \n",
       "</tr>\n",
       "<tr>\n",
       "  <th>Covariance Type:</th>      <td>nonrobust</td>    <th>                     </th>     <td> </td>   \n",
       "</tr>\n",
       "</table>\n",
       "<table class=\"simpletable\">\n",
       "<tr>\n",
       "          <td></td>             <th>coef</th>     <th>std err</th>      <th>t</th>      <th>P>|t|</th> <th>[95.0% Conf. Int.]</th> \n",
       "</tr>\n",
       "<tr>\n",
       "  <th>weight</th>            <td> 1.078e-05</td> <td> 6.81e-07</td> <td>   15.841</td> <td> 0.000</td> <td> 9.45e-06  1.21e-05</td>\n",
       "</tr>\n",
       "<tr>\n",
       "  <th>horsepower</th>        <td>    0.0001</td> <td> 2.54e-05</td> <td>    5.192</td> <td> 0.000</td> <td> 8.21e-05     0.000</td>\n",
       "</tr>\n",
       "<tr>\n",
       "  <th>weight:horsepower</th> <td> 5.636e-09</td> <td> 3.81e-09</td> <td>    1.480</td> <td> 0.140</td> <td>-1.85e-09  1.31e-08</td>\n",
       "</tr>\n",
       "</table>\n",
       "<table class=\"simpletable\">\n",
       "<tr>\n",
       "  <th>Omnibus:</th>       <td>20.590</td> <th>  Durbin-Watson:     </th> <td>   1.012</td>\n",
       "</tr>\n",
       "<tr>\n",
       "  <th>Prob(Omnibus):</th> <td> 0.000</td> <th>  Jarque-Bera (JB):  </th> <td>  31.387</td>\n",
       "</tr>\n",
       "<tr>\n",
       "  <th>Skew:</th>          <td> 0.385</td> <th>  Prob(JB):          </th> <td>1.53e-07</td>\n",
       "</tr>\n",
       "<tr>\n",
       "  <th>Kurtosis:</th>      <td> 4.153</td> <th>  Cond. No.          </th> <td>2.84e+04</td>\n",
       "</tr>\n",
       "</table>"
      ],
      "text/plain": [
       "<class 'statsmodels.iolib.summary.Summary'>\n",
       "\"\"\"\n",
       "                            OLS Regression Results                            \n",
       "==============================================================================\n",
       "Dep. Variable:                    gpm   R-squared:                       0.980\n",
       "Model:                            OLS   Adj. R-squared:                  0.980\n",
       "Method:                 Least Squares   F-statistic:                     6382.\n",
       "Date:                Thu, 09 Jun 2016   Prob (F-statistic):               0.00\n",
       "Time:                        20:58:12   Log-Likelihood:                 1380.8\n",
       "No. Observations:                 392   AIC:                            -2756.\n",
       "Df Residuals:                     389   BIC:                            -2744.\n",
       "Df Model:                           3                                         \n",
       "Covariance Type:            nonrobust                                         \n",
       "=====================================================================================\n",
       "                        coef    std err          t      P>|t|      [95.0% Conf. Int.]\n",
       "-------------------------------------------------------------------------------------\n",
       "weight             1.078e-05   6.81e-07     15.841      0.000      9.45e-06  1.21e-05\n",
       "horsepower            0.0001   2.54e-05      5.192      0.000      8.21e-05     0.000\n",
       "weight:horsepower  5.636e-09   3.81e-09      1.480      0.140     -1.85e-09  1.31e-08\n",
       "==============================================================================\n",
       "Omnibus:                       20.590   Durbin-Watson:                   1.012\n",
       "Prob(Omnibus):                  0.000   Jarque-Bera (JB):               31.387\n",
       "Skew:                           0.385   Prob(JB):                     1.53e-07\n",
       "Kurtosis:                       4.153   Cond. No.                     2.84e+04\n",
       "==============================================================================\n",
       "\n",
       "Warnings:\n",
       "[1] Standard Errors assume that the covariance matrix of the errors is correctly specified.\n",
       "[2] The condition number is large, 2.84e+04. This might indicate that there are\n",
       "strong multicollinearity or other numerical problems.\n",
       "\"\"\""
      ]
     },
     "execution_count": 189,
     "metadata": {},
     "output_type": "execute_result"
    }
   ],
   "source": [
    "model = smf.ols(formula = 'gpm ~ 0 + weight + horsepower + weight * horsepower', data = df).fit()\n",
    "model.summary()\n",
    "\n",
    "#0  --> force intercept to 0"
   ]
  },
  {
   "cell_type": "markdown",
   "metadata": {},
   "source": [
    "    NOTES: r-squared = 0.98"
   ]
  },
  {
   "cell_type": "markdown",
   "metadata": {},
   "source": [
    "## Split the dataset into a training set (60%) and a testing set (the rest)"
   ]
  },
  {
   "cell_type": "code",
   "execution_count": 158,
   "metadata": {
    "collapsed": true
   },
   "outputs": [],
   "source": [
    "train_df = df.sample(frac = .6, random_state = 0)\n",
    "test_df = df.drop(train_df.index)"
   ]
  },
  {
   "cell_type": "code",
   "execution_count": 166,
   "metadata": {
    "collapsed": false
   },
   "outputs": [
    {
     "data": {
      "text/plain": [
       "Index([u'mpg', u'displacement', u'horsepower', u'weight', u'acceleration',\n",
       "       u'model_year', u'car_name', u'displacement_sqrt', u'horsepower_sqrt',\n",
       "       u'displacement_log', u'horsepower_log', u'displacement_square',\n",
       "       u'horsepower_sqare', u'horsepower_inv', u'gpm'],\n",
       "      dtype='object')"
      ]
     },
     "execution_count": 166,
     "metadata": {},
     "output_type": "execute_result"
    }
   ],
   "source": [
    "train_df.columns"
   ]
  },
  {
   "cell_type": "code",
   "execution_count": 196,
   "metadata": {
    "collapsed": false
   },
   "outputs": [
    {
     "data": {
      "text/plain": [
       "0.076923    20\n",
       "0.071429    19\n",
       "0.055556    17\n",
       "0.066667    16\n",
       "0.038462    14\n",
       "            ..\n",
       "0.022573     1\n",
       "0.030488     1\n",
       "0.050505     1\n",
       "0.031949     1\n",
       "0.027473     1\n",
       "Name: gpm, dtype: int64"
      ]
     },
     "execution_count": 196,
     "metadata": {},
     "output_type": "execute_result"
    }
   ],
   "source": [
    "df.gpm.value_counts()"
   ]
  },
  {
   "cell_type": "markdown",
   "metadata": {},
   "source": [
    "##  ?????"
   ]
  },
  {
   "cell_type": "code",
   "execution_count": null,
   "metadata": {
    "collapsed": true
   },
   "outputs": [],
   "source": [
    "train_x = train_df[['displacement', 'horsepower_sqrt']]"
   ]
  },
  {
   "cell_type": "code",
   "execution_count": 192,
   "metadata": {
    "collapsed": false
   },
   "outputs": [],
   "source": [
    "names_X = ['displacement_sqrt', 'horsepower_sqrt', 'weight', 'acceleration']\n",
    "\n",
    "def X_y(df):\n",
    "    X = df[ names_X ]\n",
    "    y = df.gpm\n",
    "    return X, y\n",
    "\n",
    "train_X, train_y = X_y(train_df)\n",
    "test_X, test_y = X_y(test_df)"
   ]
  },
  {
   "cell_type": "code",
   "execution_count": 194,
   "metadata": {
    "collapsed": false,
    "scrolled": true
   },
   "outputs": [
    {
     "ename": "NameError",
     "evalue": "name 'train_x' is not defined",
     "output_type": "error",
     "traceback": [
      "\u001b[0;31m---------------------------------------------------------------------------\u001b[0m",
      "\u001b[0;31mNameError\u001b[0m                                 Traceback (most recent call last)",
      "\u001b[0;32m<ipython-input-194-d1fc47d5448a>\u001b[0m in \u001b[0;36m<module>\u001b[0;34m()\u001b[0m\n\u001b[0;32m----> 1\u001b[0;31m \u001b[0mlinear_model\u001b[0m \u001b[0;34m=\u001b[0m \u001b[0msmf\u001b[0m\u001b[0;34m.\u001b[0m\u001b[0mols\u001b[0m\u001b[0;34m(\u001b[0m\u001b[0mformula\u001b[0m \u001b[0;34m=\u001b[0m \u001b[0;34m'train_y ~ train_x'\u001b[0m\u001b[0;34m,\u001b[0m \u001b[0mdata\u001b[0m \u001b[0;34m=\u001b[0m \u001b[0mtrain_df\u001b[0m\u001b[0;34m)\u001b[0m\u001b[0;34m.\u001b[0m\u001b[0mfit\u001b[0m\u001b[0;34m(\u001b[0m\u001b[0;34m)\u001b[0m\u001b[0;34m\u001b[0m\u001b[0m\n\u001b[0m",
      "\u001b[0;32m/Users/Miranda/anaconda2/lib/python2.7/site-packages/statsmodels/base/model.pyc\u001b[0m in \u001b[0;36mfrom_formula\u001b[0;34m(cls, formula, data, subset, *args, **kwargs)\u001b[0m\n\u001b[1;32m    145\u001b[0m         (endog, exog), missing_idx = handle_formula_data(data, None, formula,\n\u001b[1;32m    146\u001b[0m                                                          \u001b[0mdepth\u001b[0m\u001b[0;34m=\u001b[0m\u001b[0meval_env\u001b[0m\u001b[0;34m,\u001b[0m\u001b[0;34m\u001b[0m\u001b[0m\n\u001b[0;32m--> 147\u001b[0;31m                                                          missing=missing)\n\u001b[0m\u001b[1;32m    148\u001b[0m         kwargs.update({'missing_idx': missing_idx,\n\u001b[1;32m    149\u001b[0m                        'missing': missing})\n",
      "\u001b[0;32m/Users/Miranda/anaconda2/lib/python2.7/site-packages/statsmodels/formula/formulatools.pyc\u001b[0m in \u001b[0;36mhandle_formula_data\u001b[0;34m(Y, X, formula, depth, missing)\u001b[0m\n\u001b[1;32m     63\u001b[0m         \u001b[0;32mif\u001b[0m \u001b[0mdata_util\u001b[0m\u001b[0;34m.\u001b[0m\u001b[0m_is_using_pandas\u001b[0m\u001b[0;34m(\u001b[0m\u001b[0mY\u001b[0m\u001b[0;34m,\u001b[0m \u001b[0mNone\u001b[0m\u001b[0;34m)\u001b[0m\u001b[0;34m:\u001b[0m\u001b[0;34m\u001b[0m\u001b[0m\n\u001b[1;32m     64\u001b[0m             result = dmatrices(formula, Y, depth, return_type='dataframe',\n\u001b[0;32m---> 65\u001b[0;31m                                NA_action=na_action)\n\u001b[0m\u001b[1;32m     66\u001b[0m         \u001b[0;32melse\u001b[0m\u001b[0;34m:\u001b[0m\u001b[0;34m\u001b[0m\u001b[0m\n\u001b[1;32m     67\u001b[0m             result = dmatrices(formula, Y, depth, return_type='dataframe',\n",
      "\u001b[0;32m/Users/Miranda/anaconda2/lib/python2.7/site-packages/patsy/highlevel.pyc\u001b[0m in \u001b[0;36mdmatrices\u001b[0;34m(formula_like, data, eval_env, NA_action, return_type)\u001b[0m\n\u001b[1;32m    295\u001b[0m     \u001b[0meval_env\u001b[0m \u001b[0;34m=\u001b[0m \u001b[0mEvalEnvironment\u001b[0m\u001b[0;34m.\u001b[0m\u001b[0mcapture\u001b[0m\u001b[0;34m(\u001b[0m\u001b[0meval_env\u001b[0m\u001b[0;34m,\u001b[0m \u001b[0mreference\u001b[0m\u001b[0;34m=\u001b[0m\u001b[0;36m1\u001b[0m\u001b[0;34m)\u001b[0m\u001b[0;34m\u001b[0m\u001b[0m\n\u001b[1;32m    296\u001b[0m     (lhs, rhs) = _do_highlevel_design(formula_like, data, eval_env,\n\u001b[0;32m--> 297\u001b[0;31m                                       NA_action, return_type)\n\u001b[0m\u001b[1;32m    298\u001b[0m     \u001b[0;32mif\u001b[0m \u001b[0mlhs\u001b[0m\u001b[0;34m.\u001b[0m\u001b[0mshape\u001b[0m\u001b[0;34m[\u001b[0m\u001b[0;36m1\u001b[0m\u001b[0;34m]\u001b[0m \u001b[0;34m==\u001b[0m \u001b[0;36m0\u001b[0m\u001b[0;34m:\u001b[0m\u001b[0;34m\u001b[0m\u001b[0m\n\u001b[1;32m    299\u001b[0m         \u001b[0;32mraise\u001b[0m \u001b[0mPatsyError\u001b[0m\u001b[0;34m(\u001b[0m\u001b[0;34m\"model is missing required outcome variables\"\u001b[0m\u001b[0;34m)\u001b[0m\u001b[0;34m\u001b[0m\u001b[0m\n",
      "\u001b[0;32m/Users/Miranda/anaconda2/lib/python2.7/site-packages/patsy/highlevel.pyc\u001b[0m in \u001b[0;36m_do_highlevel_design\u001b[0;34m(formula_like, data, eval_env, NA_action, return_type)\u001b[0m\n\u001b[1;32m    150\u001b[0m         \u001b[0;32mreturn\u001b[0m \u001b[0miter\u001b[0m\u001b[0;34m(\u001b[0m\u001b[0;34m[\u001b[0m\u001b[0mdata\u001b[0m\u001b[0;34m]\u001b[0m\u001b[0;34m)\u001b[0m\u001b[0;34m\u001b[0m\u001b[0m\n\u001b[1;32m    151\u001b[0m     design_infos = _try_incr_builders(formula_like, data_iter_maker, eval_env,\n\u001b[0;32m--> 152\u001b[0;31m                                       NA_action)\n\u001b[0m\u001b[1;32m    153\u001b[0m     \u001b[0;32mif\u001b[0m \u001b[0mdesign_infos\u001b[0m \u001b[0;32mis\u001b[0m \u001b[0;32mnot\u001b[0m \u001b[0mNone\u001b[0m\u001b[0;34m:\u001b[0m\u001b[0;34m\u001b[0m\u001b[0m\n\u001b[1;32m    154\u001b[0m         return build_design_matrices(design_infos, data,\n",
      "\u001b[0;32m/Users/Miranda/anaconda2/lib/python2.7/site-packages/patsy/highlevel.pyc\u001b[0m in \u001b[0;36m_try_incr_builders\u001b[0;34m(formula_like, data_iter_maker, eval_env, NA_action)\u001b[0m\n\u001b[1;32m     55\u001b[0m                                       \u001b[0mdata_iter_maker\u001b[0m\u001b[0;34m,\u001b[0m\u001b[0;34m\u001b[0m\u001b[0m\n\u001b[1;32m     56\u001b[0m                                       \u001b[0meval_env\u001b[0m\u001b[0;34m,\u001b[0m\u001b[0;34m\u001b[0m\u001b[0m\n\u001b[0;32m---> 57\u001b[0;31m                                       NA_action)\n\u001b[0m\u001b[1;32m     58\u001b[0m     \u001b[0;32melse\u001b[0m\u001b[0;34m:\u001b[0m\u001b[0;34m\u001b[0m\u001b[0m\n\u001b[1;32m     59\u001b[0m         \u001b[0;32mreturn\u001b[0m \u001b[0mNone\u001b[0m\u001b[0;34m\u001b[0m\u001b[0m\n",
      "\u001b[0;32m/Users/Miranda/anaconda2/lib/python2.7/site-packages/patsy/build.pyc\u001b[0m in \u001b[0;36mdesign_matrix_builders\u001b[0;34m(termlists, data_iter_maker, eval_env, NA_action)\u001b[0m\n\u001b[1;32m    694\u001b[0m                                                    \u001b[0mfactor_states\u001b[0m\u001b[0;34m,\u001b[0m\u001b[0;34m\u001b[0m\u001b[0m\n\u001b[1;32m    695\u001b[0m                                                    \u001b[0mdata_iter_maker\u001b[0m\u001b[0;34m,\u001b[0m\u001b[0;34m\u001b[0m\u001b[0m\n\u001b[0;32m--> 696\u001b[0;31m                                                    NA_action)\n\u001b[0m\u001b[1;32m    697\u001b[0m     \u001b[0;31m# Now we need the factor infos, which encapsulate the knowledge of\u001b[0m\u001b[0;34m\u001b[0m\u001b[0;34m\u001b[0m\u001b[0m\n\u001b[1;32m    698\u001b[0m     \u001b[0;31m# how to turn any given factor into a chunk of data:\u001b[0m\u001b[0;34m\u001b[0m\u001b[0;34m\u001b[0m\u001b[0m\n",
      "\u001b[0;32m/Users/Miranda/anaconda2/lib/python2.7/site-packages/patsy/build.pyc\u001b[0m in \u001b[0;36m_examine_factor_types\u001b[0;34m(factors, factor_states, data_iter_maker, NA_action)\u001b[0m\n\u001b[1;32m    441\u001b[0m     \u001b[0;32mfor\u001b[0m \u001b[0mdata\u001b[0m \u001b[0;32min\u001b[0m \u001b[0mdata_iter_maker\u001b[0m\u001b[0;34m(\u001b[0m\u001b[0;34m)\u001b[0m\u001b[0;34m:\u001b[0m\u001b[0;34m\u001b[0m\u001b[0m\n\u001b[1;32m    442\u001b[0m         \u001b[0;32mfor\u001b[0m \u001b[0mfactor\u001b[0m \u001b[0;32min\u001b[0m \u001b[0mlist\u001b[0m\u001b[0;34m(\u001b[0m\u001b[0mexamine_needed\u001b[0m\u001b[0;34m)\u001b[0m\u001b[0;34m:\u001b[0m\u001b[0;34m\u001b[0m\u001b[0m\n\u001b[0;32m--> 443\u001b[0;31m             \u001b[0mvalue\u001b[0m \u001b[0;34m=\u001b[0m \u001b[0mfactor\u001b[0m\u001b[0;34m.\u001b[0m\u001b[0meval\u001b[0m\u001b[0;34m(\u001b[0m\u001b[0mfactor_states\u001b[0m\u001b[0;34m[\u001b[0m\u001b[0mfactor\u001b[0m\u001b[0;34m]\u001b[0m\u001b[0;34m,\u001b[0m \u001b[0mdata\u001b[0m\u001b[0;34m)\u001b[0m\u001b[0;34m\u001b[0m\u001b[0m\n\u001b[0m\u001b[1;32m    444\u001b[0m             \u001b[0;32mif\u001b[0m \u001b[0mfactor\u001b[0m \u001b[0;32min\u001b[0m \u001b[0mcat_sniffers\u001b[0m \u001b[0;32mor\u001b[0m \u001b[0mguess_categorical\u001b[0m\u001b[0;34m(\u001b[0m\u001b[0mvalue\u001b[0m\u001b[0;34m)\u001b[0m\u001b[0;34m:\u001b[0m\u001b[0;34m\u001b[0m\u001b[0m\n\u001b[1;32m    445\u001b[0m                 \u001b[0;32mif\u001b[0m \u001b[0mfactor\u001b[0m \u001b[0;32mnot\u001b[0m \u001b[0;32min\u001b[0m \u001b[0mcat_sniffers\u001b[0m\u001b[0;34m:\u001b[0m\u001b[0;34m\u001b[0m\u001b[0m\n",
      "\u001b[0;32m/Users/Miranda/anaconda2/lib/python2.7/site-packages/patsy/eval.pyc\u001b[0m in \u001b[0;36meval\u001b[0;34m(self, memorize_state, data)\u001b[0m\n\u001b[1;32m    564\u001b[0m         return self._eval(memorize_state[\"eval_code\"],\n\u001b[1;32m    565\u001b[0m                           \u001b[0mmemorize_state\u001b[0m\u001b[0;34m,\u001b[0m\u001b[0;34m\u001b[0m\u001b[0m\n\u001b[0;32m--> 566\u001b[0;31m                           data)\n\u001b[0m\u001b[1;32m    567\u001b[0m \u001b[0;34m\u001b[0m\u001b[0m\n\u001b[1;32m    568\u001b[0m     \u001b[0m__getstate__\u001b[0m \u001b[0;34m=\u001b[0m \u001b[0mno_pickling\u001b[0m\u001b[0;34m\u001b[0m\u001b[0m\n",
      "\u001b[0;32m/Users/Miranda/anaconda2/lib/python2.7/site-packages/patsy/eval.pyc\u001b[0m in \u001b[0;36m_eval\u001b[0;34m(self, code, memorize_state, data)\u001b[0m\n\u001b[1;32m    549\u001b[0m                                  \u001b[0mmemorize_state\u001b[0m\u001b[0;34m[\u001b[0m\u001b[0;34m\"eval_env\"\u001b[0m\u001b[0;34m]\u001b[0m\u001b[0;34m.\u001b[0m\u001b[0meval\u001b[0m\u001b[0;34m,\u001b[0m\u001b[0;34m\u001b[0m\u001b[0m\n\u001b[1;32m    550\u001b[0m                                  \u001b[0mcode\u001b[0m\u001b[0;34m,\u001b[0m\u001b[0;34m\u001b[0m\u001b[0m\n\u001b[0;32m--> 551\u001b[0;31m                                  inner_namespace=inner_namespace)\n\u001b[0m\u001b[1;32m    552\u001b[0m \u001b[0;34m\u001b[0m\u001b[0m\n\u001b[1;32m    553\u001b[0m     \u001b[0;32mdef\u001b[0m \u001b[0mmemorize_chunk\u001b[0m\u001b[0;34m(\u001b[0m\u001b[0mself\u001b[0m\u001b[0;34m,\u001b[0m \u001b[0mstate\u001b[0m\u001b[0;34m,\u001b[0m \u001b[0mwhich_pass\u001b[0m\u001b[0;34m,\u001b[0m \u001b[0mdata\u001b[0m\u001b[0;34m)\u001b[0m\u001b[0;34m:\u001b[0m\u001b[0;34m\u001b[0m\u001b[0m\n",
      "\u001b[0;32m/Users/Miranda/anaconda2/lib/python2.7/site-packages/patsy/compat.pyc\u001b[0m in \u001b[0;36mcall_and_wrap_exc\u001b[0;34m(msg, origin, f, *args, **kwargs)\u001b[0m\n\u001b[1;32m    115\u001b[0m \u001b[0;32mdef\u001b[0m \u001b[0mcall_and_wrap_exc\u001b[0m\u001b[0;34m(\u001b[0m\u001b[0mmsg\u001b[0m\u001b[0;34m,\u001b[0m \u001b[0morigin\u001b[0m\u001b[0;34m,\u001b[0m \u001b[0mf\u001b[0m\u001b[0;34m,\u001b[0m \u001b[0;34m*\u001b[0m\u001b[0margs\u001b[0m\u001b[0;34m,\u001b[0m \u001b[0;34m**\u001b[0m\u001b[0mkwargs\u001b[0m\u001b[0;34m)\u001b[0m\u001b[0;34m:\u001b[0m\u001b[0;34m\u001b[0m\u001b[0m\n\u001b[1;32m    116\u001b[0m     \u001b[0;32mtry\u001b[0m\u001b[0;34m:\u001b[0m\u001b[0;34m\u001b[0m\u001b[0m\n\u001b[0;32m--> 117\u001b[0;31m         \u001b[0;32mreturn\u001b[0m \u001b[0mf\u001b[0m\u001b[0;34m(\u001b[0m\u001b[0;34m*\u001b[0m\u001b[0margs\u001b[0m\u001b[0;34m,\u001b[0m \u001b[0;34m**\u001b[0m\u001b[0mkwargs\u001b[0m\u001b[0;34m)\u001b[0m\u001b[0;34m\u001b[0m\u001b[0m\n\u001b[0m\u001b[1;32m    118\u001b[0m     \u001b[0;32mexcept\u001b[0m \u001b[0mException\u001b[0m \u001b[0;32mas\u001b[0m \u001b[0me\u001b[0m\u001b[0;34m:\u001b[0m\u001b[0;34m\u001b[0m\u001b[0m\n\u001b[1;32m    119\u001b[0m         \u001b[0;32mif\u001b[0m \u001b[0msys\u001b[0m\u001b[0;34m.\u001b[0m\u001b[0mversion_info\u001b[0m\u001b[0;34m[\u001b[0m\u001b[0;36m0\u001b[0m\u001b[0;34m]\u001b[0m \u001b[0;34m>=\u001b[0m \u001b[0;36m3\u001b[0m\u001b[0;34m:\u001b[0m\u001b[0;34m\u001b[0m\u001b[0m\n",
      "\u001b[0;32m/Users/Miranda/anaconda2/lib/python2.7/site-packages/patsy/eval.pyc\u001b[0m in \u001b[0;36meval\u001b[0;34m(self, expr, source_name, inner_namespace)\u001b[0m\n\u001b[1;32m    164\u001b[0m         \u001b[0mcode\u001b[0m \u001b[0;34m=\u001b[0m \u001b[0mcompile\u001b[0m\u001b[0;34m(\u001b[0m\u001b[0mexpr\u001b[0m\u001b[0;34m,\u001b[0m \u001b[0msource_name\u001b[0m\u001b[0;34m,\u001b[0m \u001b[0;34m\"eval\"\u001b[0m\u001b[0;34m,\u001b[0m \u001b[0mself\u001b[0m\u001b[0;34m.\u001b[0m\u001b[0mflags\u001b[0m\u001b[0;34m,\u001b[0m \u001b[0mFalse\u001b[0m\u001b[0;34m)\u001b[0m\u001b[0;34m\u001b[0m\u001b[0m\n\u001b[1;32m    165\u001b[0m         return eval(code, {}, VarLookupDict([inner_namespace]\n\u001b[0;32m--> 166\u001b[0;31m                                             + self._namespaces))\n\u001b[0m\u001b[1;32m    167\u001b[0m \u001b[0;34m\u001b[0m\u001b[0m\n\u001b[1;32m    168\u001b[0m     \u001b[0;34m@\u001b[0m\u001b[0mclassmethod\u001b[0m\u001b[0;34m\u001b[0m\u001b[0m\n",
      "\u001b[0;32m<string>\u001b[0m in \u001b[0;36m<module>\u001b[0;34m()\u001b[0m\n",
      "\u001b[0;31mNameError\u001b[0m: name 'train_x' is not defined"
     ]
    }
   ],
   "source": [
    "linear_model = smf.ols(formula = 'train_y ~ train_x', data = train_df).fit()"
   ]
  },
  {
   "cell_type": "code",
   "execution_count": 191,
   "metadata": {
    "collapsed": false
   },
   "outputs": [
    {
     "ename": "ValueError",
     "evalue": "Input contains NaN, infinity or a value too large for dtype('float64').",
     "output_type": "error",
     "traceback": [
      "\u001b[0;31m---------------------------------------------------------------------------\u001b[0m",
      "\u001b[0;31mValueError\u001b[0m                                Traceback (most recent call last)",
      "\u001b[0;32m<ipython-input-191-923b4908b76b>\u001b[0m in \u001b[0;36m<module>\u001b[0;34m()\u001b[0m\n\u001b[1;32m      1\u001b[0m \u001b[0mmodel\u001b[0m \u001b[0;34m=\u001b[0m \u001b[0mlinear_model\u001b[0m\u001b[0;34m.\u001b[0m\u001b[0mLogisticRegression\u001b[0m\u001b[0;34m(\u001b[0m\u001b[0;34m)\u001b[0m\u001b[0;34m\u001b[0m\u001b[0m\n\u001b[0;32m----> 2\u001b[0;31m \u001b[0mmodel\u001b[0m\u001b[0;34m.\u001b[0m\u001b[0mfit\u001b[0m\u001b[0;34m(\u001b[0m\u001b[0mtrain_X\u001b[0m\u001b[0;34m,\u001b[0m \u001b[0mtrain_y\u001b[0m\u001b[0;34m)\u001b[0m\u001b[0;34m\u001b[0m\u001b[0m\n\u001b[0m\u001b[1;32m      3\u001b[0m \u001b[0;34m\u001b[0m\u001b[0m\n\u001b[1;32m      4\u001b[0m \u001b[0;32mprint\u001b[0m \u001b[0mmodel\u001b[0m\u001b[0;34m.\u001b[0m\u001b[0mintercept_\u001b[0m\u001b[0;34m\u001b[0m\u001b[0m\n\u001b[1;32m      5\u001b[0m \u001b[0;32mprint\u001b[0m \u001b[0mmodel\u001b[0m\u001b[0;34m.\u001b[0m\u001b[0mcoef_\u001b[0m\u001b[0;34m\u001b[0m\u001b[0m\n",
      "\u001b[0;32m/Users/Miranda/anaconda2/lib/python2.7/site-packages/sklearn/linear_model/logistic.pyc\u001b[0m in \u001b[0;36mfit\u001b[0;34m(self, X, y, sample_weight)\u001b[0m\n\u001b[1;32m   1140\u001b[0m \u001b[0;34m\u001b[0m\u001b[0m\n\u001b[1;32m   1141\u001b[0m         X, y = check_X_y(X, y, accept_sparse='csr', dtype=np.float64, \n\u001b[0;32m-> 1142\u001b[0;31m                          order=\"C\")\n\u001b[0m\u001b[1;32m   1143\u001b[0m         \u001b[0mcheck_classification_targets\u001b[0m\u001b[0;34m(\u001b[0m\u001b[0my\u001b[0m\u001b[0;34m)\u001b[0m\u001b[0;34m\u001b[0m\u001b[0m\n\u001b[1;32m   1144\u001b[0m         \u001b[0mself\u001b[0m\u001b[0;34m.\u001b[0m\u001b[0mclasses_\u001b[0m \u001b[0;34m=\u001b[0m \u001b[0mnp\u001b[0m\u001b[0;34m.\u001b[0m\u001b[0munique\u001b[0m\u001b[0;34m(\u001b[0m\u001b[0my\u001b[0m\u001b[0;34m)\u001b[0m\u001b[0;34m\u001b[0m\u001b[0m\n",
      "\u001b[0;32m/Users/Miranda/anaconda2/lib/python2.7/site-packages/sklearn/utils/validation.pyc\u001b[0m in \u001b[0;36mcheck_X_y\u001b[0;34m(X, y, accept_sparse, dtype, order, copy, force_all_finite, ensure_2d, allow_nd, multi_output, ensure_min_samples, ensure_min_features, y_numeric, warn_on_dtype, estimator)\u001b[0m\n\u001b[1;32m    508\u001b[0m     X = check_array(X, accept_sparse, dtype, order, copy, force_all_finite,\n\u001b[1;32m    509\u001b[0m                     \u001b[0mensure_2d\u001b[0m\u001b[0;34m,\u001b[0m \u001b[0mallow_nd\u001b[0m\u001b[0;34m,\u001b[0m \u001b[0mensure_min_samples\u001b[0m\u001b[0;34m,\u001b[0m\u001b[0;34m\u001b[0m\u001b[0m\n\u001b[0;32m--> 510\u001b[0;31m                     ensure_min_features, warn_on_dtype, estimator)\n\u001b[0m\u001b[1;32m    511\u001b[0m     \u001b[0;32mif\u001b[0m \u001b[0mmulti_output\u001b[0m\u001b[0;34m:\u001b[0m\u001b[0;34m\u001b[0m\u001b[0m\n\u001b[1;32m    512\u001b[0m         y = check_array(y, 'csr', force_all_finite=True, ensure_2d=False,\n",
      "\u001b[0;32m/Users/Miranda/anaconda2/lib/python2.7/site-packages/sklearn/utils/validation.pyc\u001b[0m in \u001b[0;36mcheck_array\u001b[0;34m(array, accept_sparse, dtype, order, copy, force_all_finite, ensure_2d, allow_nd, ensure_min_samples, ensure_min_features, warn_on_dtype, estimator)\u001b[0m\n\u001b[1;32m    396\u001b[0m                              % (array.ndim, estimator_name))\n\u001b[1;32m    397\u001b[0m         \u001b[0;32mif\u001b[0m \u001b[0mforce_all_finite\u001b[0m\u001b[0;34m:\u001b[0m\u001b[0;34m\u001b[0m\u001b[0m\n\u001b[0;32m--> 398\u001b[0;31m             \u001b[0m_assert_all_finite\u001b[0m\u001b[0;34m(\u001b[0m\u001b[0marray\u001b[0m\u001b[0;34m)\u001b[0m\u001b[0;34m\u001b[0m\u001b[0m\n\u001b[0m\u001b[1;32m    399\u001b[0m \u001b[0;34m\u001b[0m\u001b[0m\n\u001b[1;32m    400\u001b[0m     \u001b[0mshape_repr\u001b[0m \u001b[0;34m=\u001b[0m \u001b[0m_shape_repr\u001b[0m\u001b[0;34m(\u001b[0m\u001b[0marray\u001b[0m\u001b[0;34m.\u001b[0m\u001b[0mshape\u001b[0m\u001b[0;34m)\u001b[0m\u001b[0;34m\u001b[0m\u001b[0m\n",
      "\u001b[0;32m/Users/Miranda/anaconda2/lib/python2.7/site-packages/sklearn/utils/validation.pyc\u001b[0m in \u001b[0;36m_assert_all_finite\u001b[0;34m(X)\u001b[0m\n\u001b[1;32m     52\u001b[0m             and not np.isfinite(X).all()):\n\u001b[1;32m     53\u001b[0m         raise ValueError(\"Input contains NaN, infinity\"\n\u001b[0;32m---> 54\u001b[0;31m                          \" or a value too large for %r.\" % X.dtype)\n\u001b[0m\u001b[1;32m     55\u001b[0m \u001b[0;34m\u001b[0m\u001b[0m\n\u001b[1;32m     56\u001b[0m \u001b[0;34m\u001b[0m\u001b[0m\n",
      "\u001b[0;31mValueError\u001b[0m: Input contains NaN, infinity or a value too large for dtype('float64')."
     ]
    }
   ],
   "source": [
    "model = linear_model.LogisticRegression()\n",
    "model.fit(train_X, train_y)\n",
    "\n",
    "print 'intercept    =', model.intercept_\n",
    "print 'coefficients =', model.coef_"
   ]
  },
  {
   "cell_type": "markdown",
   "metadata": {},
   "source": [
    "# LOAD DATA AGAIN - Ivan notes"
   ]
  },
  {
   "cell_type": "code",
   "execution_count": 197,
   "metadata": {
    "collapsed": true
   },
   "outputs": [],
   "source": [
    "df = pd.read_csv(os.path.join('..', 'datasets', 'auto-mpg.csv'))"
   ]
  },
  {
   "cell_type": "code",
   "execution_count": 198,
   "metadata": {
    "collapsed": true
   },
   "outputs": [],
   "source": [
    "df['gpm'] = 1. / df.mpg\n",
    "df['horsepower_sqrt'] = np.sqrt(df.horsepower)"
   ]
  },
  {
   "cell_type": "code",
   "execution_count": 199,
   "metadata": {
    "collapsed": true
   },
   "outputs": [],
   "source": [
    "\n",
    "df = df.dropna(axis = 0, subset = ['gpm', 'displacement', 'horsepower_sqrt', 'weight'])"
   ]
  },
  {
   "cell_type": "markdown",
   "metadata": {},
   "source": [
    "### CREATE TRAIN & TEST DATA"
   ]
  },
  {
   "cell_type": "code",
   "execution_count": 201,
   "metadata": {
    "collapsed": true
   },
   "outputs": [],
   "source": [
    "train_df = df.sample(frac = .6, random_state = 1)\n",
    "test_df = df.drop(train_df.index)"
   ]
  },
  {
   "cell_type": "markdown",
   "metadata": {},
   "source": [
    "## cylinders, horsepower_sqrt, weight"
   ]
  },
  {
   "cell_type": "markdown",
   "metadata": {},
   "source": [
    "### create x and y variables"
   ]
  },
  {
   "cell_type": "code",
   "execution_count": 202,
   "metadata": {
    "collapsed": true
   },
   "outputs": [],
   "source": [
    "train_X = train_df[ ['cylinders', 'horsepower_sqrt', 'weight'] ]\n",
    "train_y = train_df['gpm']\n",
    "\n",
    "#put capital X b/c x is a dataframe \n",
    "#y is a series "
   ]
  },
  {
   "cell_type": "markdown",
   "metadata": {},
   "source": [
    "### create model"
   ]
  },
  {
   "cell_type": "code",
   "execution_count": 208,
   "metadata": {
    "collapsed": false
   },
   "outputs": [
    {
     "name": "stdout",
     "output_type": "stream",
     "text": [
      "0.812602532292\n",
      "0.787735316391\n"
     ]
    }
   ],
   "source": [
    "model = linear_model.LinearRegression()\n",
    "\n",
    "model.fit(train_X, train_y)\n",
    "#training response\n",
    "#dont need to do when do cross_validation\n",
    "\n",
    "print model.score(train_X, train_y)\n",
    "#score  = 0.8126... (R2)\n",
    "\n",
    "print cross_validation.cross_val_score(model, train_X, train_y, cv = 10).mean()\n",
    "#10 = take 10 subsets of data; hold off 10% of the data for training; go through --> use training data 9 timex, use testing data once\n",
    "#if don't put mean, get 10 diff scores"
   ]
  },
  {
   "cell_type": "markdown",
   "metadata": {},
   "source": [
    "## horsepower_sqrt & weight"
   ]
  },
  {
   "cell_type": "code",
   "execution_count": 213,
   "metadata": {
    "collapsed": false
   },
   "outputs": [
    {
     "name": "stdout",
     "output_type": "stream",
     "text": [
      "0.789219068589\n"
     ]
    }
   ],
   "source": [
    "train_X = train_df[ ['horsepower_sqrt', 'weight'] ]\n",
    "train_y = train_df['gpm']\n",
    "\n",
    "model = linear_model.LinearRegression()\n",
    "\n",
    "#model.fit(train_X, train_y)\n",
    "\n",
    "#print model.score(train_X, train_y)\n",
    "\n",
    "print cross_validation.cross_val_score(model, train_X, train_y, cv = 10).mean()"
   ]
  },
  {
   "cell_type": "markdown",
   "metadata": {},
   "source": [
    "## cylinders & weight"
   ]
  },
  {
   "cell_type": "code",
   "execution_count": 214,
   "metadata": {
    "collapsed": false
   },
   "outputs": [
    {
     "name": "stdout",
     "output_type": "stream",
     "text": [
      "0.749686726631\n"
     ]
    }
   ],
   "source": [
    "train_X = train_df[ ['cylinders', 'weight'] ]\n",
    "train_y = train_df['gpm']\n",
    "\n",
    "model = linear_model.LinearRegression()\n",
    "\n",
    "#model.fit(train_X, train_y)\n",
    "\n",
    "#print model.score(train_X, train_y)\n",
    "\n",
    "print cross_validation.cross_val_score(model, train_X, train_y, cv = 10).mean()"
   ]
  },
  {
   "cell_type": "markdown",
   "metadata": {},
   "source": [
    "## cylinders & horsepower_sqrt"
   ]
  },
  {
   "cell_type": "code",
   "execution_count": 216,
   "metadata": {
    "collapsed": false
   },
   "outputs": [
    {
     "name": "stdout",
     "output_type": "stream",
     "text": [
      "0.756078244851\n"
     ]
    }
   ],
   "source": [
    "train_X = train_df[ ['cylinders', 'horsepower_sqrt'] ]\n",
    "train_y = train_df['gpm']\n",
    "\n",
    "model = linear_model.LinearRegression()\n",
    "\n",
    "#model.fit(train_X, train_y)\n",
    "\n",
    "#print model.score(train_X, train_y)\n",
    "\n",
    "print cross_validation.cross_val_score(model, train_X, train_y, cv = 10).mean()"
   ]
  },
  {
   "cell_type": "markdown",
   "metadata": {},
   "source": [
    "## horsepower_sqrt, weight, interaction (horsepower_sqrt * weight)"
   ]
  },
  {
   "cell_type": "code",
   "execution_count": 217,
   "metadata": {
    "collapsed": true
   },
   "outputs": [],
   "source": [
    "#train_df['horsepower_sqrt' * 'weight']  ##ADDD INFO - NOT COMPLETE "
   ]
  },
  {
   "cell_type": "code",
   "execution_count": null,
   "metadata": {
    "collapsed": true
   },
   "outputs": [],
   "source": []
  },
  {
   "cell_type": "code",
   "execution_count": null,
   "metadata": {
    "collapsed": true
   },
   "outputs": [],
   "source": []
  },
  {
   "cell_type": "code",
   "execution_count": null,
   "metadata": {
    "collapsed": true
   },
   "outputs": [],
   "source": []
  },
  {
   "cell_type": "code",
   "execution_count": null,
   "metadata": {
    "collapsed": true
   },
   "outputs": [],
   "source": [
    "##AFTER LOOK AT MODEL'S R2, IF ITS THE SAME AS OTHER R2 (BEGINING OF MODEL) THEN GOOD MODEL "
   ]
  }
 ],
 "metadata": {
  "kernelspec": {
   "display_name": "Python 2",
   "language": "python",
   "name": "python2"
  },
  "language_info": {
   "codemirror_mode": {
    "name": "ipython",
    "version": 2
   },
   "file_extension": ".py",
   "mimetype": "text/x-python",
   "name": "python",
   "nbconvert_exporter": "python",
   "pygments_lexer": "ipython2",
   "version": "2.7.11"
  }
 },
 "nbformat": 4,
 "nbformat_minor": 0
}
