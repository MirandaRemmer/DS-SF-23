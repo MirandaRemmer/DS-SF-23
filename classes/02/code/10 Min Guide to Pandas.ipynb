{
 "cells": [
  {
   "cell_type": "code",
   "execution_count": 32,
   "metadata": {
    "collapsed": true
   },
   "outputs": [],
   "source": [
    "import pandas as pd"
   ]
  },
  {
   "cell_type": "code",
   "execution_count": 33,
   "metadata": {
    "collapsed": true
   },
   "outputs": [],
   "source": [
    "import numpy as np"
   ]
  },
  {
   "cell_type": "code",
   "execution_count": 34,
   "metadata": {
    "collapsed": false
   },
   "outputs": [],
   "source": [
    "import matplotlib.pyplot as plt"
   ]
  },
  {
   "cell_type": "markdown",
   "metadata": {},
   "source": [
    "Creating a Series by passing a list of values, letting pandas create a default integer index:"
   ]
  },
  {
   "cell_type": "code",
   "execution_count": 35,
   "metadata": {
    "collapsed": true
   },
   "outputs": [],
   "source": [
    "s = pd.Series([1,3,4,np.nan,6,8])"
   ]
  },
  {
   "cell_type": "code",
   "execution_count": 36,
   "metadata": {
    "collapsed": false,
    "scrolled": true
   },
   "outputs": [
    {
     "data": {
      "text/plain": [
       "0    1.0\n",
       "1    3.0\n",
       "2    4.0\n",
       "3    NaN\n",
       "4    6.0\n",
       "5    8.0\n",
       "dtype: float64"
      ]
     },
     "execution_count": 36,
     "metadata": {},
     "output_type": "execute_result"
    }
   ],
   "source": [
    "s"
   ]
  },
  {
   "cell_type": "markdown",
   "metadata": {},
   "source": [
    "Creating a DataFrame by passing a numpy array, with a datetime index and labeled columns:"
   ]
  },
  {
   "cell_type": "code",
   "execution_count": 37,
   "metadata": {
    "collapsed": true
   },
   "outputs": [],
   "source": [
    "dates = pd.date_range('20120101', periods=6)"
   ]
  },
  {
   "cell_type": "code",
   "execution_count": 38,
   "metadata": {
    "collapsed": false
   },
   "outputs": [
    {
     "data": {
      "text/plain": [
       "DatetimeIndex(['2012-01-01', '2012-01-02', '2012-01-03', '2012-01-04',\n",
       "               '2012-01-05', '2012-01-06'],\n",
       "              dtype='datetime64[ns]', freq='D')"
      ]
     },
     "execution_count": 38,
     "metadata": {},
     "output_type": "execute_result"
    }
   ],
   "source": [
    "dates"
   ]
  },
  {
   "cell_type": "code",
   "execution_count": 39,
   "metadata": {
    "collapsed": true
   },
   "outputs": [],
   "source": [
    "df = pd.DataFrame(np.random.randn(6,4), index=dates, columns=list('ABCD'))"
   ]
  },
  {
   "cell_type": "code",
   "execution_count": 40,
   "metadata": {
    "collapsed": false
   },
   "outputs": [
    {
     "data": {
      "text/html": [
       "<div>\n",
       "<table border=\"1\" class=\"dataframe\">\n",
       "  <thead>\n",
       "    <tr style=\"text-align: right;\">\n",
       "      <th></th>\n",
       "      <th>A</th>\n",
       "      <th>B</th>\n",
       "      <th>C</th>\n",
       "      <th>D</th>\n",
       "    </tr>\n",
       "  </thead>\n",
       "  <tbody>\n",
       "    <tr>\n",
       "      <th>2012-01-01</th>\n",
       "      <td>-0.002534</td>\n",
       "      <td>-1.286109</td>\n",
       "      <td>0.873722</td>\n",
       "      <td>0.686788</td>\n",
       "    </tr>\n",
       "    <tr>\n",
       "      <th>2012-01-02</th>\n",
       "      <td>-0.620083</td>\n",
       "      <td>-0.735683</td>\n",
       "      <td>0.375891</td>\n",
       "      <td>0.849857</td>\n",
       "    </tr>\n",
       "    <tr>\n",
       "      <th>2012-01-03</th>\n",
       "      <td>-0.513469</td>\n",
       "      <td>-0.248377</td>\n",
       "      <td>0.765546</td>\n",
       "      <td>-0.474191</td>\n",
       "    </tr>\n",
       "    <tr>\n",
       "      <th>2012-01-04</th>\n",
       "      <td>0.648233</td>\n",
       "      <td>1.247924</td>\n",
       "      <td>0.592879</td>\n",
       "      <td>1.126082</td>\n",
       "    </tr>\n",
       "    <tr>\n",
       "      <th>2012-01-05</th>\n",
       "      <td>-0.079265</td>\n",
       "      <td>1.381555</td>\n",
       "      <td>-1.318551</td>\n",
       "      <td>0.920177</td>\n",
       "    </tr>\n",
       "    <tr>\n",
       "      <th>2012-01-06</th>\n",
       "      <td>1.467949</td>\n",
       "      <td>-1.117533</td>\n",
       "      <td>0.140306</td>\n",
       "      <td>-0.771816</td>\n",
       "    </tr>\n",
       "  </tbody>\n",
       "</table>\n",
       "</div>"
      ],
      "text/plain": [
       "                   A         B         C         D\n",
       "2012-01-01 -0.002534 -1.286109  0.873722  0.686788\n",
       "2012-01-02 -0.620083 -0.735683  0.375891  0.849857\n",
       "2012-01-03 -0.513469 -0.248377  0.765546 -0.474191\n",
       "2012-01-04  0.648233  1.247924  0.592879  1.126082\n",
       "2012-01-05 -0.079265  1.381555 -1.318551  0.920177\n",
       "2012-01-06  1.467949 -1.117533  0.140306 -0.771816"
      ]
     },
     "execution_count": 40,
     "metadata": {},
     "output_type": "execute_result"
    }
   ],
   "source": [
    "df"
   ]
  },
  {
   "cell_type": "markdown",
   "metadata": {},
   "source": [
    "Creating a DataFrame by passing a dict of objects that can be converted to series-like."
   ]
  },
  {
   "cell_type": "code",
   "execution_count": 41,
   "metadata": {
    "collapsed": false
   },
   "outputs": [],
   "source": [
    "df2 = pd.DataFrame({'A': 1.,\n",
    "                   'B' : pd.Timestamp('20130102'),\n",
    "                   'C' : pd.Series(1, index=list(range(4)),dtype='float32'),\n",
    "                   'D' : np.array([3] *4, dtype='int32'),\n",
    "                   'E' : pd.Categorical([\"test\",\"train\",\"test\",\"train\"]),\n",
    "                   'F' : 'foo'})"
   ]
  },
  {
   "cell_type": "code",
   "execution_count": 42,
   "metadata": {
    "collapsed": false
   },
   "outputs": [
    {
     "data": {
      "text/html": [
       "<div>\n",
       "<table border=\"1\" class=\"dataframe\">\n",
       "  <thead>\n",
       "    <tr style=\"text-align: right;\">\n",
       "      <th></th>\n",
       "      <th>A</th>\n",
       "      <th>B</th>\n",
       "      <th>C</th>\n",
       "      <th>D</th>\n",
       "      <th>E</th>\n",
       "      <th>F</th>\n",
       "    </tr>\n",
       "  </thead>\n",
       "  <tbody>\n",
       "    <tr>\n",
       "      <th>0</th>\n",
       "      <td>1.0</td>\n",
       "      <td>2013-01-02</td>\n",
       "      <td>1.0</td>\n",
       "      <td>3</td>\n",
       "      <td>test</td>\n",
       "      <td>foo</td>\n",
       "    </tr>\n",
       "    <tr>\n",
       "      <th>1</th>\n",
       "      <td>1.0</td>\n",
       "      <td>2013-01-02</td>\n",
       "      <td>1.0</td>\n",
       "      <td>3</td>\n",
       "      <td>train</td>\n",
       "      <td>foo</td>\n",
       "    </tr>\n",
       "    <tr>\n",
       "      <th>2</th>\n",
       "      <td>1.0</td>\n",
       "      <td>2013-01-02</td>\n",
       "      <td>1.0</td>\n",
       "      <td>3</td>\n",
       "      <td>test</td>\n",
       "      <td>foo</td>\n",
       "    </tr>\n",
       "    <tr>\n",
       "      <th>3</th>\n",
       "      <td>1.0</td>\n",
       "      <td>2013-01-02</td>\n",
       "      <td>1.0</td>\n",
       "      <td>3</td>\n",
       "      <td>train</td>\n",
       "      <td>foo</td>\n",
       "    </tr>\n",
       "  </tbody>\n",
       "</table>\n",
       "</div>"
      ],
      "text/plain": [
       "     A          B    C  D      E    F\n",
       "0  1.0 2013-01-02  1.0  3   test  foo\n",
       "1  1.0 2013-01-02  1.0  3  train  foo\n",
       "2  1.0 2013-01-02  1.0  3   test  foo\n",
       "3  1.0 2013-01-02  1.0  3  train  foo"
      ]
     },
     "execution_count": 42,
     "metadata": {},
     "output_type": "execute_result"
    }
   ],
   "source": [
    "df2"
   ]
  },
  {
   "cell_type": "markdown",
   "metadata": {},
   "source": [
    "Having specific dtypes"
   ]
  },
  {
   "cell_type": "code",
   "execution_count": 43,
   "metadata": {
    "collapsed": false
   },
   "outputs": [
    {
     "data": {
      "text/plain": [
       "A           float64\n",
       "B    datetime64[ns]\n",
       "C           float32\n",
       "D             int32\n",
       "E          category\n",
       "F            object\n",
       "dtype: object"
      ]
     },
     "execution_count": 43,
     "metadata": {},
     "output_type": "execute_result"
    }
   ],
   "source": [
    "df2.dtypes"
   ]
  },
  {
   "cell_type": "markdown",
   "metadata": {},
   "source": [
    "If you’re using IPython, tab completion for column names (as well as public attributes) is automatically enabled. Here’s a subset of the attributes that will be completed:"
   ]
  },
  {
   "cell_type": "markdown",
   "metadata": {},
   "source": [
    "df2.<TAB>"
   ]
  },
  {
   "cell_type": "markdown",
   "metadata": {},
   "source": [
    "See the top & bottom rows of the frame"
   ]
  },
  {
   "cell_type": "code",
   "execution_count": 20,
   "metadata": {
    "collapsed": false
   },
   "outputs": [
    {
     "data": {
      "text/html": [
       "<div>\n",
       "<table border=\"1\" class=\"dataframe\">\n",
       "  <thead>\n",
       "    <tr style=\"text-align: right;\">\n",
       "      <th></th>\n",
       "      <th>A</th>\n",
       "      <th>B</th>\n",
       "      <th>C</th>\n",
       "      <th>D</th>\n",
       "    </tr>\n",
       "  </thead>\n",
       "  <tbody>\n",
       "    <tr>\n",
       "      <th>2012-01-01</th>\n",
       "      <td>-0.434059</td>\n",
       "      <td>-0.000569</td>\n",
       "      <td>-1.810357</td>\n",
       "      <td>0.565488</td>\n",
       "    </tr>\n",
       "    <tr>\n",
       "      <th>2012-01-02</th>\n",
       "      <td>-0.684676</td>\n",
       "      <td>-1.720374</td>\n",
       "      <td>0.622417</td>\n",
       "      <td>0.361492</td>\n",
       "    </tr>\n",
       "    <tr>\n",
       "      <th>2012-01-03</th>\n",
       "      <td>0.051762</td>\n",
       "      <td>-1.012609</td>\n",
       "      <td>-0.207803</td>\n",
       "      <td>1.249396</td>\n",
       "    </tr>\n",
       "    <tr>\n",
       "      <th>2012-01-04</th>\n",
       "      <td>-1.585150</td>\n",
       "      <td>-0.059833</td>\n",
       "      <td>0.645171</td>\n",
       "      <td>0.519209</td>\n",
       "    </tr>\n",
       "    <tr>\n",
       "      <th>2012-01-05</th>\n",
       "      <td>-0.553733</td>\n",
       "      <td>0.486481</td>\n",
       "      <td>-1.184094</td>\n",
       "      <td>-0.944812</td>\n",
       "    </tr>\n",
       "  </tbody>\n",
       "</table>\n",
       "</div>"
      ],
      "text/plain": [
       "                   A         B         C         D\n",
       "2012-01-01 -0.434059 -0.000569 -1.810357  0.565488\n",
       "2012-01-02 -0.684676 -1.720374  0.622417  0.361492\n",
       "2012-01-03  0.051762 -1.012609 -0.207803  1.249396\n",
       "2012-01-04 -1.585150 -0.059833  0.645171  0.519209\n",
       "2012-01-05 -0.553733  0.486481 -1.184094 -0.944812"
      ]
     },
     "execution_count": 20,
     "metadata": {},
     "output_type": "execute_result"
    }
   ],
   "source": [
    "df.head()"
   ]
  },
  {
   "cell_type": "code",
   "execution_count": 21,
   "metadata": {
    "collapsed": false
   },
   "outputs": [
    {
     "data": {
      "text/html": [
       "<div>\n",
       "<table border=\"1\" class=\"dataframe\">\n",
       "  <thead>\n",
       "    <tr style=\"text-align: right;\">\n",
       "      <th></th>\n",
       "      <th>A</th>\n",
       "      <th>B</th>\n",
       "      <th>C</th>\n",
       "      <th>D</th>\n",
       "    </tr>\n",
       "  </thead>\n",
       "  <tbody>\n",
       "    <tr>\n",
       "      <th>2012-01-04</th>\n",
       "      <td>-1.585150</td>\n",
       "      <td>-0.059833</td>\n",
       "      <td>0.645171</td>\n",
       "      <td>0.519209</td>\n",
       "    </tr>\n",
       "    <tr>\n",
       "      <th>2012-01-05</th>\n",
       "      <td>-0.553733</td>\n",
       "      <td>0.486481</td>\n",
       "      <td>-1.184094</td>\n",
       "      <td>-0.944812</td>\n",
       "    </tr>\n",
       "    <tr>\n",
       "      <th>2012-01-06</th>\n",
       "      <td>0.398856</td>\n",
       "      <td>-0.464529</td>\n",
       "      <td>0.263256</td>\n",
       "      <td>1.802800</td>\n",
       "    </tr>\n",
       "  </tbody>\n",
       "</table>\n",
       "</div>"
      ],
      "text/plain": [
       "                   A         B         C         D\n",
       "2012-01-04 -1.585150 -0.059833  0.645171  0.519209\n",
       "2012-01-05 -0.553733  0.486481 -1.184094 -0.944812\n",
       "2012-01-06  0.398856 -0.464529  0.263256  1.802800"
      ]
     },
     "execution_count": 21,
     "metadata": {},
     "output_type": "execute_result"
    }
   ],
   "source": [
    "df.tail(3)"
   ]
  },
  {
   "cell_type": "markdown",
   "metadata": {},
   "source": [
    "Display the index, columns, and the underlying numpy data"
   ]
  },
  {
   "cell_type": "code",
   "execution_count": 22,
   "metadata": {
    "collapsed": false
   },
   "outputs": [
    {
     "data": {
      "text/plain": [
       "DatetimeIndex(['2012-01-01', '2012-01-02', '2012-01-03', '2012-01-04',\n",
       "               '2012-01-05', '2012-01-06'],\n",
       "              dtype='datetime64[ns]', freq='D')"
      ]
     },
     "execution_count": 22,
     "metadata": {},
     "output_type": "execute_result"
    }
   ],
   "source": [
    "df.index"
   ]
  },
  {
   "cell_type": "code",
   "execution_count": 23,
   "metadata": {
    "collapsed": false
   },
   "outputs": [
    {
     "data": {
      "text/plain": [
       "Index([u'A', u'B', u'C', u'D'], dtype='object')"
      ]
     },
     "execution_count": 23,
     "metadata": {},
     "output_type": "execute_result"
    }
   ],
   "source": [
    "df.columns"
   ]
  },
  {
   "cell_type": "code",
   "execution_count": 24,
   "metadata": {
    "collapsed": false
   },
   "outputs": [
    {
     "data": {
      "text/plain": [
       "array([[ -4.34059309e-01,  -5.69307223e-04,  -1.81035686e+00,\n",
       "          5.65487893e-01],\n",
       "       [ -6.84675647e-01,  -1.72037417e+00,   6.22416593e-01,\n",
       "          3.61491516e-01],\n",
       "       [  5.17618919e-02,  -1.01260921e+00,  -2.07803200e-01,\n",
       "          1.24939554e+00],\n",
       "       [ -1.58514993e+00,  -5.98333291e-02,   6.45170986e-01,\n",
       "          5.19208848e-01],\n",
       "       [ -5.53732936e-01,   4.86480975e-01,  -1.18409405e+00,\n",
       "         -9.44812015e-01],\n",
       "       [  3.98855611e-01,  -4.64528862e-01,   2.63255658e-01,\n",
       "          1.80279992e+00]])"
      ]
     },
     "execution_count": 24,
     "metadata": {},
     "output_type": "execute_result"
    }
   ],
   "source": [
    "df.values"
   ]
  },
  {
   "cell_type": "markdown",
   "metadata": {},
   "source": [
    "Describe shows a quick statistic summary of your data"
   ]
  },
  {
   "cell_type": "code",
   "execution_count": 26,
   "metadata": {
    "collapsed": false
   },
   "outputs": [
    {
     "data": {
      "text/html": [
       "<div>\n",
       "<table border=\"1\" class=\"dataframe\">\n",
       "  <thead>\n",
       "    <tr style=\"text-align: right;\">\n",
       "      <th></th>\n",
       "      <th>A</th>\n",
       "      <th>B</th>\n",
       "      <th>C</th>\n",
       "      <th>D</th>\n",
       "    </tr>\n",
       "  </thead>\n",
       "  <tbody>\n",
       "    <tr>\n",
       "      <th>count</th>\n",
       "      <td>6.000000</td>\n",
       "      <td>6.000000</td>\n",
       "      <td>6.000000</td>\n",
       "      <td>6.000000</td>\n",
       "    </tr>\n",
       "    <tr>\n",
       "      <th>mean</th>\n",
       "      <td>-0.467833</td>\n",
       "      <td>-0.461906</td>\n",
       "      <td>-0.278568</td>\n",
       "      <td>0.592262</td>\n",
       "    </tr>\n",
       "    <tr>\n",
       "      <th>std</th>\n",
       "      <td>0.681919</td>\n",
       "      <td>0.795104</td>\n",
       "      <td>1.012917</td>\n",
       "      <td>0.929423</td>\n",
       "    </tr>\n",
       "    <tr>\n",
       "      <th>min</th>\n",
       "      <td>-1.585150</td>\n",
       "      <td>-1.720374</td>\n",
       "      <td>-1.810357</td>\n",
       "      <td>-0.944812</td>\n",
       "    </tr>\n",
       "    <tr>\n",
       "      <th>25%</th>\n",
       "      <td>-0.651940</td>\n",
       "      <td>-0.875589</td>\n",
       "      <td>-0.940021</td>\n",
       "      <td>0.400921</td>\n",
       "    </tr>\n",
       "    <tr>\n",
       "      <th>50%</th>\n",
       "      <td>-0.493896</td>\n",
       "      <td>-0.262181</td>\n",
       "      <td>0.027726</td>\n",
       "      <td>0.542348</td>\n",
       "    </tr>\n",
       "    <tr>\n",
       "      <th>75%</th>\n",
       "      <td>-0.069693</td>\n",
       "      <td>-0.015385</td>\n",
       "      <td>0.532626</td>\n",
       "      <td>1.078419</td>\n",
       "    </tr>\n",
       "    <tr>\n",
       "      <th>max</th>\n",
       "      <td>0.398856</td>\n",
       "      <td>0.486481</td>\n",
       "      <td>0.645171</td>\n",
       "      <td>1.802800</td>\n",
       "    </tr>\n",
       "  </tbody>\n",
       "</table>\n",
       "</div>"
      ],
      "text/plain": [
       "              A         B         C         D\n",
       "count  6.000000  6.000000  6.000000  6.000000\n",
       "mean  -0.467833 -0.461906 -0.278568  0.592262\n",
       "std    0.681919  0.795104  1.012917  0.929423\n",
       "min   -1.585150 -1.720374 -1.810357 -0.944812\n",
       "25%   -0.651940 -0.875589 -0.940021  0.400921\n",
       "50%   -0.493896 -0.262181  0.027726  0.542348\n",
       "75%   -0.069693 -0.015385  0.532626  1.078419\n",
       "max    0.398856  0.486481  0.645171  1.802800"
      ]
     },
     "execution_count": 26,
     "metadata": {},
     "output_type": "execute_result"
    }
   ],
   "source": [
    "df.describe()"
   ]
  },
  {
   "cell_type": "markdown",
   "metadata": {},
   "source": [
    "Transposing your data"
   ]
  },
  {
   "cell_type": "code",
   "execution_count": 27,
   "metadata": {
    "collapsed": false
   },
   "outputs": [
    {
     "data": {
      "text/html": [
       "<div>\n",
       "<table border=\"1\" class=\"dataframe\">\n",
       "  <thead>\n",
       "    <tr style=\"text-align: right;\">\n",
       "      <th></th>\n",
       "      <th>2012-01-01 00:00:00</th>\n",
       "      <th>2012-01-02 00:00:00</th>\n",
       "      <th>2012-01-03 00:00:00</th>\n",
       "      <th>2012-01-04 00:00:00</th>\n",
       "      <th>2012-01-05 00:00:00</th>\n",
       "      <th>2012-01-06 00:00:00</th>\n",
       "    </tr>\n",
       "  </thead>\n",
       "  <tbody>\n",
       "    <tr>\n",
       "      <th>A</th>\n",
       "      <td>-0.434059</td>\n",
       "      <td>-0.684676</td>\n",
       "      <td>0.051762</td>\n",
       "      <td>-1.585150</td>\n",
       "      <td>-0.553733</td>\n",
       "      <td>0.398856</td>\n",
       "    </tr>\n",
       "    <tr>\n",
       "      <th>B</th>\n",
       "      <td>-0.000569</td>\n",
       "      <td>-1.720374</td>\n",
       "      <td>-1.012609</td>\n",
       "      <td>-0.059833</td>\n",
       "      <td>0.486481</td>\n",
       "      <td>-0.464529</td>\n",
       "    </tr>\n",
       "    <tr>\n",
       "      <th>C</th>\n",
       "      <td>-1.810357</td>\n",
       "      <td>0.622417</td>\n",
       "      <td>-0.207803</td>\n",
       "      <td>0.645171</td>\n",
       "      <td>-1.184094</td>\n",
       "      <td>0.263256</td>\n",
       "    </tr>\n",
       "    <tr>\n",
       "      <th>D</th>\n",
       "      <td>0.565488</td>\n",
       "      <td>0.361492</td>\n",
       "      <td>1.249396</td>\n",
       "      <td>0.519209</td>\n",
       "      <td>-0.944812</td>\n",
       "      <td>1.802800</td>\n",
       "    </tr>\n",
       "  </tbody>\n",
       "</table>\n",
       "</div>"
      ],
      "text/plain": [
       "   2012-01-01  2012-01-02  2012-01-03  2012-01-04  2012-01-05  2012-01-06\n",
       "A   -0.434059   -0.684676    0.051762   -1.585150   -0.553733    0.398856\n",
       "B   -0.000569   -1.720374   -1.012609   -0.059833    0.486481   -0.464529\n",
       "C   -1.810357    0.622417   -0.207803    0.645171   -1.184094    0.263256\n",
       "D    0.565488    0.361492    1.249396    0.519209   -0.944812    1.802800"
      ]
     },
     "execution_count": 27,
     "metadata": {},
     "output_type": "execute_result"
    }
   ],
   "source": [
    "df.T"
   ]
  },
  {
   "cell_type": "markdown",
   "metadata": {},
   "source": [
    "Sorting by an axis"
   ]
  },
  {
   "cell_type": "code",
   "execution_count": 30,
   "metadata": {
    "collapsed": false
   },
   "outputs": [
    {
     "data": {
      "text/html": [
       "<div>\n",
       "<table border=\"1\" class=\"dataframe\">\n",
       "  <thead>\n",
       "    <tr style=\"text-align: right;\">\n",
       "      <th></th>\n",
       "      <th>D</th>\n",
       "      <th>C</th>\n",
       "      <th>B</th>\n",
       "      <th>A</th>\n",
       "    </tr>\n",
       "  </thead>\n",
       "  <tbody>\n",
       "    <tr>\n",
       "      <th>2012-01-01</th>\n",
       "      <td>0.565488</td>\n",
       "      <td>-1.810357</td>\n",
       "      <td>-0.000569</td>\n",
       "      <td>-0.434059</td>\n",
       "    </tr>\n",
       "    <tr>\n",
       "      <th>2012-01-02</th>\n",
       "      <td>0.361492</td>\n",
       "      <td>0.622417</td>\n",
       "      <td>-1.720374</td>\n",
       "      <td>-0.684676</td>\n",
       "    </tr>\n",
       "    <tr>\n",
       "      <th>2012-01-03</th>\n",
       "      <td>1.249396</td>\n",
       "      <td>-0.207803</td>\n",
       "      <td>-1.012609</td>\n",
       "      <td>0.051762</td>\n",
       "    </tr>\n",
       "    <tr>\n",
       "      <th>2012-01-04</th>\n",
       "      <td>0.519209</td>\n",
       "      <td>0.645171</td>\n",
       "      <td>-0.059833</td>\n",
       "      <td>-1.585150</td>\n",
       "    </tr>\n",
       "    <tr>\n",
       "      <th>2012-01-05</th>\n",
       "      <td>-0.944812</td>\n",
       "      <td>-1.184094</td>\n",
       "      <td>0.486481</td>\n",
       "      <td>-0.553733</td>\n",
       "    </tr>\n",
       "    <tr>\n",
       "      <th>2012-01-06</th>\n",
       "      <td>1.802800</td>\n",
       "      <td>0.263256</td>\n",
       "      <td>-0.464529</td>\n",
       "      <td>0.398856</td>\n",
       "    </tr>\n",
       "  </tbody>\n",
       "</table>\n",
       "</div>"
      ],
      "text/plain": [
       "                   D         C         B         A\n",
       "2012-01-01  0.565488 -1.810357 -0.000569 -0.434059\n",
       "2012-01-02  0.361492  0.622417 -1.720374 -0.684676\n",
       "2012-01-03  1.249396 -0.207803 -1.012609  0.051762\n",
       "2012-01-04  0.519209  0.645171 -0.059833 -1.585150\n",
       "2012-01-05 -0.944812 -1.184094  0.486481 -0.553733\n",
       "2012-01-06  1.802800  0.263256 -0.464529  0.398856"
      ]
     },
     "execution_count": 30,
     "metadata": {},
     "output_type": "execute_result"
    }
   ],
   "source": [
    "df.sort_index(axis=1, ascending=False)"
   ]
  },
  {
   "cell_type": "markdown",
   "metadata": {},
   "source": [
    "Sorting by an values"
   ]
  },
  {
   "cell_type": "code",
   "execution_count": 31,
   "metadata": {
    "collapsed": false
   },
   "outputs": [
    {
     "data": {
      "text/html": [
       "<div>\n",
       "<table border=\"1\" class=\"dataframe\">\n",
       "  <thead>\n",
       "    <tr style=\"text-align: right;\">\n",
       "      <th></th>\n",
       "      <th>A</th>\n",
       "      <th>B</th>\n",
       "      <th>C</th>\n",
       "      <th>D</th>\n",
       "    </tr>\n",
       "  </thead>\n",
       "  <tbody>\n",
       "    <tr>\n",
       "      <th>2012-01-02</th>\n",
       "      <td>-0.684676</td>\n",
       "      <td>-1.720374</td>\n",
       "      <td>0.622417</td>\n",
       "      <td>0.361492</td>\n",
       "    </tr>\n",
       "    <tr>\n",
       "      <th>2012-01-03</th>\n",
       "      <td>0.051762</td>\n",
       "      <td>-1.012609</td>\n",
       "      <td>-0.207803</td>\n",
       "      <td>1.249396</td>\n",
       "    </tr>\n",
       "    <tr>\n",
       "      <th>2012-01-06</th>\n",
       "      <td>0.398856</td>\n",
       "      <td>-0.464529</td>\n",
       "      <td>0.263256</td>\n",
       "      <td>1.802800</td>\n",
       "    </tr>\n",
       "    <tr>\n",
       "      <th>2012-01-04</th>\n",
       "      <td>-1.585150</td>\n",
       "      <td>-0.059833</td>\n",
       "      <td>0.645171</td>\n",
       "      <td>0.519209</td>\n",
       "    </tr>\n",
       "    <tr>\n",
       "      <th>2012-01-01</th>\n",
       "      <td>-0.434059</td>\n",
       "      <td>-0.000569</td>\n",
       "      <td>-1.810357</td>\n",
       "      <td>0.565488</td>\n",
       "    </tr>\n",
       "    <tr>\n",
       "      <th>2012-01-05</th>\n",
       "      <td>-0.553733</td>\n",
       "      <td>0.486481</td>\n",
       "      <td>-1.184094</td>\n",
       "      <td>-0.944812</td>\n",
       "    </tr>\n",
       "  </tbody>\n",
       "</table>\n",
       "</div>"
      ],
      "text/plain": [
       "                   A         B         C         D\n",
       "2012-01-02 -0.684676 -1.720374  0.622417  0.361492\n",
       "2012-01-03  0.051762 -1.012609 -0.207803  1.249396\n",
       "2012-01-06  0.398856 -0.464529  0.263256  1.802800\n",
       "2012-01-04 -1.585150 -0.059833  0.645171  0.519209\n",
       "2012-01-01 -0.434059 -0.000569 -1.810357  0.565488\n",
       "2012-01-05 -0.553733  0.486481 -1.184094 -0.944812"
      ]
     },
     "execution_count": 31,
     "metadata": {},
     "output_type": "execute_result"
    }
   ],
   "source": [
    "df.sort_values(by='B')"
   ]
  },
  {
   "cell_type": "code",
   "execution_count": null,
   "metadata": {
    "collapsed": true
   },
   "outputs": [],
   "source": []
  },
  {
   "cell_type": "code",
   "execution_count": null,
   "metadata": {
    "collapsed": true
   },
   "outputs": [],
   "source": []
  }
 ],
 "metadata": {
  "kernelspec": {
   "display_name": "Python 2",
   "language": "python",
   "name": "python2"
  },
  "language_info": {
   "codemirror_mode": {
    "name": "ipython",
    "version": 2
   },
   "file_extension": ".py",
   "mimetype": "text/x-python",
   "name": "python",
   "nbconvert_exporter": "python",
   "pygments_lexer": "ipython2",
   "version": "2.7.11"
  }
 },
 "nbformat": 4,
 "nbformat_minor": 0
}
