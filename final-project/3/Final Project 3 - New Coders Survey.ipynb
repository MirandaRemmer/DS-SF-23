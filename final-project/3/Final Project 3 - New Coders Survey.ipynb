{
 "cells": [
  {
   "cell_type": "code",
   "execution_count": 94,
   "metadata": {
    "collapsed": false
   },
   "outputs": [
    {
     "name": "stdout",
     "output_type": "stream",
     "text": [
      "\n"
     ]
    }
   ],
   "source": [
    "import os\n",
    "import numpy as np\n",
    "import pandas as pd\n",
    "import csv\n",
    "import matplotlib.pyplot as plt\n",
    "import seaborn as sns\n",
    "import statsmodels.api as sm\n",
    "import statsmodels.formula.api as smf\n",
    "from sklearn import linear_model, metrics, cross_validation, feature_selection\n",
    "\n",
    "pd.set_option('display.max_rows', 10)\n",
    "pd.set_option('display.notebook_repr_html', True)\n",
    "pd.set_option('display.max_columns', 10)\n",
    "\n",
    "%matplotlib inline\n",
    "plt.style.use('ggplot')\n",
    "\n",
    "#pd.set_option('display.max_rows', 10)\n",
    "#pd.set_option('display.notebook_repr_html', True)\n",
    "#pd.set_option('display.max_columns', 10)"
   ]
  },
  {
   "cell_type": "code",
   "execution_count": 2,
   "metadata": {
    "collapsed": false
   },
   "outputs": [
    {
     "name": "stderr",
     "output_type": "stream",
     "text": [
      "/Users/Miranda/anaconda2/lib/python2.7/site-packages/IPython/core/interactiveshell.py:2723: DtypeWarning: Columns (21,57) have mixed types. Specify dtype option on import or set low_memory=False.\n",
      "  interactivity=interactivity, compiler=compiler, result=result)\n"
     ]
    }
   ],
   "source": [
    "df = pd.read_csv(os.path.join('..', 'CODE', '2016-FCC-New-Coders-Survey-Data.csv'))"
   ]
  },
  {
   "cell_type": "code",
   "execution_count": 26,
   "metadata": {
    "collapsed": false
   },
   "outputs": [
    {
     "data": {
      "text/html": [
       "<div>\n",
       "<table border=\"1\" class=\"dataframe\">\n",
       "  <thead>\n",
       "    <tr style=\"text-align: right;\">\n",
       "      <th></th>\n",
       "      <th>Age</th>\n",
       "      <th>AttendedBootcamp</th>\n",
       "      <th>BootcampFinish</th>\n",
       "      <th>BootcampFullJobAfter</th>\n",
       "      <th>BootcampLoanYesNo</th>\n",
       "      <th>...</th>\n",
       "      <th>ResourceW3Schools</th>\n",
       "      <th>ResourceYouTube</th>\n",
       "      <th>SchoolDegree</th>\n",
       "      <th>SchoolMajor</th>\n",
       "      <th>StudentDebtOwe</th>\n",
       "    </tr>\n",
       "  </thead>\n",
       "  <tbody>\n",
       "    <tr>\n",
       "      <th>0</th>\n",
       "      <td>28.0</td>\n",
       "      <td>0.0</td>\n",
       "      <td>NaN</td>\n",
       "      <td>NaN</td>\n",
       "      <td>NaN</td>\n",
       "      <td>...</td>\n",
       "      <td>NaN</td>\n",
       "      <td>NaN</td>\n",
       "      <td>some college credit, no degree</td>\n",
       "      <td>NaN</td>\n",
       "      <td>20000.0</td>\n",
       "    </tr>\n",
       "    <tr>\n",
       "      <th>1</th>\n",
       "      <td>22.0</td>\n",
       "      <td>0.0</td>\n",
       "      <td>NaN</td>\n",
       "      <td>NaN</td>\n",
       "      <td>NaN</td>\n",
       "      <td>...</td>\n",
       "      <td>NaN</td>\n",
       "      <td>NaN</td>\n",
       "      <td>some college credit, no degree</td>\n",
       "      <td>NaN</td>\n",
       "      <td>NaN</td>\n",
       "    </tr>\n",
       "    <tr>\n",
       "      <th>2</th>\n",
       "      <td>19.0</td>\n",
       "      <td>0.0</td>\n",
       "      <td>NaN</td>\n",
       "      <td>NaN</td>\n",
       "      <td>NaN</td>\n",
       "      <td>...</td>\n",
       "      <td>NaN</td>\n",
       "      <td>NaN</td>\n",
       "      <td>high school diploma or equivalent (GED)</td>\n",
       "      <td>NaN</td>\n",
       "      <td>NaN</td>\n",
       "    </tr>\n",
       "    <tr>\n",
       "      <th>3</th>\n",
       "      <td>26.0</td>\n",
       "      <td>0.0</td>\n",
       "      <td>NaN</td>\n",
       "      <td>NaN</td>\n",
       "      <td>NaN</td>\n",
       "      <td>...</td>\n",
       "      <td>NaN</td>\n",
       "      <td>NaN</td>\n",
       "      <td>bachelor's degree</td>\n",
       "      <td>Cinematography And Film</td>\n",
       "      <td>7000.0</td>\n",
       "    </tr>\n",
       "    <tr>\n",
       "      <th>4</th>\n",
       "      <td>20.0</td>\n",
       "      <td>0.0</td>\n",
       "      <td>NaN</td>\n",
       "      <td>NaN</td>\n",
       "      <td>NaN</td>\n",
       "      <td>...</td>\n",
       "      <td>NaN</td>\n",
       "      <td>NaN</td>\n",
       "      <td>some college credit, no degree</td>\n",
       "      <td>NaN</td>\n",
       "      <td>NaN</td>\n",
       "    </tr>\n",
       "    <tr>\n",
       "      <th>...</th>\n",
       "      <td>...</td>\n",
       "      <td>...</td>\n",
       "      <td>...</td>\n",
       "      <td>...</td>\n",
       "      <td>...</td>\n",
       "      <td>...</td>\n",
       "      <td>...</td>\n",
       "      <td>...</td>\n",
       "      <td>...</td>\n",
       "      <td>...</td>\n",
       "      <td>...</td>\n",
       "    </tr>\n",
       "    <tr>\n",
       "      <th>15615</th>\n",
       "      <td>39.0</td>\n",
       "      <td>0.0</td>\n",
       "      <td>NaN</td>\n",
       "      <td>NaN</td>\n",
       "      <td>NaN</td>\n",
       "      <td>...</td>\n",
       "      <td>NaN</td>\n",
       "      <td>NaN</td>\n",
       "      <td>bachelor's degree</td>\n",
       "      <td>Chemistry</td>\n",
       "      <td>NaN</td>\n",
       "    </tr>\n",
       "    <tr>\n",
       "      <th>15616</th>\n",
       "      <td>27.0</td>\n",
       "      <td>0.0</td>\n",
       "      <td>NaN</td>\n",
       "      <td>NaN</td>\n",
       "      <td>NaN</td>\n",
       "      <td>...</td>\n",
       "      <td>NaN</td>\n",
       "      <td>NaN</td>\n",
       "      <td>bachelor's degree</td>\n",
       "      <td>Electrical Engineering</td>\n",
       "      <td>NaN</td>\n",
       "    </tr>\n",
       "    <tr>\n",
       "      <th>15617</th>\n",
       "      <td>37.0</td>\n",
       "      <td>0.0</td>\n",
       "      <td>NaN</td>\n",
       "      <td>NaN</td>\n",
       "      <td>NaN</td>\n",
       "      <td>...</td>\n",
       "      <td>NaN</td>\n",
       "      <td>NaN</td>\n",
       "      <td>bachelor's degree</td>\n",
       "      <td>Chemistry</td>\n",
       "      <td>NaN</td>\n",
       "    </tr>\n",
       "    <tr>\n",
       "      <th>15618</th>\n",
       "      <td>26.0</td>\n",
       "      <td>0.0</td>\n",
       "      <td>NaN</td>\n",
       "      <td>NaN</td>\n",
       "      <td>NaN</td>\n",
       "      <td>...</td>\n",
       "      <td>NaN</td>\n",
       "      <td>NaN</td>\n",
       "      <td>master's degree (non-professional)</td>\n",
       "      <td>Math</td>\n",
       "      <td>NaN</td>\n",
       "    </tr>\n",
       "    <tr>\n",
       "      <th>15619</th>\n",
       "      <td>22.0</td>\n",
       "      <td>0.0</td>\n",
       "      <td>NaN</td>\n",
       "      <td>NaN</td>\n",
       "      <td>NaN</td>\n",
       "      <td>...</td>\n",
       "      <td>NaN</td>\n",
       "      <td>NaN</td>\n",
       "      <td>bachelor's degree</td>\n",
       "      <td>Graphic Design</td>\n",
       "      <td>40000.0</td>\n",
       "    </tr>\n",
       "  </tbody>\n",
       "</table>\n",
       "<p>15620 rows × 113 columns</p>\n",
       "</div>"
      ],
      "text/plain": [
       "        Age  AttendedBootcamp  BootcampFinish  BootcampFullJobAfter  \\\n",
       "0      28.0               0.0             NaN                   NaN   \n",
       "1      22.0               0.0             NaN                   NaN   \n",
       "2      19.0               0.0             NaN                   NaN   \n",
       "3      26.0               0.0             NaN                   NaN   \n",
       "4      20.0               0.0             NaN                   NaN   \n",
       "...     ...               ...             ...                   ...   \n",
       "15615  39.0               0.0             NaN                   NaN   \n",
       "15616  27.0               0.0             NaN                   NaN   \n",
       "15617  37.0               0.0             NaN                   NaN   \n",
       "15618  26.0               0.0             NaN                   NaN   \n",
       "15619  22.0               0.0             NaN                   NaN   \n",
       "\n",
       "       BootcampLoanYesNo       ...        ResourceW3Schools ResourceYouTube  \\\n",
       "0                    NaN       ...                      NaN             NaN   \n",
       "1                    NaN       ...                      NaN             NaN   \n",
       "2                    NaN       ...                      NaN             NaN   \n",
       "3                    NaN       ...                      NaN             NaN   \n",
       "4                    NaN       ...                      NaN             NaN   \n",
       "...                  ...       ...                      ...             ...   \n",
       "15615                NaN       ...                      NaN             NaN   \n",
       "15616                NaN       ...                      NaN             NaN   \n",
       "15617                NaN       ...                      NaN             NaN   \n",
       "15618                NaN       ...                      NaN             NaN   \n",
       "15619                NaN       ...                      NaN             NaN   \n",
       "\n",
       "                                  SchoolDegree              SchoolMajor  \\\n",
       "0               some college credit, no degree                      NaN   \n",
       "1               some college credit, no degree                      NaN   \n",
       "2      high school diploma or equivalent (GED)                      NaN   \n",
       "3                            bachelor's degree  Cinematography And Film   \n",
       "4               some college credit, no degree                      NaN   \n",
       "...                                        ...                      ...   \n",
       "15615                        bachelor's degree                Chemistry   \n",
       "15616                        bachelor's degree   Electrical Engineering   \n",
       "15617                        bachelor's degree                Chemistry   \n",
       "15618       master's degree (non-professional)                     Math   \n",
       "15619                        bachelor's degree           Graphic Design   \n",
       "\n",
       "       StudentDebtOwe  \n",
       "0             20000.0  \n",
       "1                 NaN  \n",
       "2                 NaN  \n",
       "3              7000.0  \n",
       "4                 NaN  \n",
       "...               ...  \n",
       "15615             NaN  \n",
       "15616             NaN  \n",
       "15617             NaN  \n",
       "15618             NaN  \n",
       "15619         40000.0  \n",
       "\n",
       "[15620 rows x 113 columns]"
      ]
     },
     "execution_count": 26,
     "metadata": {},
     "output_type": "execute_result"
    }
   ],
   "source": [
    "df"
   ]
  },
  {
   "cell_type": "code",
   "execution_count": 27,
   "metadata": {
    "collapsed": false,
    "scrolled": true
   },
   "outputs": [
    {
     "data": {
      "text/plain": [
       "Index([u'Age', u'AttendedBootcamp', u'BootcampFinish', u'BootcampFullJobAfter',\n",
       "       u'BootcampLoanYesNo', u'BootcampMonthsAgo', u'BootcampName',\n",
       "       u'BootcampPostSalary', u'BootcampRecommend', u'ChildrenNumber',\n",
       "       ...\n",
       "       u'ResourceSoloLearn', u'ResourceStackOverflow', u'ResourceTreehouse',\n",
       "       u'ResourceUdacity', u'ResourceUdemy', u'ResourceW3Schools',\n",
       "       u'ResourceYouTube', u'SchoolDegree', u'SchoolMajor', u'StudentDebtOwe'],\n",
       "      dtype='object', length=113)"
      ]
     },
     "execution_count": 27,
     "metadata": {},
     "output_type": "execute_result"
    }
   ],
   "source": [
    "df.columns"
   ]
  },
  {
   "cell_type": "code",
   "execution_count": 28,
   "metadata": {
    "collapsed": false
   },
   "outputs": [
    {
     "data": {
      "text/html": [
       "<div>\n",
       "<table border=\"1\" class=\"dataframe\">\n",
       "  <thead>\n",
       "    <tr style=\"text-align: right;\">\n",
       "      <th></th>\n",
       "      <th>Age</th>\n",
       "      <th>AttendedBootcamp</th>\n",
       "      <th>BootcampFinish</th>\n",
       "      <th>BootcampFullJobAfter</th>\n",
       "      <th>BootcampLoanYesNo</th>\n",
       "      <th>...</th>\n",
       "      <th>ResourceUdacity</th>\n",
       "      <th>ResourceUdemy</th>\n",
       "      <th>ResourceW3Schools</th>\n",
       "      <th>ResourceYouTube</th>\n",
       "      <th>StudentDebtOwe</th>\n",
       "    </tr>\n",
       "  </thead>\n",
       "  <tbody>\n",
       "    <tr>\n",
       "      <th>Age</th>\n",
       "      <td>1.000000</td>\n",
       "      <td>0.052738</td>\n",
       "      <td>0.100825</td>\n",
       "      <td>-0.276556</td>\n",
       "      <td>-0.010962</td>\n",
       "      <td>...</td>\n",
       "      <td>NaN</td>\n",
       "      <td>NaN</td>\n",
       "      <td>NaN</td>\n",
       "      <td>NaN</td>\n",
       "      <td>0.118368</td>\n",
       "    </tr>\n",
       "    <tr>\n",
       "      <th>AttendedBootcamp</th>\n",
       "      <td>0.052738</td>\n",
       "      <td>1.000000</td>\n",
       "      <td>NaN</td>\n",
       "      <td>NaN</td>\n",
       "      <td>NaN</td>\n",
       "      <td>...</td>\n",
       "      <td>NaN</td>\n",
       "      <td>NaN</td>\n",
       "      <td>NaN</td>\n",
       "      <td>NaN</td>\n",
       "      <td>-0.012080</td>\n",
       "    </tr>\n",
       "    <tr>\n",
       "      <th>BootcampFinish</th>\n",
       "      <td>0.100825</td>\n",
       "      <td>NaN</td>\n",
       "      <td>1.000000</td>\n",
       "      <td>NaN</td>\n",
       "      <td>0.040286</td>\n",
       "      <td>...</td>\n",
       "      <td>NaN</td>\n",
       "      <td>NaN</td>\n",
       "      <td>NaN</td>\n",
       "      <td>NaN</td>\n",
       "      <td>0.006506</td>\n",
       "    </tr>\n",
       "    <tr>\n",
       "      <th>BootcampFullJobAfter</th>\n",
       "      <td>-0.276556</td>\n",
       "      <td>NaN</td>\n",
       "      <td>NaN</td>\n",
       "      <td>1.000000</td>\n",
       "      <td>-0.001930</td>\n",
       "      <td>...</td>\n",
       "      <td>NaN</td>\n",
       "      <td>NaN</td>\n",
       "      <td>NaN</td>\n",
       "      <td>NaN</td>\n",
       "      <td>0.051056</td>\n",
       "    </tr>\n",
       "    <tr>\n",
       "      <th>BootcampLoanYesNo</th>\n",
       "      <td>-0.010962</td>\n",
       "      <td>NaN</td>\n",
       "      <td>0.040286</td>\n",
       "      <td>-0.001930</td>\n",
       "      <td>1.000000</td>\n",
       "      <td>...</td>\n",
       "      <td>NaN</td>\n",
       "      <td>NaN</td>\n",
       "      <td>NaN</td>\n",
       "      <td>NaN</td>\n",
       "      <td>-0.085362</td>\n",
       "    </tr>\n",
       "    <tr>\n",
       "      <th>...</th>\n",
       "      <td>...</td>\n",
       "      <td>...</td>\n",
       "      <td>...</td>\n",
       "      <td>...</td>\n",
       "      <td>...</td>\n",
       "      <td>...</td>\n",
       "      <td>...</td>\n",
       "      <td>...</td>\n",
       "      <td>...</td>\n",
       "      <td>...</td>\n",
       "      <td>...</td>\n",
       "    </tr>\n",
       "    <tr>\n",
       "      <th>ResourceUdacity</th>\n",
       "      <td>NaN</td>\n",
       "      <td>NaN</td>\n",
       "      <td>NaN</td>\n",
       "      <td>NaN</td>\n",
       "      <td>NaN</td>\n",
       "      <td>...</td>\n",
       "      <td>NaN</td>\n",
       "      <td>NaN</td>\n",
       "      <td>NaN</td>\n",
       "      <td>NaN</td>\n",
       "      <td>NaN</td>\n",
       "    </tr>\n",
       "    <tr>\n",
       "      <th>ResourceUdemy</th>\n",
       "      <td>NaN</td>\n",
       "      <td>NaN</td>\n",
       "      <td>NaN</td>\n",
       "      <td>NaN</td>\n",
       "      <td>NaN</td>\n",
       "      <td>...</td>\n",
       "      <td>NaN</td>\n",
       "      <td>NaN</td>\n",
       "      <td>NaN</td>\n",
       "      <td>NaN</td>\n",
       "      <td>NaN</td>\n",
       "    </tr>\n",
       "    <tr>\n",
       "      <th>ResourceW3Schools</th>\n",
       "      <td>NaN</td>\n",
       "      <td>NaN</td>\n",
       "      <td>NaN</td>\n",
       "      <td>NaN</td>\n",
       "      <td>NaN</td>\n",
       "      <td>...</td>\n",
       "      <td>NaN</td>\n",
       "      <td>NaN</td>\n",
       "      <td>NaN</td>\n",
       "      <td>NaN</td>\n",
       "      <td>NaN</td>\n",
       "    </tr>\n",
       "    <tr>\n",
       "      <th>ResourceYouTube</th>\n",
       "      <td>NaN</td>\n",
       "      <td>NaN</td>\n",
       "      <td>NaN</td>\n",
       "      <td>NaN</td>\n",
       "      <td>NaN</td>\n",
       "      <td>...</td>\n",
       "      <td>NaN</td>\n",
       "      <td>NaN</td>\n",
       "      <td>NaN</td>\n",
       "      <td>NaN</td>\n",
       "      <td>NaN</td>\n",
       "    </tr>\n",
       "    <tr>\n",
       "      <th>StudentDebtOwe</th>\n",
       "      <td>0.118368</td>\n",
       "      <td>-0.012080</td>\n",
       "      <td>0.006506</td>\n",
       "      <td>0.051056</td>\n",
       "      <td>-0.085362</td>\n",
       "      <td>...</td>\n",
       "      <td>NaN</td>\n",
       "      <td>NaN</td>\n",
       "      <td>NaN</td>\n",
       "      <td>NaN</td>\n",
       "      <td>1.000000</td>\n",
       "    </tr>\n",
       "  </tbody>\n",
       "</table>\n",
       "<p>85 rows × 85 columns</p>\n",
       "</div>"
      ],
      "text/plain": [
       "                           Age  AttendedBootcamp  BootcampFinish  \\\n",
       "Age                   1.000000          0.052738        0.100825   \n",
       "AttendedBootcamp      0.052738          1.000000             NaN   \n",
       "BootcampFinish        0.100825               NaN        1.000000   \n",
       "BootcampFullJobAfter -0.276556               NaN             NaN   \n",
       "BootcampLoanYesNo    -0.010962               NaN        0.040286   \n",
       "...                        ...               ...             ...   \n",
       "ResourceUdacity            NaN               NaN             NaN   \n",
       "ResourceUdemy              NaN               NaN             NaN   \n",
       "ResourceW3Schools          NaN               NaN             NaN   \n",
       "ResourceYouTube            NaN               NaN             NaN   \n",
       "StudentDebtOwe        0.118368         -0.012080        0.006506   \n",
       "\n",
       "                      BootcampFullJobAfter  BootcampLoanYesNo       ...        \\\n",
       "Age                              -0.276556          -0.010962       ...         \n",
       "AttendedBootcamp                       NaN                NaN       ...         \n",
       "BootcampFinish                         NaN           0.040286       ...         \n",
       "BootcampFullJobAfter              1.000000          -0.001930       ...         \n",
       "BootcampLoanYesNo                -0.001930           1.000000       ...         \n",
       "...                                    ...                ...       ...         \n",
       "ResourceUdacity                        NaN                NaN       ...         \n",
       "ResourceUdemy                          NaN                NaN       ...         \n",
       "ResourceW3Schools                      NaN                NaN       ...         \n",
       "ResourceYouTube                        NaN                NaN       ...         \n",
       "StudentDebtOwe                    0.051056          -0.085362       ...         \n",
       "\n",
       "                      ResourceUdacity  ResourceUdemy  ResourceW3Schools  \\\n",
       "Age                               NaN            NaN                NaN   \n",
       "AttendedBootcamp                  NaN            NaN                NaN   \n",
       "BootcampFinish                    NaN            NaN                NaN   \n",
       "BootcampFullJobAfter              NaN            NaN                NaN   \n",
       "BootcampLoanYesNo                 NaN            NaN                NaN   \n",
       "...                               ...            ...                ...   \n",
       "ResourceUdacity                   NaN            NaN                NaN   \n",
       "ResourceUdemy                     NaN            NaN                NaN   \n",
       "ResourceW3Schools                 NaN            NaN                NaN   \n",
       "ResourceYouTube                   NaN            NaN                NaN   \n",
       "StudentDebtOwe                    NaN            NaN                NaN   \n",
       "\n",
       "                      ResourceYouTube  StudentDebtOwe  \n",
       "Age                               NaN        0.118368  \n",
       "AttendedBootcamp                  NaN       -0.012080  \n",
       "BootcampFinish                    NaN        0.006506  \n",
       "BootcampFullJobAfter              NaN        0.051056  \n",
       "BootcampLoanYesNo                 NaN       -0.085362  \n",
       "...                               ...             ...  \n",
       "ResourceUdacity                   NaN             NaN  \n",
       "ResourceUdemy                     NaN             NaN  \n",
       "ResourceW3Schools                 NaN             NaN  \n",
       "ResourceYouTube                   NaN             NaN  \n",
       "StudentDebtOwe                    NaN        1.000000  \n",
       "\n",
       "[85 rows x 85 columns]"
      ]
     },
     "execution_count": 28,
     "metadata": {},
     "output_type": "execute_result"
    }
   ],
   "source": [
    "df.corr()"
   ]
  },
  {
   "cell_type": "code",
   "execution_count": 6,
   "metadata": {
    "collapsed": false
   },
   "outputs": [
    {
     "data": {
      "text/plain": [
       "array([nan, 'Codify Academy', 'DaVinci Coders', 'Coder Foundry',\n",
       "       'General Assembly', 'Thinkful', 'Flatiron School', 'DevMountain',\n",
       "       'The Iron Yard', 'Codeup', 'Code Fellows', 'Bloc.io',\n",
       "       'The Firehose Project', 'Prime Digital Academy',\n",
       "       'Free Code Camp is not a bootcamp - please scroll up and change answer to \"no\"',\n",
       "       'Galvanize', 'Ada', 'Skillcrush', 'Hack Reactor', 'Coding House',\n",
       "       'Software Guild', 'BrainStation', 'Fullstack Academy',\n",
       "       'Makers Academy', 'Turing', 'Lighthouse Labs', 'MakerSquare',\n",
       "       'Wyncode', 'Dev Bootcamp', 'Bit Bootcamp', 'Coder Camps',\n",
       "       'IronHack', 'Epicodus', 'Tech Talent South', 'Coding Dojo',\n",
       "       'PDX Code Guild', 'Hackbright Academy', 'CareerFoundry',\n",
       "       'LearningFuze', 'Zip Code Wilmington', 'Launch Academy',\n",
       "       'LAMP Camp', 'Nashville Software School', 'RefactorU',\n",
       "       'CodeCore Bootcamp', 'Sabio.la', 'Grand Circus', 'App Academy',\n",
       "       'Devschool', 'Learn.Modern-Developer', 'Grace Hopper Academy',\n",
       "       'Viking Code School', 'Mobile Makers Academy', 'BoiseCodeWorks',\n",
       "       'New York Code + Design Academy', 'V School',\n",
       "       'Tech Academy Portland', 'Rutgers Coding Bootcamp',\n",
       "       'Startup Institute', 'Codesmith', 'tradecraft', 'Telegraph Academy',\n",
       "       'Bitmaker Labs', 'Camp Code Away', 'Betamore',\n",
       "       'Ladies Learning Code', 'Anyone Can Learn To Code',\n",
       "       'Starter League', 'Academy X', 'CodeNinja', 'Dev League',\n",
       "       'EHD Academy', 'Orange County Code School', 'Digital House',\n",
       "       'Interface Web School', 'Coder Factory', 'DigitalCrafts',\n",
       "       'CodeCraft School', 'LEARN Academy', 'Metis', '10x.org.il',\n",
       "       'CODEcamp Charleston', 'Fire Bootcamp',\n",
       "       'Launch School (formerly Tealeaf Academy)', 'Omaha Code School',\n",
       "       'Dev Academy', 'Atlanta Code', '4Geeks Academy',\n",
       "       'Microsoft Research Data Science Summer School', 'devCodeCamp',\n",
       "       'The Data Incubator', 'Montana Code School',\n",
       "       'Academia de C\\xc3\\xb3digo', 'SeedPaths', 'CodeaCamp',\n",
       "       'We Can Code IT', 'Code Platoon', 'Claim Academy', 'Code Institute',\n",
       "       'Code Union', 'CodeMasters Academy', 'AngelHack Education',\n",
       "       'HackerYou', 'Base10 Academy', 'Byte Academy', 'Code 42',\n",
       "       'Stackademy', 'World Tech Makers', 'Big Nerd Ranch',\n",
       "       'Science to Data Science', 'AcadGild', 'Alphappl',\n",
       "       'Data Science Dojo', 'Founders & Coders', 'codeU', 'We Got Coders',\n",
       "       'Ruby On The Beach', 'Code For Progress', 'Le Wagon',\n",
       "       'Codecademy Labs', 'Academic Work Academy', 'Eleven Fifty Academy',\n",
       "       'Austin Coding Academy', 'DESIGNATION', 'Operation Spark',\n",
       "       \"Coder's Lab\", 'Origin Code Academy', 'TalentBuddy',\n",
       "       'Astro Code School'], dtype=object)"
      ]
     },
     "execution_count": 6,
     "metadata": {},
     "output_type": "execute_result"
    }
   ],
   "source": [
    "df.BootcampName.unique()"
   ]
  },
  {
   "cell_type": "code",
   "execution_count": 80,
   "metadata": {
    "collapsed": false
   },
   "outputs": [
    {
     "data": {
      "text/html": [
       "<table class=\"simpletable\">\n",
       "<caption>OLS Regression Results</caption>\n",
       "<tr>\n",
       "  <th>Dep. Variable:</th>    <td>BootcampFullJobAfter</td> <th>  R-squared:         </th> <td>   0.000</td>\n",
       "</tr>\n",
       "<tr>\n",
       "  <th>Model:</th>                     <td>OLS</td>         <th>  Adj. R-squared:    </th> <td>   0.000</td>\n",
       "</tr>\n",
       "<tr>\n",
       "  <th>Method:</th>               <td>Least Squares</td>    <th>  F-statistic:       </th> <td>     inf</td>\n",
       "</tr>\n",
       "<tr>\n",
       "  <th>Date:</th>               <td>Tue, 14 Jun 2016</td>   <th>  Prob (F-statistic):</th>  <td>   nan</td> \n",
       "</tr>\n",
       "<tr>\n",
       "  <th>Time:</th>                   <td>18:15:28</td>       <th>  Log-Likelihood:    </th> <td> -451.73</td>\n",
       "</tr>\n",
       "<tr>\n",
       "  <th>No. Observations:</th>        <td>   635</td>        <th>  AIC:               </th> <td>   905.5</td>\n",
       "</tr>\n",
       "<tr>\n",
       "  <th>Df Residuals:</th>            <td>   634</td>        <th>  BIC:               </th> <td>   909.9</td>\n",
       "</tr>\n",
       "<tr>\n",
       "  <th>Df Model:</th>                <td>     0</td>        <th>                     </th>     <td> </td>   \n",
       "</tr>\n",
       "<tr>\n",
       "  <th>Covariance Type:</th>        <td>nonrobust</td>      <th>                     </th>     <td> </td>   \n",
       "</tr>\n",
       "</table>\n",
       "<table class=\"simpletable\">\n",
       "<tr>\n",
       "          <td></td>            <th>coef</th>     <th>std err</th>      <th>t</th>      <th>P>|t|</th> <th>[95.0% Conf. Int.]</th> \n",
       "</tr>\n",
       "<tr>\n",
       "  <th>Intercept</th>        <td>    0.2921</td> <td>    0.010</td> <td>   29.849</td> <td> 0.000</td> <td>    0.273     0.311</td>\n",
       "</tr>\n",
       "<tr>\n",
       "  <th>AttendedBootcamp</th> <td>    0.2921</td> <td>    0.010</td> <td>   29.849</td> <td> 0.000</td> <td>    0.273     0.311</td>\n",
       "</tr>\n",
       "</table>\n",
       "<table class=\"simpletable\">\n",
       "<tr>\n",
       "  <th>Omnibus:</th>       <td>12.001</td> <th>  Durbin-Watson:     </th> <td>   1.861</td>\n",
       "</tr>\n",
       "<tr>\n",
       "  <th>Prob(Omnibus):</th> <td> 0.002</td> <th>  Jarque-Bera (JB):  </th> <td> 106.195</td>\n",
       "</tr>\n",
       "<tr>\n",
       "  <th>Skew:</th>          <td>-0.342</td> <th>  Prob(JB):          </th> <td>8.71e-24</td>\n",
       "</tr>\n",
       "<tr>\n",
       "  <th>Kurtosis:</th>      <td> 1.117</td> <th>  Cond. No.          </th> <td>     inf</td>\n",
       "</tr>\n",
       "</table>"
      ],
      "text/plain": [
       "<class 'statsmodels.iolib.summary.Summary'>\n",
       "\"\"\"\n",
       "                             OLS Regression Results                             \n",
       "================================================================================\n",
       "Dep. Variable:     BootcampFullJobAfter   R-squared:                       0.000\n",
       "Model:                              OLS   Adj. R-squared:                  0.000\n",
       "Method:                   Least Squares   F-statistic:                       inf\n",
       "Date:                  Tue, 14 Jun 2016   Prob (F-statistic):                nan\n",
       "Time:                          18:15:28   Log-Likelihood:                -451.73\n",
       "No. Observations:                   635   AIC:                             905.5\n",
       "Df Residuals:                       634   BIC:                             909.9\n",
       "Df Model:                             0                                         \n",
       "Covariance Type:              nonrobust                                         \n",
       "====================================================================================\n",
       "                       coef    std err          t      P>|t|      [95.0% Conf. Int.]\n",
       "------------------------------------------------------------------------------------\n",
       "Intercept            0.2921      0.010     29.849      0.000         0.273     0.311\n",
       "AttendedBootcamp     0.2921      0.010     29.849      0.000         0.273     0.311\n",
       "==============================================================================\n",
       "Omnibus:                       12.001   Durbin-Watson:                   1.861\n",
       "Prob(Omnibus):                  0.002   Jarque-Bera (JB):              106.195\n",
       "Skew:                          -0.342   Prob(JB):                     8.71e-24\n",
       "Kurtosis:                       1.117   Cond. No.                          inf\n",
       "==============================================================================\n",
       "\n",
       "Warnings:\n",
       "[1] Standard Errors assume that the covariance matrix of the errors is correctly specified.\n",
       "[2] The smallest eigenvalue is      0. This might indicate that there are\n",
       "strong multicollinearity problems or that the design matrix is singular.\n",
       "\"\"\""
      ]
     },
     "execution_count": 80,
     "metadata": {},
     "output_type": "execute_result"
    }
   ],
   "source": [
    "model = smf.ols(formula = 'BootcampFullJobAfter ~ AttendedBootcamp ', data = df).fit()\n",
    "model.summary()\n",
    "\n",
    "\n",
    "#NEED TO TURN INTO BINARY VARIABLES"
   ]
  },
  {
   "cell_type": "markdown",
   "metadata": {},
   "source": [
    "## Look at 'Age'"
   ]
  },
  {
   "cell_type": "code",
   "execution_count": 83,
   "metadata": {
    "collapsed": false
   },
   "outputs": [
    {
     "data": {
      "text/plain": [
       "13613"
      ]
     },
     "execution_count": 83,
     "metadata": {},
     "output_type": "execute_result"
    }
   ],
   "source": [
    "len(df.Age.dropna())"
   ]
  },
  {
   "cell_type": "code",
   "execution_count": 85,
   "metadata": {
    "collapsed": false
   },
   "outputs": [
    {
     "data": {
      "text/plain": [
       "15620"
      ]
     },
     "execution_count": 85,
     "metadata": {},
     "output_type": "execute_result"
    }
   ],
   "source": [
    "len(df.Age.isnull())"
   ]
  },
  {
   "cell_type": "code",
   "execution_count": 86,
   "metadata": {
    "collapsed": false
   },
   "outputs": [
    {
     "data": {
      "text/plain": [
       "15620"
      ]
     },
     "execution_count": 86,
     "metadata": {},
     "output_type": "execute_result"
    }
   ],
   "source": [
    "len(df.Age)"
   ]
  },
  {
   "cell_type": "markdown",
   "metadata": {},
   "source": [
    "## Look at 'AttendedBootcamp'"
   ]
  },
  {
   "cell_type": "code",
   "execution_count": 62,
   "metadata": {
    "collapsed": false
   },
   "outputs": [
    {
     "data": {
      "text/plain": [
       "array([  0.,  nan,   1.])"
      ]
     },
     "execution_count": 62,
     "metadata": {},
     "output_type": "execute_result"
    }
   ],
   "source": [
    "df.AttendedBootcamp.unique()"
   ]
  },
  {
   "cell_type": "code",
   "execution_count": 63,
   "metadata": {
    "collapsed": false
   },
   "outputs": [
    {
     "data": {
      "text/plain": [
       "0.0    14427\n",
       "1.0      953\n",
       "Name: AttendedBootcamp, dtype: int64"
      ]
     },
     "execution_count": 63,
     "metadata": {},
     "output_type": "execute_result"
    }
   ],
   "source": [
    "df.AttendedBootcamp.value_counts()"
   ]
  },
  {
   "cell_type": "code",
   "execution_count": 68,
   "metadata": {
    "collapsed": false
   },
   "outputs": [
    {
     "data": {
      "text/plain": [
       "15380"
      ]
     },
     "execution_count": 68,
     "metadata": {},
     "output_type": "execute_result"
    }
   ],
   "source": [
    "df.AttendedBootcamp.count()"
   ]
  },
  {
   "cell_type": "markdown",
   "metadata": {},
   "source": [
    "## Look at 'Bootcamp Finish'"
   ]
  },
  {
   "cell_type": "code",
   "execution_count": 41,
   "metadata": {
    "collapsed": false
   },
   "outputs": [
    {
     "data": {
      "text/plain": [
       "array([ nan,   1.,   0.])"
      ]
     },
     "execution_count": 41,
     "metadata": {},
     "output_type": "execute_result"
    }
   ],
   "source": [
    "df.BootcampFinish.unique()"
   ]
  },
  {
   "cell_type": "code",
   "execution_count": 59,
   "metadata": {
    "collapsed": false
   },
   "outputs": [
    {
     "data": {
      "text/plain": [
       "1.0    643\n",
       "0.0    290\n",
       "Name: BootcampFinish, dtype: int64"
      ]
     },
     "execution_count": 59,
     "metadata": {},
     "output_type": "execute_result"
    }
   ],
   "source": [
    "df.BootcampFinish.value_counts()"
   ]
  },
  {
   "cell_type": "code",
   "execution_count": 60,
   "metadata": {
    "collapsed": false
   },
   "outputs": [
    {
     "data": {
      "text/plain": [
       "933"
      ]
     },
     "execution_count": 60,
     "metadata": {},
     "output_type": "execute_result"
    }
   ],
   "source": [
    "len(df.BootcampFinish.dropna())"
   ]
  },
  {
   "cell_type": "markdown",
   "metadata": {},
   "source": [
    "## Look at 'BootcampFullJobAfter'"
   ]
  },
  {
   "cell_type": "code",
   "execution_count": 35,
   "metadata": {
    "collapsed": false
   },
   "outputs": [
    {
     "data": {
      "text/plain": [
       "array([ nan,   0.,   1.])"
      ]
     },
     "execution_count": 35,
     "metadata": {},
     "output_type": "execute_result"
    }
   ],
   "source": [
    "df.BootcampFullJobAfter.unique()"
   ]
  },
  {
   "cell_type": "code",
   "execution_count": 17,
   "metadata": {
    "collapsed": false
   },
   "outputs": [
    {
     "data": {
      "text/plain": [
       "1.0    371\n",
       "0.0    264\n",
       "Name: BootcampFullJobAfter, dtype: int64"
      ]
     },
     "execution_count": 17,
     "metadata": {},
     "output_type": "execute_result"
    }
   ],
   "source": [
    "df.BootcampFullJobAfter.value_counts()"
   ]
  },
  {
   "cell_type": "code",
   "execution_count": 58,
   "metadata": {
    "collapsed": false
   },
   "outputs": [
    {
     "data": {
      "text/plain": [
       "635"
      ]
     },
     "execution_count": 58,
     "metadata": {},
     "output_type": "execute_result"
    }
   ],
   "source": [
    "len(df.BootcampFullJobAfter.dropna())"
   ]
  },
  {
   "cell_type": "code",
   "execution_count": 20,
   "metadata": {
    "collapsed": false
   },
   "outputs": [
    {
     "data": {
      "text/plain": [
       "Age                    -0.276556\n",
       "AttendedBootcamp             NaN\n",
       "BootcampFinish               NaN\n",
       "BootcampFullJobAfter    1.000000\n",
       "BootcampLoanYesNo      -0.001930\n",
       "                          ...   \n",
       "ResourceUdacity              NaN\n",
       "ResourceUdemy                NaN\n",
       "ResourceW3Schools            NaN\n",
       "ResourceYouTube              NaN\n",
       "StudentDebtOwe          0.051056\n",
       "Name: BootcampFullJobAfter, dtype: float64"
      ]
     },
     "execution_count": 20,
     "metadata": {},
     "output_type": "execute_result"
    }
   ],
   "source": [
    "df.corr().BootcampFullJobAfter"
   ]
  },
  {
   "cell_type": "markdown",
   "metadata": {},
   "source": [
    "## Look at 'ExpectedEarning'"
   ]
  },
  {
   "cell_type": "code",
   "execution_count": 71,
   "metadata": {
    "collapsed": false
   },
   "outputs": [
    {
     "data": {
      "text/plain": [
       "6077"
      ]
     },
     "execution_count": 71,
     "metadata": {},
     "output_type": "execute_result"
    }
   ],
   "source": [
    "len(df.ExpectedEarning.dropna())"
   ]
  },
  {
   "cell_type": "markdown",
   "metadata": {},
   "source": [
    "## Look at 'BootcampPostSalary'"
   ]
  },
  {
   "cell_type": "code",
   "execution_count": 76,
   "metadata": {
    "collapsed": false
   },
   "outputs": [
    {
     "data": {
      "text/plain": [
       "330"
      ]
     },
     "execution_count": 76,
     "metadata": {},
     "output_type": "execute_result"
    }
   ],
   "source": [
    "len(df.BootcampPostSalary.dropna())"
   ]
  },
  {
   "cell_type": "markdown",
   "metadata": {},
   "source": [
    "## Look at 'IsSoftwareDev'"
   ]
  },
  {
   "cell_type": "code",
   "execution_count": 78,
   "metadata": {
    "collapsed": false
   },
   "outputs": [
    {
     "data": {
      "text/plain": [
       "0.0    11234\n",
       "1.0     4303\n",
       "Name: IsSoftwareDev, dtype: int64"
      ]
     },
     "execution_count": 78,
     "metadata": {},
     "output_type": "execute_result"
    }
   ],
   "source": [
    "df.IsSoftwareDev.value_counts()"
   ]
  },
  {
   "cell_type": "markdown",
   "metadata": {},
   "source": [
    "## Look at 'MonthsProgramming'"
   ]
  },
  {
   "cell_type": "code",
   "execution_count": 79,
   "metadata": {
    "collapsed": false
   },
   "outputs": [
    {
     "data": {
      "text/plain": [
       "12.0     1549\n",
       "6.0      1345\n",
       "1.0      1253\n",
       "3.0      1190\n",
       "2.0      1119\n",
       "         ... \n",
       "145.0       1\n",
       "146.0       1\n",
       "148.0       1\n",
       "157.0       1\n",
       "340.0       1\n",
       "Name: MonthsProgramming, dtype: int64"
      ]
     },
     "execution_count": 79,
     "metadata": {},
     "output_type": "execute_result"
    }
   ],
   "source": [
    "df.MonthsProgramming.value_counts()"
   ]
  },
  {
   "cell_type": "markdown",
   "metadata": {},
   "source": [
    "# Linear Modeling with `sklearn`  \n",
    "\n",
    "*from codealong 7*"
   ]
  },
  {
   "cell_type": "markdown",
   "metadata": {},
   "source": [
    "Look At:\n",
    "    - Age \n",
    "    - AttendedBootcamp (y/n)\n",
    "    - BootcampFinish (y/n)\n",
    "    - BootcampFullJobAfter (y/n)\n",
    "    - ExpectedEarning\n",
    "    - BootcampPostSalary\n",
    "    - IsSoftwareDev\n",
    "    - MonthsProgramming"
   ]
  },
  {
   "cell_type": "code",
   "execution_count": 87,
   "metadata": {
    "collapsed": true
   },
   "outputs": [],
   "source": [
    "subset_df = df.dropna(axis = 'index', subset = ['Age', 'AttendedBootcamp', 'ExpectedEarning', 'BootcampFinish', 'BootcampFullJobAfter', 'ExpectedEarning', 'BootcampPostSalary', 'IsSoftwareDev', 'MonthsProgramming'])"
   ]
  },
  {
   "cell_type": "code",
   "execution_count": 95,
   "metadata": {
    "collapsed": false
   },
   "outputs": [],
   "source": [
    "def linear_modeling_with_sklearn(X, y):\n",
    "    model = linear_model.LinearRegression(fit_intercept = True)\n",
    "    model.fit(X, y)\n",
    "\n",
    "    print 'F-statistic (performed for each regressor independently)'\n",
    "    print '- F-value', feature_selection.f_regression(X, y)[0]\n",
    "    print '- p-value', feature_selection.f_regression(X, y)[1]\n",
    "    print 'R^2 =', model.score(X, y)\n",
    "    print 'Coefficients'\n",
    "    print '- beta_0 (intercept) =', model.intercept_\n",
    "    print '- beta_n (n > 0)     =', model.coef_"
   ]
  },
  {
   "cell_type": "markdown",
   "metadata": {},
   "source": [
    "### BootcampPostSalary ~ Age with `statsmodels`"
   ]
  },
  {
   "cell_type": "code",
   "execution_count": 90,
   "metadata": {
    "collapsed": false
   },
   "outputs": [
    {
     "data": {
      "text/html": [
       "<table class=\"simpletable\">\n",
       "<caption>OLS Regression Results</caption>\n",
       "<tr>\n",
       "  <th>Dep. Variable:</th>    <td>BootcampPostSalary</td> <th>  R-squared:         </th> <td>   0.176</td>\n",
       "</tr>\n",
       "<tr>\n",
       "  <th>Model:</th>                    <td>OLS</td>        <th>  Adj. R-squared:    </th> <td>   0.101</td>\n",
       "</tr>\n",
       "<tr>\n",
       "  <th>Method:</th>              <td>Least Squares</td>   <th>  F-statistic:       </th> <td>   2.345</td>\n",
       "</tr>\n",
       "<tr>\n",
       "  <th>Date:</th>              <td>Tue, 14 Jun 2016</td>  <th>  Prob (F-statistic):</th>  <td> 0.154</td> \n",
       "</tr>\n",
       "<tr>\n",
       "  <th>Time:</th>                  <td>18:26:05</td>      <th>  Log-Likelihood:    </th> <td> -153.66</td>\n",
       "</tr>\n",
       "<tr>\n",
       "  <th>No. Observations:</th>       <td>    13</td>       <th>  AIC:               </th> <td>   311.3</td>\n",
       "</tr>\n",
       "<tr>\n",
       "  <th>Df Residuals:</th>           <td>    11</td>       <th>  BIC:               </th> <td>   312.4</td>\n",
       "</tr>\n",
       "<tr>\n",
       "  <th>Df Model:</th>               <td>     1</td>       <th>                     </th>     <td> </td>   \n",
       "</tr>\n",
       "<tr>\n",
       "  <th>Covariance Type:</th>       <td>nonrobust</td>     <th>                     </th>     <td> </td>   \n",
       "</tr>\n",
       "</table>\n",
       "<table class=\"simpletable\">\n",
       "<tr>\n",
       "      <td></td>         <th>coef</th>     <th>std err</th>      <th>t</th>      <th>P>|t|</th> <th>[95.0% Conf. Int.]</th> \n",
       "</tr>\n",
       "<tr>\n",
       "  <th>Intercept</th> <td> 1.186e+05</td> <td> 4.04e+04</td> <td>    2.935</td> <td> 0.014</td> <td> 2.97e+04  2.08e+05</td>\n",
       "</tr>\n",
       "<tr>\n",
       "  <th>Age</th>       <td>-1785.1071</td> <td> 1165.682</td> <td>   -1.531</td> <td> 0.154</td> <td>-4350.755   780.541</td>\n",
       "</tr>\n",
       "</table>\n",
       "<table class=\"simpletable\">\n",
       "<tr>\n",
       "  <th>Omnibus:</th>       <td> 6.699</td> <th>  Durbin-Watson:     </th> <td>   2.471</td>\n",
       "</tr>\n",
       "<tr>\n",
       "  <th>Prob(Omnibus):</th> <td> 0.035</td> <th>  Jarque-Bera (JB):  </th> <td>   3.471</td>\n",
       "</tr>\n",
       "<tr>\n",
       "  <th>Skew:</th>          <td> 1.218</td> <th>  Prob(JB):          </th> <td>   0.176</td>\n",
       "</tr>\n",
       "<tr>\n",
       "  <th>Kurtosis:</th>      <td> 3.689</td> <th>  Cond. No.          </th> <td>    141.</td>\n",
       "</tr>\n",
       "</table>"
      ],
      "text/plain": [
       "<class 'statsmodels.iolib.summary.Summary'>\n",
       "\"\"\"\n",
       "                            OLS Regression Results                            \n",
       "==============================================================================\n",
       "Dep. Variable:     BootcampPostSalary   R-squared:                       0.176\n",
       "Model:                            OLS   Adj. R-squared:                  0.101\n",
       "Method:                 Least Squares   F-statistic:                     2.345\n",
       "Date:                Tue, 14 Jun 2016   Prob (F-statistic):              0.154\n",
       "Time:                        18:26:05   Log-Likelihood:                -153.66\n",
       "No. Observations:                  13   AIC:                             311.3\n",
       "Df Residuals:                      11   BIC:                             312.4\n",
       "Df Model:                           1                                         \n",
       "Covariance Type:            nonrobust                                         \n",
       "==============================================================================\n",
       "                 coef    std err          t      P>|t|      [95.0% Conf. Int.]\n",
       "------------------------------------------------------------------------------\n",
       "Intercept   1.186e+05   4.04e+04      2.935      0.014      2.97e+04  2.08e+05\n",
       "Age        -1785.1071   1165.682     -1.531      0.154     -4350.755   780.541\n",
       "==============================================================================\n",
       "Omnibus:                        6.699   Durbin-Watson:                   2.471\n",
       "Prob(Omnibus):                  0.035   Jarque-Bera (JB):                3.471\n",
       "Skew:                           1.218   Prob(JB):                        0.176\n",
       "Kurtosis:                       3.689   Cond. No.                         141.\n",
       "==============================================================================\n",
       "\n",
       "Warnings:\n",
       "[1] Standard Errors assume that the covariance matrix of the errors is correctly specified.\n",
       "\"\"\""
      ]
     },
     "execution_count": 90,
     "metadata": {},
     "output_type": "execute_result"
    }
   ],
   "source": [
    "smf.ols(formula = 'BootcampPostSalary ~ Age', data = subset_df).fit().summary()"
   ]
  },
  {
   "cell_type": "markdown",
   "metadata": {},
   "source": [
    "### BootcampPostSalary ~ Age with `sklearn` (Simple Linear Modeling)"
   ]
  },
  {
   "cell_type": "code",
   "execution_count": 97,
   "metadata": {
    "collapsed": false
   },
   "outputs": [
    {
     "name": "stdout",
     "output_type": "stream",
     "text": [
      "F-statistic (performed for each regressor independently)\n",
      "- F-value [ 2.34513854]\n",
      "- p-value [ 0.15391303]\n",
      "R^2 = 0.17572980126\n",
      "Coefficients\n",
      "- beta_0 (intercept) = 118622.445643\n",
      "- beta_n (n > 0)     = [-1785.10707863]\n"
     ]
    }
   ],
   "source": [
    "X = subset_df[ ['Age'] ]\n",
    "y = subset_df.BootcampPostSalary\n",
    "\n",
    "linear_modeling_with_sklearn(X, y)"
   ]
  },
  {
   "cell_type": "markdown",
   "metadata": {},
   "source": [
    "### BootcampPostSalary ~ Age + MonthsProgramming with `statsmodels`"
   ]
  },
  {
   "cell_type": "code",
   "execution_count": 98,
   "metadata": {
    "collapsed": false
   },
   "outputs": [
    {
     "data": {
      "text/html": [
       "<table class=\"simpletable\">\n",
       "<caption>OLS Regression Results</caption>\n",
       "<tr>\n",
       "  <th>Dep. Variable:</th>    <td>BootcampPostSalary</td> <th>  R-squared:         </th> <td>   0.319</td>\n",
       "</tr>\n",
       "<tr>\n",
       "  <th>Model:</th>                    <td>OLS</td>        <th>  Adj. R-squared:    </th> <td>   0.183</td>\n",
       "</tr>\n",
       "<tr>\n",
       "  <th>Method:</th>              <td>Least Squares</td>   <th>  F-statistic:       </th> <td>   2.341</td>\n",
       "</tr>\n",
       "<tr>\n",
       "  <th>Date:</th>              <td>Tue, 14 Jun 2016</td>  <th>  Prob (F-statistic):</th>  <td> 0.147</td> \n",
       "</tr>\n",
       "<tr>\n",
       "  <th>Time:</th>                  <td>18:29:03</td>      <th>  Log-Likelihood:    </th> <td> -152.42</td>\n",
       "</tr>\n",
       "<tr>\n",
       "  <th>No. Observations:</th>       <td>    13</td>       <th>  AIC:               </th> <td>   310.8</td>\n",
       "</tr>\n",
       "<tr>\n",
       "  <th>Df Residuals:</th>           <td>    10</td>       <th>  BIC:               </th> <td>   312.5</td>\n",
       "</tr>\n",
       "<tr>\n",
       "  <th>Df Model:</th>               <td>     2</td>       <th>                     </th>     <td> </td>   \n",
       "</tr>\n",
       "<tr>\n",
       "  <th>Covariance Type:</th>       <td>nonrobust</td>     <th>                     </th>     <td> </td>   \n",
       "</tr>\n",
       "</table>\n",
       "<table class=\"simpletable\">\n",
       "<tr>\n",
       "          <td></td>             <th>coef</th>     <th>std err</th>      <th>t</th>      <th>P>|t|</th> <th>[95.0% Conf. Int.]</th> \n",
       "</tr>\n",
       "<tr>\n",
       "  <th>Intercept</th>         <td> 1.223e+05</td> <td> 3.86e+04</td> <td>    3.168</td> <td> 0.010</td> <td> 3.63e+04  2.08e+05</td>\n",
       "</tr>\n",
       "<tr>\n",
       "  <th>Age</th>               <td>-1475.2106</td> <td> 1131.748</td> <td>   -1.303</td> <td> 0.222</td> <td>-3996.901  1046.480</td>\n",
       "</tr>\n",
       "<tr>\n",
       "  <th>MonthsProgramming</th> <td> -686.0792</td> <td>  473.290</td> <td>   -1.450</td> <td> 0.178</td> <td>-1740.636   368.477</td>\n",
       "</tr>\n",
       "</table>\n",
       "<table class=\"simpletable\">\n",
       "<tr>\n",
       "  <th>Omnibus:</th>       <td> 5.524</td> <th>  Durbin-Watson:     </th> <td>   2.965</td>\n",
       "</tr>\n",
       "<tr>\n",
       "  <th>Prob(Omnibus):</th> <td> 0.063</td> <th>  Jarque-Bera (JB):  </th> <td>   2.752</td>\n",
       "</tr>\n",
       "<tr>\n",
       "  <th>Skew:</th>          <td> 1.097</td> <th>  Prob(JB):          </th> <td>   0.253</td>\n",
       "</tr>\n",
       "<tr>\n",
       "  <th>Kurtosis:</th>      <td> 3.518</td> <th>  Cond. No.          </th> <td>    172.</td>\n",
       "</tr>\n",
       "</table>"
      ],
      "text/plain": [
       "<class 'statsmodels.iolib.summary.Summary'>\n",
       "\"\"\"\n",
       "                            OLS Regression Results                            \n",
       "==============================================================================\n",
       "Dep. Variable:     BootcampPostSalary   R-squared:                       0.319\n",
       "Model:                            OLS   Adj. R-squared:                  0.183\n",
       "Method:                 Least Squares   F-statistic:                     2.341\n",
       "Date:                Tue, 14 Jun 2016   Prob (F-statistic):              0.147\n",
       "Time:                        18:29:03   Log-Likelihood:                -152.42\n",
       "No. Observations:                  13   AIC:                             310.8\n",
       "Df Residuals:                      10   BIC:                             312.5\n",
       "Df Model:                           2                                         \n",
       "Covariance Type:            nonrobust                                         \n",
       "=====================================================================================\n",
       "                        coef    std err          t      P>|t|      [95.0% Conf. Int.]\n",
       "-------------------------------------------------------------------------------------\n",
       "Intercept          1.223e+05   3.86e+04      3.168      0.010      3.63e+04  2.08e+05\n",
       "Age               -1475.2106   1131.748     -1.303      0.222     -3996.901  1046.480\n",
       "MonthsProgramming  -686.0792    473.290     -1.450      0.178     -1740.636   368.477\n",
       "==============================================================================\n",
       "Omnibus:                        5.524   Durbin-Watson:                   2.965\n",
       "Prob(Omnibus):                  0.063   Jarque-Bera (JB):                2.752\n",
       "Skew:                           1.097   Prob(JB):                        0.253\n",
       "Kurtosis:                       3.518   Cond. No.                         172.\n",
       "==============================================================================\n",
       "\n",
       "Warnings:\n",
       "[1] Standard Errors assume that the covariance matrix of the errors is correctly specified.\n",
       "\"\"\""
      ]
     },
     "execution_count": 98,
     "metadata": {},
     "output_type": "execute_result"
    }
   ],
   "source": [
    "smf.ols(formula = 'BootcampPostSalary ~ Age + MonthsProgramming', data = subset_df).fit().summary()"
   ]
  },
  {
   "cell_type": "code",
   "execution_count": 33,
   "metadata": {
    "collapsed": false
   },
   "outputs": [],
   "source": [
    "#model = smf.ols(formula = 'BootcampFullJobAfter ~ AttendedBootcamp + age + gender + age * gender', data = df).fit()\n",
    "#model.summary()\n",
    "\n",
    "\n",
    "#'gpm ~ weight + age + horsepower_sqrt + age * horsepower_sqrt', data = df).fit()"
   ]
  },
  {
   "cell_type": "code",
   "execution_count": 31,
   "metadata": {
    "collapsed": true
   },
   "outputs": [],
   "source": [
    "#code the bootcamps people went to into #S"
   ]
  },
  {
   "cell_type": "markdown",
   "metadata": {},
   "source": [
    "### BootcampPostSalary ~ Age + MonthsProgramming with `sklearn` (Multiple Linear Modeling)"
   ]
  },
  {
   "cell_type": "code",
   "execution_count": 99,
   "metadata": {
    "collapsed": false
   },
   "outputs": [
    {
     "name": "stdout",
     "output_type": "stream",
     "text": [
      "F-statistic (performed for each regressor independently)\n",
      "- F-value [ 2.34513854  2.80400347]\n",
      "- p-value [ 0.15391303  0.12219244]\n",
      "R^2 = 0.318859605907\n",
      "Coefficients\n",
      "- beta_0 (intercept) = 122348.94268\n",
      "- beta_n (n > 0)     = [-1475.21057566  -686.07922862]\n"
     ]
    }
   ],
   "source": [
    "X = subset_df[ ['Age', 'MonthsProgramming'] ]\n",
    "y = subset_df.BootcampPostSalary\n",
    "\n",
    "linear_modeling_with_sklearn(X, y)"
   ]
  },
  {
   "cell_type": "code",
   "execution_count": null,
   "metadata": {
    "collapsed": true
   },
   "outputs": [],
   "source": []
  }
 ],
 "metadata": {
  "kernelspec": {
   "display_name": "Python 2",
   "language": "python",
   "name": "python2"
  },
  "language_info": {
   "codemirror_mode": {
    "name": "ipython",
    "version": 2
   },
   "file_extension": ".py",
   "mimetype": "text/x-python",
   "name": "python",
   "nbconvert_exporter": "python",
   "pygments_lexer": "ipython2",
   "version": "2.7.11"
  }
 },
 "nbformat": 4,
 "nbformat_minor": 0
}
